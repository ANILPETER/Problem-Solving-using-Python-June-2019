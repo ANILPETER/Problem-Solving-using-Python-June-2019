{
 "cells": [
  {
   "cell_type": "markdown",
   "metadata": {},
   "source": [
    "## Dictonaries\n",
    "\n",
    "It works on the concept of set\n",
    "Unique data\n",
    "\n",
    "Keys,Values\n",
    "\n",
    "- **Key** unique Identifier for a value\n",
    "- **Value** is data that can be acessed with a key\n",
    "    \n",
    "    "
   ]
  },
  {
   "cell_type": "code",
   "execution_count": 1,
   "metadata": {},
   "outputs": [
    {
     "data": {
      "text/plain": [
       "dict_items([('Name', 'Anil Peter'), ('Role', 'Trainer cum Developer'), ('Brother', 'Raju')])"
      ]
     },
     "execution_count": 1,
     "metadata": {},
     "output_type": "execute_result"
    }
   ],
   "source": [
    "d1={'Name':'Anil Peter','Role':'Trainer cum Developer','Organisation':'APSSDC'}\n",
    "d1 # returns entire Dictonary\n",
    "d1['Name'] # We can accessing the value only by Keys\n",
    "d1.keys()  # return list of keys\n",
    "d1.values() # return list of values\n",
    "d1.items()  # returns the list of tuples of Keys and Values\n",
    "d1['Brother']='Raju' # Updationg for a value\n",
    "d1.pop(\"Organisation\")\n",
    "d1.items()\n",
    "\n"
   ]
  },
  {
   "cell_type": "code",
   "execution_count": 2,
   "metadata": {},
   "outputs": [
    {
     "name": "stdout",
     "output_type": "stream",
     "text": [
      "Help on class dict in module builtins:\n",
      "\n",
      "class dict(object)\n",
      " |  dict() -> new empty dictionary\n",
      " |  dict(mapping) -> new dictionary initialized from a mapping object's\n",
      " |      (key, value) pairs\n",
      " |  dict(iterable) -> new dictionary initialized as if via:\n",
      " |      d = {}\n",
      " |      for k, v in iterable:\n",
      " |          d[k] = v\n",
      " |  dict(**kwargs) -> new dictionary initialized with the name=value pairs\n",
      " |      in the keyword argument list.  For example:  dict(one=1, two=2)\n",
      " |  \n",
      " |  Methods defined here:\n",
      " |  \n",
      " |  __contains__(self, key, /)\n",
      " |      True if the dictionary has the specified key, else False.\n",
      " |  \n",
      " |  __delitem__(self, key, /)\n",
      " |      Delete self[key].\n",
      " |  \n",
      " |  __eq__(self, value, /)\n",
      " |      Return self==value.\n",
      " |  \n",
      " |  __ge__(self, value, /)\n",
      " |      Return self>=value.\n",
      " |  \n",
      " |  __getattribute__(self, name, /)\n",
      " |      Return getattr(self, name).\n",
      " |  \n",
      " |  __getitem__(...)\n",
      " |      x.__getitem__(y) <==> x[y]\n",
      " |  \n",
      " |  __gt__(self, value, /)\n",
      " |      Return self>value.\n",
      " |  \n",
      " |  __init__(self, /, *args, **kwargs)\n",
      " |      Initialize self.  See help(type(self)) for accurate signature.\n",
      " |  \n",
      " |  __iter__(self, /)\n",
      " |      Implement iter(self).\n",
      " |  \n",
      " |  __le__(self, value, /)\n",
      " |      Return self<=value.\n",
      " |  \n",
      " |  __len__(self, /)\n",
      " |      Return len(self).\n",
      " |  \n",
      " |  __lt__(self, value, /)\n",
      " |      Return self<value.\n",
      " |  \n",
      " |  __ne__(self, value, /)\n",
      " |      Return self!=value.\n",
      " |  \n",
      " |  __repr__(self, /)\n",
      " |      Return repr(self).\n",
      " |  \n",
      " |  __setitem__(self, key, value, /)\n",
      " |      Set self[key] to value.\n",
      " |  \n",
      " |  __sizeof__(...)\n",
      " |      D.__sizeof__() -> size of D in memory, in bytes\n",
      " |  \n",
      " |  clear(...)\n",
      " |      D.clear() -> None.  Remove all items from D.\n",
      " |  \n",
      " |  copy(...)\n",
      " |      D.copy() -> a shallow copy of D\n",
      " |  \n",
      " |  get(self, key, default=None, /)\n",
      " |      Return the value for key if key is in the dictionary, else default.\n",
      " |  \n",
      " |  items(...)\n",
      " |      D.items() -> a set-like object providing a view on D's items\n",
      " |  \n",
      " |  keys(...)\n",
      " |      D.keys() -> a set-like object providing a view on D's keys\n",
      " |  \n",
      " |  pop(...)\n",
      " |      D.pop(k[,d]) -> v, remove specified key and return the corresponding value.\n",
      " |      If key is not found, d is returned if given, otherwise KeyError is raised\n",
      " |  \n",
      " |  popitem(...)\n",
      " |      D.popitem() -> (k, v), remove and return some (key, value) pair as a\n",
      " |      2-tuple; but raise KeyError if D is empty.\n",
      " |  \n",
      " |  setdefault(self, key, default=None, /)\n",
      " |      Insert key with a value of default if key is not in the dictionary.\n",
      " |      \n",
      " |      Return the value for key if key is in the dictionary, else default.\n",
      " |  \n",
      " |  update(...)\n",
      " |      D.update([E, ]**F) -> None.  Update D from dict/iterable E and F.\n",
      " |      If E is present and has a .keys() method, then does:  for k in E: D[k] = E[k]\n",
      " |      If E is present and lacks a .keys() method, then does:  for k, v in E: D[k] = v\n",
      " |      In either case, this is followed by: for k in F:  D[k] = F[k]\n",
      " |  \n",
      " |  values(...)\n",
      " |      D.values() -> an object providing a view on D's values\n",
      " |  \n",
      " |  ----------------------------------------------------------------------\n",
      " |  Class methods defined here:\n",
      " |  \n",
      " |  fromkeys(iterable, value=None, /) from builtins.type\n",
      " |      Create a new dictionary with keys from iterable and values set to value.\n",
      " |  \n",
      " |  ----------------------------------------------------------------------\n",
      " |  Static methods defined here:\n",
      " |  \n",
      " |  __new__(*args, **kwargs) from builtins.type\n",
      " |      Create and return a new object.  See help(type) for accurate signature.\n",
      " |  \n",
      " |  ----------------------------------------------------------------------\n",
      " |  Data and other attributes defined here:\n",
      " |  \n",
      " |  __hash__ = None\n",
      "\n"
     ]
    }
   ],
   "source": [
    "help(dict)"
   ]
  },
  {
   "cell_type": "markdown",
   "metadata": {},
   "source": [
    "### Contacts Application\n",
    "\n",
    "\n",
    "- Add Contact\n",
    "- Search for contacts\n",
    "- List all contacts\n",
    "- Modify contact\n",
    "- Remove contact"
   ]
  },
  {
   "cell_type": "code",
   "execution_count": 3,
   "metadata": {},
   "outputs": [],
   "source": [
    "Contacts={}"
   ]
  },
  {
   "cell_type": "code",
   "execution_count": 4,
   "metadata": {},
   "outputs": [],
   "source": [
    "def AddContact(Name,Contact_Number):\n",
    "    if Name not in Contacts:\n",
    "        Contacts[Name]=Contact_Number\n",
    "        print(\"Contact has been added\")\n",
    "    else:\n",
    "        print(\"Contact with \",Name,\"Already Exists\")\n",
    "    return\n",
    "\n",
    "def SearchContact(Name):\n",
    "    print(Name,':',Contacts[Name])\n",
    "    return\n",
    "\n",
    "def ModifyContact(Name,Contact_Number):\n",
    "    if Name in Contacts:\n",
    "        Contacts[Name]=Contact_Number\n",
    "        print(\"Contact has been Modified\")\n",
    "    else:\n",
    "        print(\"Contact with \",Name,\"Doesn't Exists\")\n",
    "    return\n",
    "\n",
    "def ListAllContacts():\n",
    "    for keys,values in Contacts.items():\n",
    "        print(keys,':',values)\n",
    "    return\n",
    "\n",
    "def DeleteContacts(Name):\n",
    "    if Name in Contacts:\n",
    "        Contacts.pop(Name)\n",
    "        print(\"Contact has been sucessfully deleted\")\n",
    "    else:\n",
    "        print(\"Contact with \",Name,\"Doesn't Exists\")\n",
    "    return"
   ]
  },
  {
   "cell_type": "code",
   "execution_count": 8,
   "metadata": {},
   "outputs": [
    {
     "name": "stdout",
     "output_type": "stream",
     "text": [
      "Enter 1 to Add a contact \n",
      "Enter 2 to Delete a Contact \n",
      "Enter 3 to Modify a Contact \n",
      "Enter 4 to Search a contact \n",
      "Enter 5 to Show all Contacts \n",
      "1\n",
      "Enter contact name: Anil Peter\n",
      "Enter Contact number: 8886785229\n",
      "Contact has been added\n"
     ]
    }
   ],
   "source": [
    "x=int(input(\"Enter 1 to Add a contact \\nEnter 2 to Delete a Contact \\nEnter 3 to Modify a Contact \\n\"\n",
    "            \"Enter 4 to Search a contact \\nEnter 5 to Show all Contacts \\n\"))\n",
    "if x==1:\n",
    "    Name=input(\"Enter contact name: \")\n",
    "    Contact_Number=int(input(\"Enter Contact number: \"))\n",
    "    AddContact(Name,Contact_Number)\n",
    "elif x==2:\n",
    "    Name=input(\"Enter Contact Name to be Deleted: \")\n",
    "    DeleteContacts(Name)\n",
    "elif x==3:\n",
    "    Name=input(\"Enter Contact Name to be Modified: \")\n",
    "    Contact_Number=int(input(\"Enter Contact Number to be modified: \"))\n",
    "    ModifyContact(Name,Contact_Number)\n",
    "elif x==4:\n",
    "    Name=input(\"Enter Name of the contact do you need: \")\n",
    "    SearchContact(Name)\n",
    "elif x==5:\n",
    "    ListAllContacts()\n",
    "    "
   ]
  },
  {
   "cell_type": "code",
   "execution_count": 10,
   "metadata": {},
   "outputs": [
    {
     "data": {
      "text/plain": [
       "{'Anil Peter': 8886785229}"
      ]
     },
     "execution_count": 10,
     "metadata": {},
     "output_type": "execute_result"
    }
   ],
   "source": [
    "Contacts"
   ]
  },
  {
   "cell_type": "code",
   "execution_count": null,
   "metadata": {},
   "outputs": [],
   "source": []
  }
 ],
 "metadata": {
  "kernelspec": {
   "display_name": "Python 3",
   "language": "python",
   "name": "python3"
  },
  "language_info": {
   "codemirror_mode": {
    "name": "ipython",
    "version": 3
   },
   "file_extension": ".py",
   "mimetype": "text/x-python",
   "name": "python",
   "nbconvert_exporter": "python",
   "pygments_lexer": "ipython3",
   "version": "3.7.3"
  }
 },
 "nbformat": 4,
 "nbformat_minor": 2
}

{
 "cells": [
  {
   "cell_type": "markdown",
   "metadata": {},
   "source": [
    "### Day Objectives\n",
    "\n",
    "- Maps\n",
    "- Lambda\n",
    "- Filter\n",
    "- Use cases - File/Data Encryption"
   ]
  },
  {
   "cell_type": "markdown",
   "metadata": {},
   "source": [
    "### Map()\n",
    "\n",
    "Mapping - Entity with Function\n",
    "\n",
    "f:\n",
    "\n",
    "f(x)\n",
    "\n"
   ]
  },
  {
   "cell_type": "code",
   "execution_count": null,
   "metadata": {},
   "outputs": [],
   "source": []
  },
  {
   "cell_type": "code",
   "execution_count": 16,
   "metadata": {},
   "outputs": [
    {
     "data": {
      "text/plain": [
       "1024"
      ]
     },
     "execution_count": 16,
     "metadata": {},
     "output_type": "execute_result"
    }
   ],
   "source": [
    "def powerN(a,n):\n",
    "    r=1\n",
    "    for i in range(0,n):\n",
    "        r*=a\n",
    "    return r\n",
    "\n",
    "a=2;n=10\n",
    "powerN(a,n)\n",
    "\n",
    "def RecursivePowerN(a,n):\n",
    "    if n==0:\n",
    "        return 1\n",
    "    return a*RecursivePowerN(a,n-1)\n",
    "RecursivePowerN(2,10)\n",
    "\n",
    "#[a**n for i in range(0,n+1)]\n"
   ]
  },
  {
   "cell_type": "code",
   "execution_count": 69,
   "metadata": {},
   "outputs": [
    {
     "data": {
      "text/plain": [
       "[['b'], ['h'], ['h'], ['j'], ['b'], ['k'], ['h'], ['j'], ['h'], ['b'], ['j']]"
      ]
     },
     "execution_count": 69,
     "metadata": {},
     "output_type": "execute_result"
    }
   ],
   "source": [
    "def Cube(n):\n",
    "    return(n**3)\n",
    "\n",
    "li=list(range(200,221))\n",
    "\n",
    "y=map(Cube,li)\n",
    "#for value in y:\n",
    "    #print(value)\n",
    "\n",
    "set(map(Cube,li))\n",
    "\n",
    "map(Cube,range(200,221))\n",
    "\n",
    "z=list(map(str,range(200,221)))\n",
    "\n",
    "list(map(list,\"bhhjbkhjhbj\"))\n"
   ]
  },
  {
   "cell_type": "code",
   "execution_count": null,
   "metadata": {},
   "outputs": [],
   "source": []
  },
  {
   "cell_type": "markdown",
   "metadata": {},
   "source": [
    "## Filter ()\n",
    "\n",
    "used to check boolean values"
   ]
  },
  {
   "cell_type": "code",
   "execution_count": 134,
   "metadata": {},
   "outputs": [
    {
     "data": {
      "text/plain": [
       "[]"
      ]
     },
     "execution_count": 134,
     "metadata": {},
     "output_type": "execute_result"
    }
   ],
   "source": [
    "bool=[1,2,3,4,5,6,'1','a',2,0,'d','f','f','d','q',1,2,3]\n",
    "\n",
    "def isDigit(c):\n",
    "    c=str(c)\n",
    "    if c.isdigit():\n",
    "        return 0\n",
    "    return a\n",
    "\n",
    "isDigit('1')\n",
    "\n",
    "list(filter(isDigit,range(1,100)))"
   ]
  },
  {
   "cell_type": "code",
   "execution_count": 140,
   "metadata": {},
   "outputs": [
    {
     "data": {
      "text/plain": [
       "([503, 509, 521, 523, 541, 547, 557, 563, 569, 571, 577, 587, 593, 599],\n",
       " [503, 509, 521, 523, 541, 547, 557, 563, 569, 571, 577, 587, 593, 599])"
      ]
     },
     "execution_count": 140,
     "metadata": {},
     "output_type": "execute_result"
    }
   ],
   "source": [
    "# Identify all prime numbers in a range\n",
    "\n",
    "def IsPrime(n):\n",
    "    if n<2:\n",
    "        return 0\n",
    "    for x in range(2,n//2+1):\n",
    "        if n%x==0:\n",
    "            return False\n",
    "    return True\n",
    "\n",
    "st=500\n",
    "et=601\n",
    "\n",
    "PrimeList1=list(filter(IsPrime,range(st,et)))\n",
    "PrimeList2=[i for i in range(st,et) if IsPrime(i)]\n",
    "PrimeList1,PrimeList2\n"
   ]
  },
  {
   "cell_type": "code",
   "execution_count": 143,
   "metadata": {},
   "outputs": [
    {
     "data": {
      "text/plain": [
       "[['1'], ['2'], ['3'], ['4'], ['5'], ['6'], ['7'], ['8'], ['9']]"
      ]
     },
     "execution_count": 143,
     "metadata": {},
     "output_type": "execute_result"
    }
   ],
   "source": [
    "list(list(str(i)) for i in range(1,10))"
   ]
  },
  {
   "cell_type": "code",
   "execution_count": null,
   "metadata": {},
   "outputs": [],
   "source": []
  },
  {
   "cell_type": "markdown",
   "metadata": {},
   "source": [
    "## Lambda\n",
    "\n",
    "Anonymous Function \n",
    "\n",
    "Can be embedded into List Comprehension,Strings,Maps,Tuples\n",
    "\n"
   ]
  },
  {
   "cell_type": "markdown",
   "metadata": {},
   "source": []
  },
  {
   "cell_type": "code",
   "execution_count": 161,
   "metadata": {},
   "outputs": [
    {
     "data": {
      "text/plain": [
       "[2, 4, 6, 8, 0]"
      ]
     },
     "execution_count": 161,
     "metadata": {},
     "output_type": "execute_result"
    }
   ],
   "source": [
    "x=4\n",
    "\n",
    "#a=list(lambda x:x**3,2)\n",
    "\n",
    "list(map(lambda x:x**3,[1,2,3,4,5,6,7,8,9,0]))\n",
    "\n",
    "\n",
    "list(filter(lambda x: (x%2==0),[1,2,3,4,5,6,7,8,9,0]))"
   ]
  },
  {
   "cell_type": "code",
   "execution_count": 188,
   "metadata": {},
   "outputs": [
    {
     "data": {
      "text/plain": [
       "[91.0, 44.5, 82.0, 69.5, 62.5, 71.0, 54.0, 88.0]"
      ]
     },
     "execution_count": 188,
     "metadata": {},
     "output_type": "execute_result"
    }
   ],
   "source": [
    "from random import randint\n",
    "\n",
    "Internal1=[randint(0,25) for i in range(10)]\n",
    "Internal2=[randint(0,25) for i in range(10)]\n",
    "External=[randint(0,75) for i in range(10)]\n",
    "\n",
    "TotalMarks=list(map(lambda x,y,z:(x+y/2)+z,Internal1,Internal2,External))\n",
    "Passed=list(filter(lambda x:x>40,TotalMarks))\n",
    "Passed\n"
   ]
  },
  {
   "cell_type": "code",
   "execution_count": null,
   "metadata": {},
   "outputs": [],
   "source": []
  },
  {
   "cell_type": "markdown",
   "metadata": {},
   "source": [
    "### Applying Functional Programming to the Mark Analysis Application"
   ]
  },
  {
   "cell_type": "code",
   "execution_count": 21,
   "metadata": {},
   "outputs": [],
   "source": [
    "# Generate Marks Data into a New file\n",
    "\n",
    "from random import randint\n",
    "\n",
    "def GenerateMarks(N,lb,ub):\n",
    "    with open(FilePath,'w') as fh:\n",
    "        for std in range(0,N):\n",
    "            fh.write(str(randint(lb,ub))+'\\n')\n",
    "    return\n",
    "FilePath=\"DataFiles/MarksData.txt\"\n",
    "GenerateMarks(300,1,100)"
   ]
  },
  {
   "cell_type": "code",
   "execution_count": 24,
   "metadata": {},
   "outputs": [
    {
     "data": {
      "text/plain": [
       "49"
      ]
     },
     "execution_count": 24,
     "metadata": {},
     "output_type": "execute_result"
    }
   ],
   "source": [
    "# Mark Analysis\n",
    "    # Class Average\n",
    "    # % of Passed Students,Failed, and got Distinction\n",
    "    # Frequency of Highest and Lowest Mark\n",
    "    \n",
    "    \n",
    "def ReadMarksList(FilePath):\n",
    "    with open(FilePath,'r') as f:\n",
    "        filedata=f.read().split()\n",
    "        return list(map(int,filedata))\n",
    "\n",
    "def ClassAverage(FilePath):\n",
    "    Marklist=ReadMarksList(FilePath)\n",
    "    return sum(Marklist)//len(Marklist)\n",
    "    \n",
    "ClassAverage(FilePath)"
   ]
  },
  {
   "cell_type": "code",
   "execution_count": 37,
   "metadata": {},
   "outputs": [
    {
     "data": {
      "text/plain": [
       "38.666666666666664"
      ]
     },
     "execution_count": 37,
     "metadata": {},
     "output_type": "execute_result"
    }
   ],
   "source": [
    "def FailedPercentage(FilePath):\n",
    "    MarksList=ReadMarksList(FilePath)\n",
    "    \n",
    "    FailedStudentsCount=len(list(filter(lambda mark:mark<40,MarksList)))\n",
    "    FailPercentage=FailedStudentsCount/len(MarksList)*100\n",
    "    return FailPercentage\n",
    "\n",
    "FailedPercentage(FilePath)"
   ]
  },
  {
   "cell_type": "code",
   "execution_count": 40,
   "metadata": {},
   "outputs": [
    {
     "data": {
      "text/plain": [
       "61.333333333333336"
      ]
     },
     "execution_count": 40,
     "metadata": {},
     "output_type": "execute_result"
    }
   ],
   "source": [
    "def PassedPercentage(FilePath):\n",
    "    FailedPercent=FailedPercentage(FilePath)\n",
    "    return 100-FailedPercent\n",
    "\n",
    "PassedPercentage(FilePath)"
   ]
  },
  {
   "cell_type": "code",
   "execution_count": 41,
   "metadata": {},
   "outputs": [
    {
     "data": {
      "text/plain": [
       "38.666666666666664"
      ]
     },
     "execution_count": 41,
     "metadata": {},
     "output_type": "execute_result"
    }
   ],
   "source": [
    "def DistinctionPercentage(FilePath):\n",
    "    MarksList=ReadMarksList(FilePath)\n",
    "    \n",
    "    DistinctionStudentsCount=len(list(filter(lambda mark:mark>70,MarksList)))\n",
    "    DistinctionPercentsge=DistinctionStudentsCount/len(MarksList)*100\n",
    "    return DistinctionPercentsge\n",
    "\n",
    "FailedPercentage(FilePath)"
   ]
  },
  {
   "cell_type": "code",
   "execution_count": 46,
   "metadata": {},
   "outputs": [
    {
     "data": {
      "text/plain": [
       "4"
      ]
     },
     "execution_count": 46,
     "metadata": {},
     "output_type": "execute_result"
    }
   ],
   "source": [
    "def HighestMarkFrequency(FilePath):\n",
    "    MarksList=ReadMarksList(FilePath)\n",
    "    return MarksList.count(max(MarksList))\n",
    "\n",
    "HighestMarkFrequency(FilePath)"
   ]
  },
  {
   "cell_type": "code",
   "execution_count": 45,
   "metadata": {},
   "outputs": [
    {
     "data": {
      "text/plain": [
       "1"
      ]
     },
     "execution_count": 45,
     "metadata": {},
     "output_type": "execute_result"
    }
   ],
   "source": [
    "def LowestMarkFrequency(FilePath):\n",
    "    MarksList=ReadMarksList(FilePath)\n",
    "    return MarksList.count(min(MarksList))\n",
    "\n",
    "LowestMarkFrequency(FilePath)"
   ]
  },
  {
   "cell_type": "code",
   "execution_count": null,
   "metadata": {},
   "outputs": [],
   "source": []
  },
  {
   "cell_type": "code",
   "execution_count": null,
   "metadata": {},
   "outputs": [],
   "source": []
  },
  {
   "cell_type": "markdown",
   "metadata": {},
   "source": [
    "### Data Encryption\n",
    "\n",
    "Key - Mapping of character with some replaced character\n",
    "\n",
    "\n",
    "0 --> 4\n",
    "1 --> 5\n",
    "2 --> 6\n",
    "3 --> 7\n",
    "4 --> 8\n",
    "5 --> 9\n",
    "6 --> 0\n",
    "7 --> 1\n",
    "8 --> 2\n",
    "9 --> 3\n"
   ]
  },
  {
   "cell_type": "code",
   "execution_count": 49,
   "metadata": {},
   "outputs": [],
   "source": [
    "KeyPath=\"DataFiles/Key.txt\"\n",
    "\n",
    "def GenerateKey(KeyPath):\n",
    "    with open(KeyPath,'w') as f:\n",
    "        for i in range(10):\n",
    "            if i<6:\n",
    "                f.write(str(i)+\" \"+str(i+4)+\"\\n\")\n",
    "            else:\n",
    "                f.write(str(i)+\" \"+str(i-6)+\"\\n\")\n",
    "    return \n",
    "\n",
    "GenerateKey(KeyPath)"
   ]
  },
  {
   "cell_type": "code",
   "execution_count": null,
   "metadata": {},
   "outputs": [],
   "source": []
  },
  {
   "cell_type": "code",
   "execution_count": 61,
   "metadata": {},
   "outputs": [
    {
     "data": {
      "text/plain": [
       "[22,\n",
       " 65,\n",
       " 79,\n",
       " 33,\n",
       " 87,\n",
       " 48,\n",
       " 49,\n",
       " 6,\n",
       " 24,\n",
       " 61,\n",
       " 67,\n",
       " 33,\n",
       " 32,\n",
       " 87,\n",
       " 22,\n",
       " 41,\n",
       " 32,\n",
       " 13,\n",
       " 22,\n",
       " 77,\n",
       " 2,\n",
       " 39,\n",
       " 8,\n",
       " 38,\n",
       " 61,\n",
       " 48,\n",
       " 71,\n",
       " 69,\n",
       " 52,\n",
       " 68,\n",
       " 45,\n",
       " 8,\n",
       " 18,\n",
       " 32,\n",
       " 34,\n",
       " 15,\n",
       " 5,\n",
       " 39,\n",
       " 100,\n",
       " 99,\n",
       " 45,\n",
       " 70,\n",
       " 49,\n",
       " 80,\n",
       " 48,\n",
       " 22,\n",
       " 89,\n",
       " 29,\n",
       " 13,\n",
       " 45,\n",
       " 36,\n",
       " 89,\n",
       " 23,\n",
       " 94,\n",
       " 15,\n",
       " 72,\n",
       " 34,\n",
       " 58,\n",
       " 56,\n",
       " 38,\n",
       " 35,\n",
       " 87,\n",
       " 9,\n",
       " 88,\n",
       " 8,\n",
       " 100,\n",
       " 74,\n",
       " 48,\n",
       " 69,\n",
       " 14,\n",
       " 67,\n",
       " 39,\n",
       " 7,\n",
       " 2,\n",
       " 88,\n",
       " 91,\n",
       " 21,\n",
       " 94,\n",
       " 3,\n",
       " 25,\n",
       " 48,\n",
       " 9,\n",
       " 72,\n",
       " 27,\n",
       " 28,\n",
       " 37,\n",
       " 49,\n",
       " 9,\n",
       " 84,\n",
       " 48,\n",
       " 68,\n",
       " 68,\n",
       " 38,\n",
       " 72,\n",
       " 87,\n",
       " 8,\n",
       " 63,\n",
       " 95,\n",
       " 80,\n",
       " 59,\n",
       " 26,\n",
       " 66,\n",
       " 87,\n",
       " 30,\n",
       " 7,\n",
       " 30,\n",
       " 50,\n",
       " 16,\n",
       " 97,\n",
       " 25,\n",
       " 54,\n",
       " 17,\n",
       " 44,\n",
       " 38,\n",
       " 4,\n",
       " 36,\n",
       " 1,\n",
       " 79,\n",
       " 59,\n",
       " 53,\n",
       " 40,\n",
       " 28,\n",
       " 68,\n",
       " 87,\n",
       " 95,\n",
       " 94,\n",
       " 42,\n",
       " 69,\n",
       " 66,\n",
       " 51,\n",
       " 16,\n",
       " 25,\n",
       " 48,\n",
       " 52,\n",
       " 13,\n",
       " 49,\n",
       " 22,\n",
       " 12,\n",
       " 55,\n",
       " 58,\n",
       " 41,\n",
       " 26,\n",
       " 100,\n",
       " 3,\n",
       " 87,\n",
       " 45,\n",
       " 50,\n",
       " 90,\n",
       " 58,\n",
       " 25,\n",
       " 18,\n",
       " 47,\n",
       " 57,\n",
       " 92,\n",
       " 9,\n",
       " 98,\n",
       " 93,\n",
       " 12,\n",
       " 90,\n",
       " 58,\n",
       " 3,\n",
       " 72,\n",
       " 54,\n",
       " 72,\n",
       " 28,\n",
       " 54,\n",
       " 68,\n",
       " 82,\n",
       " 44,\n",
       " 77,\n",
       " 75,\n",
       " 80,\n",
       " 8,\n",
       " 29,\n",
       " 34,\n",
       " 93,\n",
       " 51,\n",
       " 55,\n",
       " 47,\n",
       " 55,\n",
       " 56,\n",
       " 6,\n",
       " 10,\n",
       " 55,\n",
       " 92,\n",
       " 40,\n",
       " 46,\n",
       " 4,\n",
       " 65,\n",
       " 14,\n",
       " 69,\n",
       " 60,\n",
       " 10,\n",
       " 69,\n",
       " 100,\n",
       " 40,\n",
       " 13,\n",
       " 10,\n",
       " 97,\n",
       " 88,\n",
       " 88,\n",
       " 77,\n",
       " 74,\n",
       " 76,\n",
       " 87,\n",
       " 76,\n",
       " 53,\n",
       " 17,\n",
       " 95,\n",
       " 6,\n",
       " 77,\n",
       " 39,\n",
       " 67,\n",
       " 39,\n",
       " 15,\n",
       " 31,\n",
       " 60,\n",
       " 48,\n",
       " 62,\n",
       " 22,\n",
       " 42,\n",
       " 26,\n",
       " 54,\n",
       " 56,\n",
       " 41,\n",
       " 35,\n",
       " 55,\n",
       " 36,\n",
       " 31,\n",
       " 78,\n",
       " 78,\n",
       " 40,\n",
       " 25,\n",
       " 22,\n",
       " 31,\n",
       " 97,\n",
       " 35,\n",
       " 43,\n",
       " 82,\n",
       " 44,\n",
       " 28,\n",
       " 98,\n",
       " 71,\n",
       " 84,\n",
       " 61,\n",
       " 53,\n",
       " 50,\n",
       " 79,\n",
       " 48,\n",
       " 84,\n",
       " 60,\n",
       " 52,\n",
       " 10,\n",
       " 43,\n",
       " 35,\n",
       " 58,\n",
       " 74,\n",
       " 63,\n",
       " 33,\n",
       " 62,\n",
       " 24,\n",
       " 51,\n",
       " 51,\n",
       " 26,\n",
       " 16,\n",
       " 82,\n",
       " 34,\n",
       " 57,\n",
       " 34,\n",
       " 78,\n",
       " 74,\n",
       " 35,\n",
       " 6,\n",
       " 60,\n",
       " 81,\n",
       " 25,\n",
       " 33,\n",
       " 15,\n",
       " 70,\n",
       " 51,\n",
       " 75,\n",
       " 85,\n",
       " 59,\n",
       " 10,\n",
       " 72,\n",
       " 19,\n",
       " 45,\n",
       " 56,\n",
       " 69,\n",
       " 99,\n",
       " 73,\n",
       " 97,\n",
       " 31,\n",
       " 49,\n",
       " 85,\n",
       " 35,\n",
       " 23,\n",
       " 56,\n",
       " 17,\n",
       " 40]"
      ]
     },
     "execution_count": 61,
     "metadata": {},
     "output_type": "execute_result"
    }
   ],
   "source": [
    "#Encrypt a Data File\n",
    "\n",
    "def KeyDictionaryFile(KeyFile):\n",
    "    key={}\n",
    "    with open(KeyFile,\"r\") as f:\n",
    "        for line in f:\n",
    "            line = line.split()\n",
    "            key[line[0]]=line[1]\n",
    "    return key\n",
    "\n",
    "def EncryptionMarksData(MarksFile,KeyFile):\n",
    "    # Construction of Dictionary containing Key,Data\n",
    "    KeyDict=KeyDictionaryFile(KeyFile)\n",
    "    MarksList=ReadMarksList(MarksFile)\n",
    "    EncryptedMarks=[]\n",
    "    for Mark in MarksList:\n",
    "        for num in mark:\n",
    "            for item in KeyDict:\n",
    "                \n",
    "    return MarksList\n",
    "\n",
    "def \n",
    "\n",
    "\n",
    "MarksFile = \"DataFiles/MarksData.txt\"\n",
    "KeyFile = \"DataFiles/Key.txt\"\n",
    "\n",
    "EncryptionMarksData(MarksFile,KeyFile)"
   ]
  },
  {
   "cell_type": "code",
   "execution_count": null,
   "metadata": {},
   "outputs": [],
   "source": []
  }
 ],
 "metadata": {
  "kernelspec": {
   "display_name": "Python 3",
   "language": "python",
   "name": "python3"
  },
  "language_info": {
   "codemirror_mode": {
    "name": "ipython",
    "version": 3
   },
   "file_extension": ".py",
   "mimetype": "text/x-python",
   "name": "python",
   "nbconvert_exporter": "python",
   "pygments_lexer": "ipython3",
   "version": "3.7.3"
  }
 },
 "nbformat": 4,
 "nbformat_minor": 2
}

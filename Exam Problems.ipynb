{
 "cells": [
  {
   "cell_type": "markdown",
   "metadata": {},
   "source": [
    "### 25/06/2019"
   ]
  },
  {
   "cell_type": "markdown",
   "metadata": {},
   "source": [
    "### Problem - K Largest Frequency\n",
    "You are given a string **S**, made of lowercase English alphabets. Find the character having the largest frequency. \n",
    "- If there is more than one character that meets the condition, print the smallest one.\n",
    "- If there is no character that meets the condition print **-1**.\n",
    "\n",
    "**Input format**\n",
    "\n",
    "- The first line consists of a single integer **T**. denoting the number of test cases. \n",
    "- The first line of each test case consists of a single string made of lower case English alphabets.\n",
    "- The second line of each test case consists of a single integer denoting **k**.\n",
    "\n",
    "**Output format**\n",
    "\n",
    "- Print the required answer for each test case in a new line."
   ]
  },
  {
   "cell_type": "code",
   "execution_count": 1,
   "metadata": {},
   "outputs": [
    {
     "name": "stdout",
     "output_type": "stream",
     "text": [
      "s\n",
      "g\n",
      "h\n",
      "e\n",
      "w\n",
      "r\n",
      "n\n",
      "k\n",
      "-1\n",
      "-1\n"
     ]
    }
   ],
   "source": [
    "#Function to identify the highest frequency of a element\n",
    "def KthHighestFrequency(k,li):\n",
    "    Data={};res=[]\n",
    "    for data in li:\n",
    "        if data not in Data.keys():\n",
    "            Data[data]=li.count(data)\n",
    "    uniquevalues=Data.values()\n",
    "    SUniqueValues=sorted(list(set(uniquevalues)),reverse=True)\n",
    "    if len(SUniqueValues)>=k:\n",
    "        kthFreq=SUniqueValues[k-1]\n",
    "        for keys,values in Data.items():\n",
    "            if values==kthFreq:\n",
    "                res.append(keys)\n",
    "        print(min(res))\n",
    "    else:\n",
    "        print(-1)\n",
    "    return \n",
    "\n",
    "with open(\"DataFiles\\k-largest-frequency-input.txt\",'r') as f:\n",
    "    filedata=f.read().split()\n",
    "    filedata.pop(0)\n",
    "\n",
    "    for line in range(0,(len(filedata)),2):\n",
    "            if not line==len(filedata)-1:\n",
    "                KthHighestFrequency(int(filedata[line+1]),filedata[line])\n",
    "            else: break"
   ]
  },
  {
   "cell_type": "code",
   "execution_count": null,
   "metadata": {},
   "outputs": [],
   "source": []
  },
  {
   "cell_type": "code",
   "execution_count": null,
   "metadata": {},
   "outputs": [],
   "source": []
  }
 ],
 "metadata": {
  "kernelspec": {
   "display_name": "Python 3",
   "language": "python",
   "name": "python3"
  },
  "language_info": {
   "codemirror_mode": {
    "name": "ipython",
    "version": 3
   },
   "file_extension": ".py",
   "mimetype": "text/x-python",
   "name": "python",
   "nbconvert_exporter": "python",
   "pygments_lexer": "ipython3",
   "version": "3.7.3"
  }
 },
 "nbformat": 4,
 "nbformat_minor": 2
}

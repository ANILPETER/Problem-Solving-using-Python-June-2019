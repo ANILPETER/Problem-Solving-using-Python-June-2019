{
 "cells": [
  {
   "cell_type": "markdown",
   "metadata": {},
   "source": [
    "### Day Objectives\n",
    "- String Slicing\n",
    "- Functions in python\n",
    "- Basic Problems related to conditional statements using functions\n",
    "- Iteration in Python\n",
    "\n",
    "#### Problem Set\n",
    "\n",
    "- Function to print all numbers divisible by 6 and not a factor of 100 in a given range(lb, ub) inclusive\n",
    "- Function to find the average of cubes of all even numbers in a given range(lb, ub) inclusive\n",
    "- Function to generate the list of factors for a given number\n",
    "- Function to calculate the factorial of a given number\n",
    "- Function to check if a given number is Prime\n",
    "- Function to calculate the average first N Prime numbers\n",
    "- Function to generate all Perfect numbers in a given range"
   ]
  },
  {
   "cell_type": "code",
   "execution_count": 1,
   "metadata": {},
   "outputs": [
    {
     "data": {
      "text/plain": [
       "'pto'"
      ]
     },
     "execution_count": 1,
     "metadata": {},
     "output_type": "execute_result"
    }
   ],
   "source": [
    "# Accessing alternate characters ina string \n",
    "\n",
    "s1='python'\n",
    "s1[::2]"
   ]
  },
  {
   "cell_type": "code",
   "execution_count": 2,
   "metadata": {},
   "outputs": [
    {
     "data": {
      "text/plain": [
       "'nhy'"
      ]
     },
     "execution_count": 2,
     "metadata": {},
     "output_type": "execute_result"
    }
   ],
   "source": [
    "# Accessing alternate characters in a string in reverse order\n",
    "\n",
    "s1='python'\n",
    "s1[::-2]"
   ]
  },
  {
   "cell_type": "code",
   "execution_count": 3,
   "metadata": {},
   "outputs": [
    {
     "name": "stdout",
     "output_type": "stream",
     "text": [
      "Enter Lower Boundary\n"
     ]
    },
    {
     "ename": "ValueError",
     "evalue": "invalid literal for int() with base 10: ''",
     "output_type": "error",
     "traceback": [
      "\u001b[1;31m---------------------------------------------------------------------------\u001b[0m",
      "\u001b[1;31mValueError\u001b[0m                                Traceback (most recent call last)",
      "\u001b[1;32m<ipython-input-3-56e256817dc6>\u001b[0m in \u001b[0;36m<module>\u001b[1;34m\u001b[0m\n\u001b[0;32m      6\u001b[0m         \u001b[1;32mif\u001b[0m \u001b[1;33m(\u001b[0m\u001b[0mx\u001b[0m\u001b[1;33m%\u001b[0m\u001b[1;36m6\u001b[0m\u001b[1;33m==\u001b[0m\u001b[1;36m0\u001b[0m \u001b[1;32mand\u001b[0m \u001b[0mx\u001b[0m\u001b[1;33m!=\u001b[0m\u001b[1;36m0\u001b[0m\u001b[1;33m)\u001b[0m\u001b[1;33m:\u001b[0m\u001b[1;33m\u001b[0m\u001b[1;33m\u001b[0m\u001b[0m\n\u001b[0;32m      7\u001b[0m             \u001b[0mprint\u001b[0m\u001b[1;33m(\u001b[0m\u001b[0mx\u001b[0m\u001b[1;33m,\u001b[0m\u001b[0mend\u001b[0m\u001b[1;33m=\u001b[0m\u001b[1;34m' '\u001b[0m\u001b[1;33m)\u001b[0m\u001b[1;33m\u001b[0m\u001b[1;33m\u001b[0m\u001b[0m\n\u001b[1;32m----> 8\u001b[1;33m \u001b[0mLB\u001b[0m\u001b[1;33m=\u001b[0m\u001b[0mint\u001b[0m\u001b[1;33m(\u001b[0m\u001b[0minput\u001b[0m\u001b[1;33m(\u001b[0m\u001b[1;34m\"Enter Lower Boundary\"\u001b[0m\u001b[1;33m)\u001b[0m\u001b[1;33m)\u001b[0m\u001b[1;33m\u001b[0m\u001b[1;33m\u001b[0m\u001b[0m\n\u001b[0m\u001b[0;32m      9\u001b[0m \u001b[0mUB\u001b[0m\u001b[1;33m=\u001b[0m\u001b[0mint\u001b[0m\u001b[1;33m(\u001b[0m\u001b[0minput\u001b[0m\u001b[1;33m(\u001b[0m\u001b[1;34m\"Enter Upper Boundary\"\u001b[0m\u001b[1;33m)\u001b[0m\u001b[1;33m)\u001b[0m\u001b[1;33m\u001b[0m\u001b[1;33m\u001b[0m\u001b[0m\n\u001b[0;32m     10\u001b[0m \u001b[1;32mif\u001b[0m\u001b[1;33m(\u001b[0m\u001b[0mLB\u001b[0m\u001b[1;33m<\u001b[0m\u001b[0mUB\u001b[0m\u001b[1;33m)\u001b[0m\u001b[1;33m:\u001b[0m\u001b[1;33m\u001b[0m\u001b[1;33m\u001b[0m\u001b[0m\n",
      "\u001b[1;31mValueError\u001b[0m: invalid literal for int() with base 10: ''"
     ]
    }
   ],
   "source": [
    "# Function to print all numbers divisible by 6 & not a factor of 100 in a given range(LB,UB) inclusive\n",
    "\n",
    "def special(x,y):\n",
    "    print(\"The numbers which are dvisible by 6 & not a factor of 100 in a given range are\")\n",
    "    for x in range(x,y):\n",
    "        if (x%6==0 and x!=0):\n",
    "            print(x,end=' ')\n",
    "LB=int(input(\"Enter Lower Boundary\"))\n",
    "UB=int(input(\"Enter Upper Boundary\"))\n",
    "if(LB<UB):\n",
    "    special(LB,UB)  \n"
   ]
  },
  {
   "cell_type": "code",
   "execution_count": 4,
   "metadata": {},
   "outputs": [],
   "source": [
    "# to find the average of cubes of all even numbers in a given range(LB,UB) inclusive"
   ]
  },
  {
   "cell_type": "code",
   "execution_count": 5,
   "metadata": {},
   "outputs": [
    {
     "name": "stdout",
     "output_type": "stream",
     "text": [
      "Enter Lower Boundary\n"
     ]
    },
    {
     "ename": "ValueError",
     "evalue": "invalid literal for int() with base 10: ''",
     "output_type": "error",
     "traceback": [
      "\u001b[1;31m---------------------------------------------------------------------------\u001b[0m",
      "\u001b[1;31mValueError\u001b[0m                                Traceback (most recent call last)",
      "\u001b[1;32m<ipython-input-5-46e5a4d41ef2>\u001b[0m in \u001b[0;36m<module>\u001b[1;34m\u001b[0m\n\u001b[0;32m      8\u001b[0m     \u001b[0mprint\u001b[0m\u001b[1;33m(\u001b[0m\u001b[1;34m\"Average of cubes of given even numbers between\"\u001b[0m\u001b[1;33m,\u001b[0m\u001b[0mx\u001b[0m\u001b[1;33m,\u001b[0m\u001b[1;34m\"&\"\u001b[0m\u001b[1;33m,\u001b[0m\u001b[0my\u001b[0m\u001b[1;33m,\u001b[0m\u001b[1;34m\"is\"\u001b[0m\u001b[1;33m,\u001b[0m\u001b[0msum\u001b[0m\u001b[1;33m/\u001b[0m\u001b[0mcount\u001b[0m\u001b[1;33m)\u001b[0m\u001b[1;33m\u001b[0m\u001b[1;33m\u001b[0m\u001b[0m\n\u001b[0;32m      9\u001b[0m \u001b[1;33m\u001b[0m\u001b[0m\n\u001b[1;32m---> 10\u001b[1;33m \u001b[0mLB\u001b[0m\u001b[1;33m=\u001b[0m\u001b[0mint\u001b[0m\u001b[1;33m(\u001b[0m\u001b[0minput\u001b[0m\u001b[1;33m(\u001b[0m\u001b[1;34m\"Enter Lower Boundary\"\u001b[0m\u001b[1;33m)\u001b[0m\u001b[1;33m)\u001b[0m\u001b[1;33m\u001b[0m\u001b[1;33m\u001b[0m\u001b[0m\n\u001b[0m\u001b[0;32m     11\u001b[0m \u001b[0mUB\u001b[0m\u001b[1;33m=\u001b[0m\u001b[0mint\u001b[0m\u001b[1;33m(\u001b[0m\u001b[0minput\u001b[0m\u001b[1;33m(\u001b[0m\u001b[1;34m\"Enter Upper Boundary\"\u001b[0m\u001b[1;33m)\u001b[0m\u001b[1;33m)\u001b[0m\u001b[1;33m\u001b[0m\u001b[1;33m\u001b[0m\u001b[0m\n\u001b[0;32m     12\u001b[0m \u001b[1;32mif\u001b[0m\u001b[1;33m(\u001b[0m\u001b[0mLB\u001b[0m\u001b[1;33m<\u001b[0m\u001b[0mUB\u001b[0m\u001b[1;33m)\u001b[0m\u001b[1;33m:\u001b[0m\u001b[1;33m\u001b[0m\u001b[1;33m\u001b[0m\u001b[0m\n",
      "\u001b[1;31mValueError\u001b[0m: invalid literal for int() with base 10: ''"
     ]
    }
   ],
   "source": [
    "def avg_of_cubes_of_even_num(x,y):\n",
    "    sum=0\n",
    "    count=0\n",
    "    for n in range (x,y):\n",
    "        if(n%2==0):\n",
    "            sum=sum+n**3\n",
    "            count=count+1\n",
    "    print(\"Average of cubes of given even numbers between\",x,\"&\",y,\"is\",sum/count)\n",
    "\n",
    "LB=int(input(\"Enter Lower Boundary\"))\n",
    "UB=int(input(\"Enter Upper Boundary\"))\n",
    "if(LB<UB):\n",
    "    avg_of_cubes_of_even_num(LB,UB)"
   ]
  },
  {
   "cell_type": "code",
   "execution_count": 6,
   "metadata": {},
   "outputs": [
    {
     "data": {
      "text/plain": [
       "72"
      ]
     },
     "execution_count": 6,
     "metadata": {},
     "output_type": "execute_result"
    }
   ],
   "source": [
    "2**3+4**3"
   ]
  },
  {
   "cell_type": "code",
   "execution_count": 7,
   "metadata": {},
   "outputs": [
    {
     "name": "stdout",
     "output_type": "stream",
     "text": [
      "Enter a number to print factors\n"
     ]
    },
    {
     "ename": "ValueError",
     "evalue": "invalid literal for int() with base 10: ''",
     "output_type": "error",
     "traceback": [
      "\u001b[1;31m---------------------------------------------------------------------------\u001b[0m",
      "\u001b[1;31mValueError\u001b[0m                                Traceback (most recent call last)",
      "\u001b[1;32m<ipython-input-7-43986a42b082>\u001b[0m in \u001b[0;36m<module>\u001b[1;34m\u001b[0m\n\u001b[0;32m      6\u001b[0m             \u001b[0mprint\u001b[0m\u001b[1;33m(\u001b[0m\u001b[0my\u001b[0m\u001b[1;33m,\u001b[0m\u001b[0mend\u001b[0m\u001b[1;33m=\u001b[0m\u001b[1;34m\" \"\u001b[0m\u001b[1;33m)\u001b[0m\u001b[1;33m\u001b[0m\u001b[1;33m\u001b[0m\u001b[0m\n\u001b[0;32m      7\u001b[0m     \u001b[1;32mreturn\u001b[0m\u001b[1;33m\u001b[0m\u001b[1;33m\u001b[0m\u001b[0m\n\u001b[1;32m----> 8\u001b[1;33m \u001b[0mn\u001b[0m\u001b[1;33m=\u001b[0m\u001b[0mint\u001b[0m\u001b[1;33m(\u001b[0m\u001b[0minput\u001b[0m\u001b[1;33m(\u001b[0m\u001b[1;34m\"Enter a number to print factors\"\u001b[0m\u001b[1;33m)\u001b[0m\u001b[1;33m)\u001b[0m\u001b[1;33m\u001b[0m\u001b[1;33m\u001b[0m\u001b[0m\n\u001b[0m\u001b[0;32m      9\u001b[0m \u001b[0mfactors\u001b[0m\u001b[1;33m(\u001b[0m\u001b[0mn\u001b[0m\u001b[1;33m)\u001b[0m\u001b[1;33m\u001b[0m\u001b[1;33m\u001b[0m\u001b[0m\n",
      "\u001b[1;31mValueError\u001b[0m: invalid literal for int() with base 10: ''"
     ]
    }
   ],
   "source": [
    "#Function to generate the list of factors of a given number\n",
    "\n",
    "def factors(x):\n",
    "    for y in range (1,x+1):\n",
    "        if(x%y==0):\n",
    "            print(y,end=\" \")\n",
    "    return\n",
    "n=int(input(\"Enter a number to print factors\"))\n",
    "factors(n)\n"
   ]
  },
  {
   "cell_type": "code",
   "execution_count": 8,
   "metadata": {},
   "outputs": [
    {
     "name": "stdout",
     "output_type": "stream",
     "text": [
      "Enter a number to print factorial of that number\n"
     ]
    },
    {
     "ename": "ValueError",
     "evalue": "invalid literal for int() with base 10: ''",
     "output_type": "error",
     "traceback": [
      "\u001b[1;31m---------------------------------------------------------------------------\u001b[0m",
      "\u001b[1;31mValueError\u001b[0m                                Traceback (most recent call last)",
      "\u001b[1;32m<ipython-input-8-b55d18f43c12>\u001b[0m in \u001b[0;36m<module>\u001b[1;34m\u001b[0m\n\u001b[0;32m      6\u001b[0m         \u001b[0mmul\u001b[0m\u001b[1;33m=\u001b[0m\u001b[0mmul\u001b[0m\u001b[1;33m*\u001b[0m\u001b[0mx\u001b[0m\u001b[1;33m\u001b[0m\u001b[1;33m\u001b[0m\u001b[0m\n\u001b[0;32m      7\u001b[0m     \u001b[1;32mreturn\u001b[0m \u001b[0mmul\u001b[0m\u001b[1;33m\u001b[0m\u001b[1;33m\u001b[0m\u001b[0m\n\u001b[1;32m----> 8\u001b[1;33m \u001b[0mn\u001b[0m\u001b[1;33m=\u001b[0m\u001b[0mint\u001b[0m\u001b[1;33m(\u001b[0m\u001b[0minput\u001b[0m\u001b[1;33m(\u001b[0m\u001b[1;34m\"Enter a number to print factorial of that number\"\u001b[0m\u001b[1;33m)\u001b[0m\u001b[1;33m)\u001b[0m\u001b[1;33m\u001b[0m\u001b[1;33m\u001b[0m\u001b[0m\n\u001b[0m\u001b[0;32m      9\u001b[0m \u001b[0mfactorial\u001b[0m\u001b[1;33m(\u001b[0m\u001b[0mn\u001b[0m\u001b[1;33m)\u001b[0m\u001b[1;33m\u001b[0m\u001b[1;33m\u001b[0m\u001b[0m\n",
      "\u001b[1;31mValueError\u001b[0m: invalid literal for int() with base 10: ''"
     ]
    }
   ],
   "source": [
    "# Function to calculate to find the factorial of the given number\n",
    "\n",
    "def factorial(y):\n",
    "    mul=1\n",
    "    for x in range (1,y+1):\n",
    "        mul=mul*x\n",
    "    return mul\n",
    "n=int(input(\"Enter a number to print factorial of that number\"))\n",
    "factorial(n)"
   ]
  },
  {
   "cell_type": "code",
   "execution_count": 1,
   "metadata": {},
   "outputs": [
    {
     "name": "stdout",
     "output_type": "stream",
     "text": [
      "Enter a number to find prime number or not: 31\n",
      "The given number 31 is Prime Number\n"
     ]
    }
   ],
   "source": [
    "# Function to calculate prime number or not\n",
    "\n",
    "def prime(y):\n",
    "    temp=0\n",
    "    for x in range (2,y//2):\n",
    "            if (y%x==0):\n",
    "                print(\"The given number\",y,\"is not a Prime Number\")\n",
    "                temp=1\n",
    "                break\n",
    "    if(temp==0):\n",
    "        print(\"The given number\",y,\"is Prime Number\")\n",
    "    return \n",
    "n=int(input(\"Enter a number to find prime number or not: \"))\n",
    "prime(n)\n",
    "                \n"
   ]
  },
  {
   "cell_type": "code",
   "execution_count": 2,
   "metadata": {},
   "outputs": [
    {
     "name": "stdout",
     "output_type": "stream",
     "text": [
      "Enter a number to find prime number or not: 23\n",
      "2 5 The average of first 23 prime numbers are  2.5\n"
     ]
    }
   ],
   "source": [
    "# Function to calculate average prime numbers in a given number\n",
    "# Function to calculate prime number or not\n",
    "\n",
    "def prime(y):\n",
    "    tot=0;count=0;temp=0;s=0\n",
    "    for m in range (2,y):\n",
    "        \n",
    "        for x in range (2,m):\n",
    "            if (m%x==0):\n",
    "                temp=1\n",
    "                break\n",
    "        if(temp==0):\n",
    "            count=count+m\n",
    "            tot=tot+1\n",
    "            print(count,end=\" \")\n",
    "    print(\"The average of first\", y, \"prime numbers are \",count/tot)\n",
    "    return\n",
    "n=int(input(\"Enter a number to find prime number or not: \"))\n",
    "prime(n)\n",
    "                \n",
    "\n"
   ]
  },
  {
   "cell_type": "code",
   "execution_count": 11,
   "metadata": {
    "scrolled": true
   },
   "outputs": [
    {
     "name": "stdout",
     "output_type": "stream",
     "text": [
      "1 2 "
     ]
    }
   ],
   "source": [
    "def isPerfect(n):\n",
    "    if factorial(n)==n:\n",
    "        return True\n",
    "    return False\n",
    "def generatePerfect(lb,ub):\n",
    "    for i in range(lb,ub+1):\n",
    "        if isPerfect(i):\n",
    "            print(i,end=\" \")\n",
    "    return\n",
    "\n",
    "generatePerfect(1,100)"
   ]
  },
  {
   "cell_type": "code",
   "execution_count": 12,
   "metadata": {},
   "outputs": [
    {
     "name": "stdout",
     "output_type": "stream",
     "text": [
      "Average of all Factorials in the given range are 30.6\n"
     ]
    }
   ],
   "source": [
    "# Function to calculate average of all factorials in a given range\n",
    "\n",
    "def factorial_avg(up,lp):\n",
    "    sum=0;count=0\n",
    "    for x in range (up,lp+1):\n",
    "        sum=sum+factorial(x)\n",
    "        count=count+1\n",
    "    print(\"Average of all Factorials in the given range are\",sum/count)\n",
    "\n",
    "factorial_avg(1,5)    "
   ]
  },
  {
   "cell_type": "code",
   "execution_count": 13,
   "metadata": {},
   "outputs": [
    {
     "name": "stdout",
     "output_type": "stream",
     "text": [
      "1\n",
      "153\n",
      "371\n",
      "407\n"
     ]
    }
   ],
   "source": [
    "# Function to generate N odd amstrong numbers\n",
    "\n",
    "def amstrong(n):\n",
    "    sum=0\n",
    "    for x in range(1,n):\n",
    "        org=x\n",
    "        sum=0\n",
    "        for n in range (0,len(str(x))):\n",
    "            n=x%10\n",
    "            x=int(x/10)\n",
    "            sum=sum+n**3\n",
    "        if sum==org and sum%2!=0:\n",
    "                print(sum)\n",
    "    return \n",
    "\n",
    "amstrong(100000)"
   ]
  },
  {
   "cell_type": "code",
   "execution_count": null,
   "metadata": {},
   "outputs": [],
   "source": []
  },
  {
   "cell_type": "code",
   "execution_count": null,
   "metadata": {},
   "outputs": [],
   "source": [
    "# Funtion to generate Multiplication tables for a number in a given range \n",
    "# 10 in range (100,110) inclusive\n",
    "# output 10 * 100 = 1000 ........... 10 * 110 = 1100\n",
    "\n",
    "def table(n,start,end):\n",
    "    for x in range (start,end+1):\n",
    "        print(n,'x',start,'=',n*start)\n",
    "        start+=1 \n",
    "    return\n",
    "table(20,1,10)"
   ]
  },
  {
   "cell_type": "code",
   "execution_count": null,
   "metadata": {},
   "outputs": [],
   "source": []
  },
  {
   "cell_type": "code",
   "execution_count": 16,
   "metadata": {},
   "outputs": [
    {
     "data": {
      "text/plain": [
       "15"
      ]
     },
     "execution_count": 16,
     "metadata": {},
     "output_type": "execute_result"
    }
   ],
   "source": [
    "# Function to calculate the sum of numbers in a range\n",
    "def SumRange(lb,ub):\n",
    "    sum=0\n",
    "    for x in range (lb,ub+1):\n",
    "        sum=sum+x\n",
    "    return sum\n",
    "\n",
    "SumRange(0,5)"
   ]
  },
  {
   "cell_type": "code",
   "execution_count": 17,
   "metadata": {},
   "outputs": [
    {
     "data": {
      "text/plain": [
       "3000.0"
      ]
     },
     "execution_count": 17,
     "metadata": {},
     "output_type": "execute_result"
    }
   ],
   "source": [
    "#Function to calculate the average of given range\n",
    "\n",
    "def AvgRange(lb,ub):\n",
    "    sum=SumRange(lb,ub)\n",
    "    return sum/(ub-lb+1)\n",
    "AvgRange(1000,5000)"
   ]
  },
  {
   "cell_type": "code",
   "execution_count": 18,
   "metadata": {},
   "outputs": [
    {
     "name": "stdout",
     "output_type": "stream",
     "text": [
      "2000\n",
      "2004\n",
      "2008\n",
      "2012\n",
      "2016\n",
      "2020\n"
     ]
    }
   ],
   "source": [
    "# Function to generate the Leap year in the given time period\n",
    "\n",
    "def leap(year):\n",
    "    if (year%4==0 and year%100!=0) or year%400==0:\n",
    "        return True\n",
    "    return False\n",
    "    \n",
    "def YearRange(lp,up):\n",
    "    for x in range (lp,up+1):\n",
    "        if leap(x):\n",
    "            print(x)\n",
    "\n",
    "YearRange(2000,2020)"
   ]
  },
  {
   "cell_type": "code",
   "execution_count": 19,
   "metadata": {},
   "outputs": [
    {
     "name": "stdout",
     "output_type": "stream",
     "text": [
      "1095.8571428571427 Weeks & 7671 Days\n"
     ]
    }
   ],
   "source": [
    "# Function to calculate the number of days in a given time period\n",
    "\n",
    "def NoDays(StartYear,EndYear):\n",
    "    weeks=0;day1=0;day2=0\n",
    "    for x in range (StartYear,EndYear+1):\n",
    "        if leap(x):\n",
    "            weeks+=366/7\n",
    "            day2+=366   \n",
    "        else:\n",
    "            weeks+=365/7\n",
    "            day1+=365\n",
    "    print(weeks,\"Weeks\",\"&\",day1+day2,\"Days\")\n",
    "    return \n",
    "NoDays(2000,2020)\n"
   ]
  },
  {
   "cell_type": "code",
   "execution_count": 70,
   "metadata": {},
   "outputs": [
    {
     "name": "stdout",
     "output_type": "stream",
     "text": [
      "1464 61\n",
      "205224 8551\n",
      "10296 429\n"
     ]
    }
   ],
   "source": [
    "#Function to calculate  number of hours for a given period\n",
    "# nov,1975, mar,1999\n",
    "\n",
    "def month(month):\n",
    "    if month==1 or month==3 or month==5 or month==7 or month==8 or month==10 or month==12:\n",
    "        days=31\n",
    "    elif month==2:\n",
    "        days = 28\n",
    "    else:\n",
    "        days=30\n",
    "    return days\n",
    "\n",
    "def NoOfHours(StartMonth,StartYear,EndMonth,EndYear):\n",
    "    Hours=0;day=0\n",
    "    if StartMonth>EndMonth:\n",
    "        for x in range(StartMonth,13):\n",
    "            days=month(StartMonth)\n",
    "            day+=days\n",
    "        for x in range(1,EndMonth+1):\n",
    "            days=month(StartMonth)\n",
    "            day+=days\n",
    "    else:\n",
    "        for x in range(StartMonth,EndMonth+1):\n",
    "            days=month(x)\n",
    "            day+=days\n",
    "    if (EndYear-StartYear)!=0:\n",
    "        for year in range(StartYear+1,EndYear):\n",
    "            if leap(year):\n",
    "                day=day+366\n",
    "                #print(year)\n",
    "            else:\n",
    "                day=day+365\n",
    "    if (EndYear-StartYear)==1:\n",
    "        for year in range(StartYear+1,EndYear+1):\n",
    "            if leap(year):\n",
    "                day=day+366\n",
    "            else:\n",
    "                day=day+365\n",
    "    \n",
    "    Hours=Hours+day*24\n",
    "    if leap(StartYear) or leap(EndYear):\n",
    "        print(Hours+24,day+1)\n",
    "    else:\n",
    "        print(Hours,day)\n",
    "    return \n",
    "        \n",
    "\n",
    "NoOfHours(5,2019,6,2019)\n",
    "\n",
    "NoOfHours(11,1975,3,1999)\n",
    "\n",
    "NoOfHours(12,2019,1,2020)\n"
   ]
  },
  {
   "cell_type": "markdown",
   "metadata": {},
   "source": [
    "# "
   ]
  },
  {
   "cell_type": "code",
   "execution_count": 40,
   "metadata": {},
   "outputs": [
    {
     "name": "stdout",
     "output_type": "stream",
     "text": [
      "1\n"
     ]
    }
   ],
   "source": [
    "y=255\n",
    "for x in range(1,2):\n",
    "    print(x)\n"
   ]
  },
  {
   "cell_type": "code",
   "execution_count": null,
   "metadata": {},
   "outputs": [],
   "source": []
  }
 ],
 "metadata": {
  "kernelspec": {
   "display_name": "Python 3",
   "language": "python",
   "name": "python3"
  },
  "language_info": {
   "codemirror_mode": {
    "name": "ipython",
    "version": 3
   },
   "file_extension": ".py",
   "mimetype": "text/x-python",
   "name": "python",
   "nbconvert_exporter": "python",
   "pygments_lexer": "ipython3",
   "version": "3.7.3"
  }
 },
 "nbformat": 4,
 "nbformat_minor": 2
}

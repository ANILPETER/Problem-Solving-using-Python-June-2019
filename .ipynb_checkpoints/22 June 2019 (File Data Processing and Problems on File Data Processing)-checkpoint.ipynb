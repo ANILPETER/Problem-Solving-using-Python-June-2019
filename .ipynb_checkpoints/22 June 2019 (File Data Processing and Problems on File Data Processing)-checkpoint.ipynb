{
 "cells": [
  {
   "cell_type": "code",
   "execution_count": 7,
   "metadata": {},
   "outputs": [],
   "source": [
    "fh=open(\"DataFiles/22June2019_Tasks.txt\",'w')\n",
    "data=\"Line1\\nLine2\\nline3\\n\"\n",
    "fh.write(data)\n",
    "fh.close()"
   ]
  },
  {
   "cell_type": "code",
   "execution_count": null,
   "metadata": {},
   "outputs": [],
   "source": []
  },
  {
   "cell_type": "code",
   "execution_count": 37,
   "metadata": {},
   "outputs": [
    {
     "name": "stdout",
     "output_type": "stream",
     "text": [
      "79\n"
     ]
    }
   ],
   "source": [
    "#To count number of characters in the given file\n",
    "\n",
    "fh=open(\"DataFiles/22June2019_Tasks.txt\",'r')\n",
    "count=0\n",
    "\n",
    "for x in fh.read():\n",
    "    count+=1\n",
    "fh.close()\n",
    "print(count)"
   ]
  },
  {
   "cell_type": "code",
   "execution_count": 36,
   "metadata": {},
   "outputs": [
    {
     "name": "stdout",
     "output_type": "stream",
     "text": [
      "Number of lines in the provided file is:  3\n"
     ]
    }
   ],
   "source": [
    "# To count number lines in the file\n",
    "\n",
    "fh=open(\"DataFiles/22June2019_Tasks.txt\",'r')\n",
    "count=0\n",
    "\n",
    "for x in fh.readlines():\n",
    "    count+=1\n",
    "fh.close()\n",
    "print(\"Number of lines in the provided file is: \",count)"
   ]
  },
  {
   "cell_type": "code",
   "execution_count": 31,
   "metadata": {},
   "outputs": [
    {
     "name": "stdout",
     "output_type": "stream",
     "text": [
      "13\n"
     ]
    }
   ],
   "source": [
    "# To count number of words in the file\n",
    "\n",
    "fh=open(\"DataFiles/22June2019_Tasks.txt\",'r')\n",
    "l=[]\n",
    "for x in fh.readlines():\n",
    "    y=x.split()\n",
    "    l=l+y\n",
    "fh.close()\n",
    "print(len(l))"
   ]
  },
  {
   "cell_type": "code",
   "execution_count": 35,
   "metadata": {},
   "outputs": [
    {
     "name": "stdout",
     "output_type": "stream",
     "text": [
      "13\n"
     ]
    }
   ],
   "source": [
    "# To count number of Unique words in the file\n",
    "\n",
    "fh=open(\"DataFiles/22June2019_Tasks.txt\",'r')\n",
    "l=[]\n",
    "for x in fh.readlines():\n",
    "    y=x.split()\n",
    "    for data in y:\n",
    "        if data not in l:\n",
    "            l.append(data)\n",
    "fh.close()\n",
    "print(len(l))"
   ]
  },
  {
   "cell_type": "code",
   "execution_count": null,
   "metadata": {},
   "outputs": [],
   "source": []
  },
  {
   "cell_type": "code",
   "execution_count": null,
   "metadata": {},
   "outputs": [],
   "source": []
  }
 ],
 "metadata": {
  "kernelspec": {
   "display_name": "Python 3",
   "language": "python",
   "name": "python3"
  },
  "language_info": {
   "codemirror_mode": {
    "name": "ipython",
    "version": 3
   },
   "file_extension": ".py",
   "mimetype": "text/x-python",
   "name": "python",
   "nbconvert_exporter": "python",
   "pygments_lexer": "ipython3",
   "version": "3.7.3"
  }
 },
 "nbformat": 4,
 "nbformat_minor": 2
}

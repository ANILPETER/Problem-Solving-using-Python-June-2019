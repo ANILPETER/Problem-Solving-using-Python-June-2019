{
 "cells": [
  {
   "cell_type": "markdown",
   "metadata": {},
   "source": [
    "### Day Objectives:\n",
    "\n",
    "- Regular Expressions:\n",
    "    - Constructing Regular Expressions for various use cases\n",
    "    - Regular Expressions Module and related in python\n",
    "    - Improving the contacts application with name and phone number validation using regular expression\n",
    "- File Handling\n",
    "    - Text Files\n",
    "    - Upgrading the Contacts applications to store Info in to a File"
   ]
  },
  {
   "cell_type": "code",
   "execution_count": null,
   "metadata": {},
   "outputs": [],
   "source": []
  },
  {
   "cell_type": "markdown",
   "metadata": {},
   "source": [
    "### Basics of Reqular Expression\n",
    "\n",
    "- [0-9]: to check all are numbers or not\n",
    "- [A-Z]: to check all are upper case or not\n",
    "- [a-z]: to check all are lower case or not\n",
    "- ^    : to check starting char\n",
    "- $    : to check ending char\n",
    "- \\*    : to check from starting to ending\n",
    "- *.*    : any data\n",
    "\n",
    "**Tasks**\n",
    "\n",
    "Multiples of 5 \n",
    "- ^[0-9]*[05]$\n",
    "\n",
    "Validating Indian Mobile numbers starting with[6,7,8,9] of 10 digits\n",
    "    \n",
    "- ^([6-9][0-9]{9}$)|^([0][9876][0-9]{9})$|([+][9][1][6-9][0-9])$\n",
    "    \n",
    "Validating Email ID:\n",
    "\n",
    "- ^[a-zA-Z][a-zA-Z0-9_.]*(@apssdc.in)$\n",
    "    \n",
    "- ^[0-9a-z][a-z0-9_.]{4,17}[a-z0-9][@][a-z0-9]{3,18}[.][a-z]{2,4}$|\n",
    "    \n",
    "- ^[0-9a-z][a-z0-9_.]{4,17}[a-z0-9][@][a-z0-9]{3,18}[.][a-z]{2,4}[.][a-z]{2,4}$\n",
    "\n",
    "Dot: if dot executed then it can be anything\n",
    "\n",
    "- ^[a]...[z]$ -> Any string with length 5 that starts with 'a' and end with 'z'\n",
    "\n",
    "-  ^[a].*[z]$ -> Any string of any length that starts with 'a' and end with 'z'"
   ]
  },
  {
   "cell_type": "code",
   "execution_count": null,
   "metadata": {},
   "outputs": [],
   "source": []
  },
  {
   "cell_type": "markdown",
   "metadata": {},
   "source": [
    "### Designing of Contact Application\n",
    "\n",
    "#### Constraints:\n",
    " - User Name \n",
    "     - Length of username : [6, 15]\n",
    "     - No special characters other than **_**\n",
    "     - Should not begin and end with **_**\n",
    "     - character set : all digits and alphabet\n",
    " - Domain \n",
    "     - Length of domain[3,18]\n",
    "     - No special characters\n",
    "     - Character set : all digits and alphabet\n",
    " - Extensions\n",
    "      -Length of extension :[2,4]\n",
    "      - No special charaters\n",
    "      - Character set = lower case alphabet"
   ]
  },
  {
   "cell_type": "code",
   "execution_count": null,
   "metadata": {},
   "outputs": [],
   "source": []
  },
  {
   "cell_type": "code",
   "execution_count": 12,
   "metadata": {},
   "outputs": [
    {
     "data": {
      "text/plain": [
       "True"
      ]
     },
     "execution_count": 12,
     "metadata": {},
     "output_type": "execute_result"
    }
   ],
   "source": [
    "# Function to validate a phone number\n",
    "\n",
    "import re\n",
    "\n",
    "def PhoneNumberValidator(num):\n",
    "    pattern='^([6-9][0-9]{9}$)|^([0][9876][0-9]{9})$|([+][9][1][6-9][0-9])$'\n",
    "    if re.match(pattern,str(num)):\n",
    "        return True\n",
    "    return False\n",
    "def EmailValidator(Email):\n",
    "    pattern=\"^[0-9a-z][a-z0-9_.]{4,17}[a-z0-9][@][a-z0-9]{3,18}[.][a-z]{2,4}$\"\n",
    "    if re.match(pattern,str(Email)):\n",
    "        return True\n",
    "    return False\n",
    "        \n",
    "        \n",
    "PhoneNumberValidator(8886785229)\n",
    "EmailValidator(\"anilkumar_t@apssdc.in\")"
   ]
  },
  {
   "cell_type": "code",
   "execution_count": null,
   "metadata": {},
   "outputs": [],
   "source": []
  },
  {
   "cell_type": "code",
   "execution_count": 15,
   "metadata": {},
   "outputs": [],
   "source": [
    "contacts={\"Anil Peter\":[8886785229,\"anilkumar_t@apssdc.in\"],\"John Silva Raju\":[7702023300,\"johnsilvaraju7@gmail.com\"]}"
   ]
  },
  {
   "cell_type": "code",
   "execution_count": 16,
   "metadata": {},
   "outputs": [
    {
     "name": "stdout",
     "output_type": "stream",
     "text": [
      "Daddy added successfully\n"
     ]
    }
   ],
   "source": [
    "def addContact(name, phone, email):\n",
    "    #verify that the contact doesnot already exist\n",
    "    if name in contacts:\n",
    "        print(name, \"already exists.\")\n",
    "        return\n",
    "    else:\n",
    "        if not PhoneNumberValidator(phone):\n",
    "            print(\"Invalid Phone number\")\n",
    "            return\n",
    "        if not EmailValidator(email):\n",
    "            print(\"Invalid Email address\")\n",
    "            return\n",
    "        newcontact = []\n",
    "        newcontact.append(phone)\n",
    "        newcontact.append(email)\n",
    "        contacts[name] = newcontact\n",
    "        print(name, \"added successfully\")\n",
    "    return\n",
    "\n",
    "addContact(\"Daddy\", 9441448680, \"daddy143@anil.com\")"
   ]
  },
  {
   "cell_type": "code",
   "execution_count": null,
   "metadata": {},
   "outputs": [],
   "source": []
  },
  {
   "cell_type": "code",
   "execution_count": 19,
   "metadata": {},
   "outputs": [
    {
     "name": "stdout",
     "output_type": "stream",
     "text": [
      "Anil Peter\n",
      "  Phone : 8886785229\n",
      "  Email : anilkumar_t@apssdc.in\n"
     ]
    }
   ],
   "source": [
    "# Searching a contact in contacts Dict\n",
    "def searchContacts(name):\n",
    "    if name in contacts:\n",
    "        print(name)\n",
    "        print(\"  Phone :\", contacts[name][0])\n",
    "        print(\"  Email :\", contacts[name][1])\n",
    "    else:\n",
    "        print(\"%s does not exist\" % name)\n",
    "    return\n",
    "\n",
    "searchContacts(\"Anil Peter\")"
   ]
  },
  {
   "cell_type": "code",
   "execution_count": null,
   "metadata": {},
   "outputs": [],
   "source": []
  },
  {
   "cell_type": "code",
   "execution_count": 20,
   "metadata": {},
   "outputs": [
    {
     "name": "stdout",
     "output_type": "stream",
     "text": [
      "Anil Peter \n",
      " Phone : 8886785229 \n",
      " Email : anilkumar_t@apssdc.in\n",
      "John Silva Raju \n",
      " Phone : 7702023300 \n",
      " Email : johnsilvaraju7@gmail.com\n",
      "Daddy \n",
      " Phone : 9441448680 \n",
      " Email : daddy143@anil.com\n"
     ]
    }
   ],
   "source": [
    "# Function to list all contacts\n",
    "\n",
    "def listAllContacts():\n",
    "    for contact, info in contacts.items():\n",
    "        print(contact, \"\\n\", \"Phone :\", info[0], \"\\n\", \"Email :\", info[1])\n",
    "    return\n",
    "\n",
    "listAllContacts()"
   ]
  },
  {
   "cell_type": "code",
   "execution_count": null,
   "metadata": {},
   "outputs": [],
   "source": []
  },
  {
   "cell_type": "code",
   "execution_count": 24,
   "metadata": {},
   "outputs": [
    {
     "name": "stdout",
     "output_type": "stream",
     "text": [
      "Anil Peter contact modified sucessfully\n"
     ]
    }
   ],
   "source": [
    "# Function to edit contact information\n",
    "\n",
    "def editcontact(name, phone, email):\n",
    "    if name in contacts:\n",
    "        contacts[\"Anil Peter\"]: [8074278199, \"teegala.anilkumar1@gmail.com\"]\n",
    "        print(\"%s contact modified sucessfully\" % name)\n",
    "    else:\n",
    "        print(\"%s does not exist\" % name)\n",
    "editcontact('Anil Peter', 8074278199, 'teegala.anilkumar1@gmail.com')\n",
    "    "
   ]
  },
  {
   "cell_type": "code",
   "execution_count": null,
   "metadata": {},
   "outputs": [],
   "source": []
  },
  {
   "cell_type": "markdown",
   "metadata": {},
   "source": [
    "### File Handling in Python\n",
    "\n",
    "- **File :** It is a Document containg informationm residing on the permanent storage (Cloud/Local)\n",
    "- **Types of Files :** Text,Image,PDF,CSV Etc.\n",
    "\n",
    "- **File I/O :** Channeling I/O data to Files\n",
    "\n",
    "Default I/O channel for Python Environment is - Keyboard/Screen\n",
    "\n",
    "Change the I/O channel to files for Reading & Writing into Files\n",
    "\n",
    "- Read a file - Input to a file\n",
    "- Write to a file - Output to a file\n",
    "\n",
    "#### File Handling Syntax\n",
    "\n",
    "Read/ Write file - open('File_Name','Mode')"
   ]
  },
  {
   "cell_type": "code",
   "execution_count": 26,
   "metadata": {},
   "outputs": [
    {
     "name": "stdout",
     "output_type": "stream",
     "text": [
      "Enter a File name to read dataDataFiles/First.txt\n",
      "Name     :     Anil Peter     \n",
      "Role     :     Trainer cum Developer     \n",
      "Organisation     :     APSSDC     \n",
      "\n",
      "Name     :     Anil Peter     \n",
      "Role     :     Trainer cum Developer     \n",
      "Organisation     :     APSSDC     \n"
     ]
    }
   ],
   "source": [
    "# Function to read a file\n",
    "\n",
    "def ReadFile(filename):\n",
    "    f=open(filename,'r')\n",
    "    filedata=f.read()\n",
    "    \n",
    "    f.close()\n",
    "    #for x in f.readline():\n",
    "        \n",
    "    return filedata\n",
    "\n",
    "for line in ReadFile(input(\"Enter a File name to read data\")).split('\\n'):\n",
    "    print(line)\n",
    "    \n",
    "\n",
    "    \n",
    "def PrintDatainLines(FileName):\n",
    "    f=open(FileName,'r')\n",
    "    for line in f:\n",
    "        print(line,end='')\n",
    "    f.close()\n",
    "    return\n",
    "PrintDatainLines(\"DataFiles/First.txt\")"
   ]
  },
  {
   "cell_type": "code",
   "execution_count": null,
   "metadata": {},
   "outputs": [],
   "source": []
  },
  {
   "cell_type": "code",
   "execution_count": 72,
   "metadata": {},
   "outputs": [],
   "source": [
    "# Finction to Append data into a File\n",
    "\n",
    "def AppendDataintoFile(FileName,FileData):\n",
    "    l=[]\n",
    "    with open(FileName,'w') as f:\n",
    "        for keys,values in FileData.items():\n",
    "            p=keys,':',values\n",
    "            for line in p:\n",
    "                f.writelines(line)\n",
    "                f.write(\"     \")\n",
    "            f.write('\\n')\n",
    "    return\n",
    "\n",
    "filename='DataFiles/First.txt'\n",
    "\n",
    "\n",
    "filedata={'Name':'Anil Peter','Role':'Trainer cum Developer','Organisation':'APSSDC'}\n",
    "AppendDataintoFile(filename,filedata)\n",
    "    \n"
   ]
  },
  {
   "cell_type": "code",
   "execution_count": null,
   "metadata": {},
   "outputs": [],
   "source": []
  }
 ],
 "metadata": {
  "kernelspec": {
   "display_name": "Python 3",
   "language": "python",
   "name": "python3"
  },
  "language_info": {
   "codemirror_mode": {
    "name": "ipython",
    "version": 3
   },
   "file_extension": ".py",
   "mimetype": "text/x-python",
   "name": "python",
   "nbconvert_exporter": "python",
   "pygments_lexer": "ipython3",
   "version": "3.7.3"
  }
 },
 "nbformat": 4,
 "nbformat_minor": 2
}

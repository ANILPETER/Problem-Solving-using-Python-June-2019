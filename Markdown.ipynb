{
 "cells": [
  {
   "cell_type": "markdown",
   "metadata": {},
   "source": [
    "### Markdown Basics\n",
    "\n",
    "* **Bold**\n",
    "* *Italic*\n",
    "* ***IB***\n",
    "* Normal Text\n",
    "    * Sublist 1\n",
    "    * Sublist 2\n",
    "\n",
    "\n",
    "1. Ordered List Element 1\n",
    "2. Ordered List Element 2\n",
    "\n",
    "\n",
    "* for adding Email use \\<>  <anilkumar_t@apssdc.in>\n",
    "\n",
    "[Jupyter Logo](JupyterLogo.png)\n",
    "![Jupyter Logo](JupyterLogo.png)\n",
    "\n",
    "\n",
    "<img src=\"JupyterLogo.png\" style=\"float:left\" width=\"500\" height=\"500\">"
   ]
  }
 ],
 "metadata": {
  "kernelspec": {
   "display_name": "Python 3",
   "language": "python",
   "name": "python3"
  },
  "language_info": {
   "codemirror_mode": {
    "name": "ipython",
    "version": 3
   },
   "file_extension": ".py",
   "mimetype": "text/x-python",
   "name": "python",
   "nbconvert_exporter": "python",
   "pygments_lexer": "ipython3",
   "version": "3.7.3"
  }
 },
 "nbformat": 4,
 "nbformat_minor": 2
}

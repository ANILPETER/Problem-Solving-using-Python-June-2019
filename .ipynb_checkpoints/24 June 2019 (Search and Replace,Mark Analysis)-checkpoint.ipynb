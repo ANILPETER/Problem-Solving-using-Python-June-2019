{
 "cells": [
  {
   "cell_type": "markdown",
   "metadata": {},
   "source": [
    "### Find and Replace Application"
   ]
  },
  {
   "cell_type": "code",
   "execution_count": 27,
   "metadata": {},
   "outputs": [],
   "source": [
    "# Find and Replace Application\n",
    "\n",
    "    # Count the totel number of occurances\n",
    "    # If word is existing\n",
    "    # Repalce all occurances of a word without another word\n",
    "\n",
    "    \n",
    "    "
   ]
  },
  {
   "cell_type": "code",
   "execution_count": 28,
   "metadata": {},
   "outputs": [],
   "source": [
    "import re\n",
    "def words(Filepath):\n",
    "    with open(Filepath,'r') as fh:\n",
    "        Filedata=fh.read()\n",
    "        pattern='[\\n]'\n",
    "        Words=re.split(pattern,Filedata)\n",
    "    return Words\n",
    "\n",
    "Filepath=\"DataFiles/Data.txt\"\n",
    "Words=words(Filepath)"
   ]
  },
  {
   "cell_type": "code",
   "execution_count": 29,
   "metadata": {},
   "outputs": [
    {
     "data": {
      "text/plain": [
       "['Hello World!',\n",
       " 'This is Anil Peter',\n",
       " 'Anil Peter from Tadepalligudem',\n",
       " 'At present Anil Peter working in APSSDC as a Trainer cum Developer from Vijayawadaand ',\n",
       " 'Now Anil Peter geting training at IIIT Nuzvid',\n",
       " 'And ',\n",
       " 'Anil Peter writing this all for his program of ',\n",
       " 'Search ',\n",
       " 'and ',\n",
       " 'Replace',\n",
       " 'ok',\n",
       " 'Got',\n",
       " 'It']"
      ]
     },
     "execution_count": 29,
     "metadata": {},
     "output_type": "execute_result"
    }
   ],
   "source": [
    "Words"
   ]
  },
  {
   "cell_type": "code",
   "execution_count": 30,
   "metadata": {},
   "outputs": [
    {
     "name": "stdout",
     "output_type": "stream",
     "text": [
      "5\n"
     ]
    }
   ],
   "source": [
    "import re\n",
    "def SearchReplace(Words,WS,WR):\n",
    "    Words\n",
    "    String='  '.join(Words)\n",
    "    print(String.count(WR))\n",
    "    #String=String.replace(WR,WS)\n",
    "    \n",
    "    String=re.sub(WS,WR,String)\n",
    "    return String.split(\"  \")\n",
    "\n",
    "\n",
    "Words=words(Filepath)\n",
    "WS=\"I'm\"\n",
    "WR=\"Anil Peter\"\n",
    "\n",
    "Replaced=SearchReplace(Words,WS,WR)"
   ]
  },
  {
   "cell_type": "code",
   "execution_count": 31,
   "metadata": {},
   "outputs": [
    {
     "data": {
      "text/plain": [
       "['Hello World!',\n",
       " \"This is I'm\",\n",
       " \"I'm from Tadepalligudem\",\n",
       " \"At present I'm working in APSSDC as a Trainer cum Developer from Vijayawadaand\",\n",
       " \" Now I'm geting training at IIIT Nuzvid\",\n",
       " 'And',\n",
       " \" I'm writing this all for his program of\",\n",
       " ' Search',\n",
       " ' and',\n",
       " ' Replace',\n",
       " 'ok',\n",
       " 'Got',\n",
       " 'It']"
      ]
     },
     "execution_count": 31,
     "metadata": {},
     "output_type": "execute_result"
    }
   ],
   "source": [
    "Replaced"
   ]
  },
  {
   "cell_type": "code",
   "execution_count": null,
   "metadata": {},
   "outputs": [],
   "source": []
  },
  {
   "cell_type": "code",
   "execution_count": 32,
   "metadata": {},
   "outputs": [],
   "source": [
    "def WriteFile(Filepath):\n",
    "    with open(Filepath,'w') as fh:\n",
    "        for line in Replaced:\n",
    "            fh.write(line+'\\n')\n",
    "            \n",
    "WriteFile(Filepath)"
   ]
  },
  {
   "cell_type": "markdown",
   "metadata": {},
   "source": [
    "### Mark Analysis Application"
   ]
  },
  {
   "cell_type": "code",
   "execution_count": null,
   "metadata": {},
   "outputs": [],
   "source": [
    "# Mark Analysis Application\n",
    "    # Generate mars file for N students\n",
    "    # Input : Marks text file - each\n",
    "    # Generate a report with each line of text file contaions\n",
    "        # Class Average\n",
    "        # % of students passed\n",
    "        # % of students passed ----> 100-passed\n",
    "        # % of students got Distinction\n",
    "        # Highest Mark Frequency\n",
    "        # Lowest Mark Frequency\n",
    "        "
   ]
  },
  {
   "cell_type": "code",
   "execution_count": null,
   "metadata": {},
   "outputs": [],
   "source": []
  },
  {
   "cell_type": "code",
   "execution_count": 1,
   "metadata": {},
   "outputs": [],
   "source": [
    "# Function to generate marks data for N students\n",
    "from random import randint\n",
    "def GenerateMarks(N,lm,hm):\n",
    "    with open(\"DataFiles/MarksData/marks.txt\",'w') as f:\n",
    "        for i in range(0,N):\n",
    "            marks=randint(lm,hm)\n",
    "            f.write(str(marks)+'\\n')\n",
    "        \n",
    "    return\n",
    "\n",
    "GenerateMarks(100,0,100)\n",
    "\n",
    "    \n",
    "    "
   ]
  },
  {
   "cell_type": "code",
   "execution_count": null,
   "metadata": {},
   "outputs": [],
   "source": []
  },
  {
   "cell_type": "code",
   "execution_count": 33,
   "metadata": {},
   "outputs": [],
   "source": [
    "def ClassMarks(FilePath,N):\n",
    "    Marks=[]\n",
    "    with open(FilePath,'r') as fh:\n",
    "        filedata = fh.read()\n",
    "        marks = filedata.split('\\n')\n",
    "        for mark in marks:\n",
    "            Marks.append(int(mark))\n",
    "    return Marks\n",
    "N=100\n",
    "FilePath=\"DataFiles/MarksData/marks.txt\"\n",
    "ClassMarks=ClassMarks(FilePath,N)"
   ]
  },
  {
   "cell_type": "code",
   "execution_count": null,
   "metadata": {},
   "outputs": [],
   "source": []
  },
  {
   "cell_type": "code",
   "execution_count": 42,
   "metadata": {
    "scrolled": true
   },
   "outputs": [
    {
     "name": "stdout",
     "output_type": "stream",
     "text": [
      "Average of 100 students marks is:  48.49\n"
     ]
    }
   ],
   "source": [
    "def ClassAverage(ClassMarks):\n",
    "    Average=sum(ClassMarks)/N\n",
    "    print(\"Average of\",N,\"students marks is: \",Average)\n",
    "    return Average\n",
    "Average=ClassAverage(ClassMarks)"
   ]
  },
  {
   "cell_type": "code",
   "execution_count": null,
   "metadata": {},
   "outputs": [],
   "source": []
  },
  {
   "cell_type": "code",
   "execution_count": 68,
   "metadata": {},
   "outputs": [
    {
     "name": "stdout",
     "output_type": "stream",
     "text": [
      "Percentage of Passed students out of 100 students is:  53.0\n",
      "Percentage of Failed students out of 100 students is:  47.0\n"
     ]
    }
   ],
   "source": [
    "def PassedAndFailed(ClassMarks):\n",
    "    count=1\n",
    "    for marks in ClassMarks:\n",
    "        if marks>=40:\n",
    "            count+=1\n",
    "    Passed=(count/N)*100\n",
    "    Failed=100-Passed\n",
    "    print(\"Percentage of Passed students out of\",N,\"students is: \",Passed)\n",
    "    print(\"Percentage of Failed students out of\",N,\"students is: \",Failed)\n",
    "    return Passed,Failed\n",
    "\n",
    "Passed,Failed=PassedAndFailed(ClassMarks)"
   ]
  },
  {
   "cell_type": "code",
   "execution_count": null,
   "metadata": {},
   "outputs": [],
   "source": []
  },
  {
   "cell_type": "code",
   "execution_count": 70,
   "metadata": {},
   "outputs": [
    {
     "name": "stdout",
     "output_type": "stream",
     "text": [
      "Among 100 Studens 1 got Highest mark of 99\n",
      "Among 100 Studens 2 got Lowest mark of 0\n"
     ]
    }
   ],
   "source": [
    "def HighestAndLowestFreq(ClassMarks):\n",
    "    Highest=ClassMarks.count(max(ClassMarks))\n",
    "    Lowest=ClassMarks.count(min(ClassMarks))\n",
    "    \n",
    "    print(\"Among\",N,\"Studens\",Highest,\"got Highest mark of\",max(ClassMarks))\n",
    "    print(\"Among\",N,\"Studens\",Lowest,\"got Lowest mark of\",min(ClassMarks))\n",
    "    return Highest,Lowest\n",
    "Highest,Lowest=HighestAndLowestFreq(ClassMarks)"
   ]
  },
  {
   "cell_type": "code",
   "execution_count": null,
   "metadata": {},
   "outputs": [],
   "source": []
  },
  {
   "cell_type": "code",
   "execution_count": 95,
   "metadata": {},
   "outputs": [
    {
     "data": {
      "image/png": "[encoded data removed]",
      "text/plain": [
       "<Figure size 432x288 with 1 Axes>"
      ]
     },
     "metadata": {},
     "output_type": "display_data"
    },
    {
     "data": {
      "image/png": "[encoded data removed]",
      "text/plain": [
       "<Figure size 432x288 with 1 Axes>"
      ]
     },
     "metadata": {
      "needs_background": "light"
     },
     "output_type": "display_data"
    }
   ],
   "source": [
    "import matplotlib.pyplot as plt\n",
    "\n",
    "# Pie chart, where the slices will be ordered and plotted counter-clockwise:\n",
    "labels = '% of Passed','% of Failed'\n",
    "sizes = [65,35]\n",
    "explode = (0, 0.05)  # only \"explode\" the 2nd slice (i.e. 'Hogs')\n",
    "\n",
    "fig1, ax1 = plt.subplots()\n",
    "ax1.pie(sizes, explode=explode, labels=labels, autopct='%1.1f%%',\n",
    "        shadow=True, startangle=90)\n",
    "ax1.axis('equal')  # Equal aspect ratio ensures that pie is drawn as a circle.\n",
    "\n",
    "plt.show()\n",
    "xyz=[Highest,Lowest]\n",
    "plt.scatter(Highest,N)\n",
    "plt.scatter(Lowest,N)\n",
    "plt.show()"
   ]
  }
 ],
 "metadata": {
  "kernelspec": {
   "display_name": "Python 3",
   "language": "python",
   "name": "python3"
  },
  "language_info": {
   "codemirror_mode": {
    "name": "ipython",
    "version": 3
   },
   "file_extension": ".py",
   "mimetype": "text/x-python",
   "name": "python",
   "nbconvert_exporter": "python",
   "pygments_lexer": "ipython3",
   "version": "3.7.3"
  }
 },
 "nbformat": 4,
 "nbformat_minor": 2
}

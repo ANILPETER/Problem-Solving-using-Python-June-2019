{
 "cells": [
  {
   "cell_type": "markdown",
   "metadata": {},
   "source": [
    "## 26/06/2019\n"
   ]
  },
  {
   "cell_type": "code",
   "execution_count": null,
   "metadata": {},
   "outputs": [],
   "source": []
  },
  {
   "cell_type": "code",
   "execution_count": null,
   "metadata": {},
   "outputs": [],
   "source": [
    "# Function to find 2nd largest n in the given list\n",
    "\n",
    "def SecondLargest(Data):\n",
    "    #convert the list into a unique list"
   ]
  },
  {
   "cell_type": "code",
   "execution_count": null,
   "metadata": {},
   "outputs": [],
   "source": []
  },
  {
   "cell_type": "code",
   "execution_count": 4,
   "metadata": {},
   "outputs": [],
   "source": [
    "li=[1,2,4,1,43,543,4235,76,33,11,2,4,1]\n",
    "li=list(set(li))\n",
    "li.sort()"
   ]
  },
  {
   "cell_type": "code",
   "execution_count": 5,
   "metadata": {},
   "outputs": [
    {
     "data": {
      "text/plain": [
       "[1, 2, 4, 11, 33, 43, 76, 543, 4235]"
      ]
     },
     "execution_count": 5,
     "metadata": {},
     "output_type": "execute_result"
    }
   ],
   "source": [
    "li"
   ]
  },
  {
   "cell_type": "code",
   "execution_count": 14,
   "metadata": {},
   "outputs": [
    {
     "data": {
      "text/plain": [
       "5"
      ]
     },
     "execution_count": 14,
     "metadata": {},
     "output_type": "execute_result"
    }
   ],
   "source": [
    "def FifthSmallest(li):\n",
    "    unique=[]\n",
    "    for data in li:\n",
    "        if data not in unique:\n",
    "            unique.append(data)\n",
    "    unique=sorted(unique)\n",
    "    if len(unique)>=4:\n",
    "        return unique[4]\n",
    "    return -1\n",
    "\n",
    "FifthSmallest([1,2,4,3,6,8,3,9,5])"
   ]
  },
  {
   "cell_type": "code",
   "execution_count": null,
   "metadata": {},
   "outputs": [],
   "source": []
  },
  {
   "cell_type": "code",
   "execution_count": 7,
   "metadata": {},
   "outputs": [
    {
     "data": {
      "text/plain": [
       "4"
      ]
     },
     "execution_count": 7,
     "metadata": {},
     "output_type": "execute_result"
    }
   ],
   "source": [
    "def FifthBiggest(li):\n",
    "    unique=[]\n",
    "    for data in li:\n",
    "        if data not in unique:\n",
    "            unique.append(data)\n",
    "    unique=sorted(unique,reverse=True)\n",
    "    if len(unique)>4:\n",
    "        return unique[4]\n",
    "    return -1\n",
    "\n",
    "FifthBiggest([1,2,4,3,6,8,3,9,5])"
   ]
  },
  {
   "cell_type": "code",
   "execution_count": null,
   "metadata": {},
   "outputs": [],
   "source": []
  },
  {
   "cell_type": "code",
   "execution_count": 13,
   "metadata": {},
   "outputs": [
    {
     "data": {
      "text/plain": [
       "9"
      ]
     },
     "execution_count": 13,
     "metadata": {},
     "output_type": "execute_result"
    }
   ],
   "source": [
    "def KthSmallest(li,k):\n",
    "    unique=[]\n",
    "    for data in li:\n",
    "        if data not in unique:\n",
    "            unique.append(data)\n",
    "    unique=sorted(unique)\n",
    "    if len(unique)>=k:\n",
    "        return unique[k-1]\n",
    "    return -1\n",
    "\n",
    "KthSmallest([1,2,4,3,6,8,3,9,5],8)"
   ]
  },
  {
   "cell_type": "code",
   "execution_count": 11,
   "metadata": {},
   "outputs": [
    {
     "data": {
      "text/plain": [
       "1"
      ]
     },
     "execution_count": 11,
     "metadata": {},
     "output_type": "execute_result"
    }
   ],
   "source": [
    "def KthBiggest(li,k):\n",
    "    unique=[]\n",
    "    for data in li:\n",
    "        if data not in unique:\n",
    "            unique.append(data)\n",
    "    unique=sorted(unique,reverse=True)\n",
    "    if len(unique)>=k:\n",
    "        return unique[k-1]\n",
    "    return -1\n",
    "\n",
    "KthBiggest([1,2,4,3,6,8,3,9,5],8)"
   ]
  },
  {
   "cell_type": "code",
   "execution_count": null,
   "metadata": {},
   "outputs": [],
   "source": []
  },
  {
   "cell_type": "code",
   "execution_count": 28,
   "metadata": {},
   "outputs": [
    {
     "name": "stdout",
     "output_type": "stream",
     "text": [
      "1\n"
     ]
    }
   ],
   "source": [
    "#Function to identify the highest frequency of a element\n",
    "\n",
    "\n",
    "def HighestFrequency(li):\n",
    "    Data={};res=[]\n",
    "    for data in li:\n",
    "        if data not in Data.keys():\n",
    "            Data[data]=li.count(data)\n",
    "    uniquevalues=Data.values()\n",
    "    uniquevalues=list(set(uniquevalues))\n",
    "    for keys,values in Data.items():\n",
    "        if values==max(uniquevalues):\n",
    "            res.append(keys)\n",
    "    if len(res)>=1:\n",
    "        print(min(res))\n",
    "    else:\n",
    "        print(-1)\n",
    "    return \n",
    "li=[1,2,3,9,8,7,3,4,1]    \n",
    "li1=[1,2,3,4,5,6,7,8,9,1,2,3,4,5,6,7,8,9,1,4,6,8,3,5,6]   \n",
    "HighestFrequency(li)"
   ]
  },
  {
   "cell_type": "code",
   "execution_count": null,
   "metadata": {},
   "outputs": [],
   "source": []
  },
  {
   "cell_type": "code",
   "execution_count": 40,
   "metadata": {},
   "outputs": [
    {
     "name": "stdout",
     "output_type": "stream",
     "text": [
      "1\n",
      "4\n"
     ]
    }
   ],
   "source": [
    "#Function to identify the highest frequency of a element\n",
    "\n",
    "\n",
    "def SecondHighestFrequency(li):\n",
    "    Data={};res=[]\n",
    "    for data in li:\n",
    "        if data not in Data.keys():\n",
    "            Data[data]=li.count(data)\n",
    "    uniquevalues=Data.values()\n",
    "    uniquevalues=sorted(list(set(uniquevalues)),reverse=True)\n",
    "    SecondFreq=uniquevalues[1]\n",
    "    print(SecondFreq)\n",
    "    for keys,values in Data.items():\n",
    "        if values==SecondFreq:\n",
    "            res.append(keys)\n",
    "    if len(res)>=1:\n",
    "        print(min(res))\n",
    "    else:\n",
    "        print(-1)\n",
    "    return \n",
    "li=[1,1,2,2,3,3,4,9]    \n",
    "li1=[1,2,3,4,5,6,7,8,9,1,2,3,4,5,6,7,8,9,1,4,6,8,3,5,6]   \n",
    "SecondHighestFrequency(li)"
   ]
  },
  {
   "cell_type": "code",
   "execution_count": null,
   "metadata": {},
   "outputs": [],
   "source": []
  },
  {
   "cell_type": "code",
   "execution_count": null,
   "metadata": {},
   "outputs": [],
   "source": []
  },
  {
   "cell_type": "code",
   "execution_count": null,
   "metadata": {},
   "outputs": [],
   "source": []
  },
  {
   "cell_type": "code",
   "execution_count": null,
   "metadata": {},
   "outputs": [],
   "source": []
  },
  {
   "cell_type": "code",
   "execution_count": null,
   "metadata": {},
   "outputs": [],
   "source": []
  }
 ],
 "metadata": {
  "kernelspec": {
   "display_name": "Python 3",
   "language": "python",
   "name": "python3"
  },
  "language_info": {
   "codemirror_mode": {
    "name": "ipython",
    "version": 3
   },
   "file_extension": ".py",
   "mimetype": "text/x-python",
   "name": "python",
   "nbconvert_exporter": "python",
   "pygments_lexer": "ipython3",
   "version": "3.7.3"
  }
 },
 "nbformat": 4,
 "nbformat_minor": 2
}

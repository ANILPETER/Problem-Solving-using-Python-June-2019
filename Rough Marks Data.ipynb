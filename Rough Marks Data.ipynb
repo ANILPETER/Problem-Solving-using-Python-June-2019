{
 "cells": [
  {
   "cell_type": "code",
   "execution_count": null,
   "metadata": {},
   "outputs": [],
   "source": []
  },
  {
   "cell_type": "code",
   "execution_count": null,
   "metadata": {},
   "outputs": [],
   "source": []
  },
  {
   "cell_type": "code",
   "execution_count": 36,
   "metadata": {},
   "outputs": [],
   "source": [
    "from random import randint\n",
    "def GenerateMarks(N):\n",
    "    with open(\"DataFiles/MarksData/RoughMarks.txt\",'w') as f:\n",
    "        for i in range(0,N):\n",
    "            I1=randint(0,25)\n",
    "            I2=randint(0,25)\n",
    "            E=randint(0,75)\n",
    "            marks=str(I1)+str(\" \")+str(I2)+str(\" \")+str(E)+str(\" \")+str(((I1+I2)/2)+E)\n",
    "            f.write(marks+'\\n')\n",
    "    return\n",
    "\n",
    "GenerateMarks(100)"
   ]
  },
  {
   "cell_type": "code",
   "execution_count": null,
   "metadata": {},
   "outputs": [],
   "source": []
  }
 ],
 "metadata": {
  "kernelspec": {
   "display_name": "Python 3",
   "language": "python",
   "name": "python3"
  },
  "language_info": {
   "codemirror_mode": {
    "name": "ipython",
    "version": 3
   },
   "file_extension": ".py",
   "mimetype": "text/x-python",
   "name": "python",
   "nbconvert_exporter": "python",
   "pygments_lexer": "ipython3",
   "version": "3.7.3"
  }
 },
 "nbformat": 4,
 "nbformat_minor": 2
}

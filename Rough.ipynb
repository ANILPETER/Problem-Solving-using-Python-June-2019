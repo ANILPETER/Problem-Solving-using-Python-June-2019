{
 "cells": [
  {
   "cell_type": "code",
   "execution_count": 18,
   "metadata": {},
   "outputs": [
    {
     "name": "stdout",
     "output_type": "stream",
     "text": [
      "0\n"
     ]
    }
   ],
   "source": [
    "SevenSegment={0:6,1:2,2:5,3:5,4:4,5:5,6:6,7:3,8:7,9:6}\n",
    "\n",
    "def FSevenSegment(inp):\n",
    "    rval=0;rkey=0\n",
    "    SevenSegment={0:6,1:2,2:5,3:5,4:4,5:5,6:6,7:3,8:7,9:6}\n",
    "\n",
    "    for keys,values in SevenSegment.items():\n",
    "        if inp==keys: \n",
    "            ext=values #no of sticks\n",
    "            rkey=keys\n",
    "            break\n",
    "    for keys,values in SevenSegment.items():\n",
    "        if ext%values==0:\n",
    "              print(keys)\n",
    "        \n",
    "        \n",
    "test=int(input())\n",
    "for x in range(0,test):\n",
    "    inp=int(input())\n",
    "    print()\n",
    "    FSevenSegment(inp)\n",
    "    "
   ]
  },
  {
   "cell_type": "code",
   "execution_count": 25,
   "metadata": {},
   "outputs": [
    {
     "name": "stdout",
     "output_type": "stream",
     "text": [
      "1\n",
      "0\n",
      "\n",
      "0 6\n",
      "1 0\n"
     ]
    }
   ],
   "source": [
    "SevenSegment={0:6,1:2,2:5,3:5,4:4,5:5,6:6,7:3,8:7,9:6}\n",
    "\n",
    "def FSevenSegment(inp):\n",
    "    rval=0;rkey=0\n",
    "    SevenSegment={0:6,1:2,2:5,3:5,4:4,5:5,6:6,7:3,8:7,9:6}\n",
    "\n",
    "    for keys,values in SevenSegment.items():\n",
    "        if inp==keys: \n",
    "            ext=values #no of sticks\n",
    "            rkey=keys\n",
    "            break\n",
    "    for keys,values in SevenSegment.items():\n",
    "        if ext%values==0:\n",
    "            print(keys,ext)\n",
    "            ext-=values\n",
    "        \n",
    "        \n",
    "test=int(input())\n",
    "for x in range(0,test):\n",
    "    inp=int(input())\n",
    "    print()\n",
    "    FSevenSegment(inp)"
   ]
  },
  {
   "cell_type": "code",
   "execution_count": null,
   "metadata": {},
   "outputs": [],
   "source": [
    "SevenSegment={0:6,1:2,2:5,3:5,4:4,5:5,6:6,7:3,8:7,9:6}\n",
    "\n",
    "def FSevenSegment(inp):\n",
    "    rval=0;rkey=0;ext=0\n",
    "    SevenSegment={0:6,1:2,2:5,3:5,4:4,5:5,6:6,7:3,8:7,9:6}\n",
    "\n",
    "    for keys,values in SevenSegment.items():\n",
    "        if inp==1:\n",
    "            if inp==keys: \n",
    "                rval=values\n",
    "                break\n",
    "        else:\n",
    "            for y in str(inp):\n",
    "                if int(y) in SevenSegment.keys():\n",
    "                    rval+=SevenSegment[int(y)]\n",
    "            break\n",
    "            \n",
    "            \n",
    "\n",
    "                \n",
    "    \n",
    "    while rval!=0:\n",
    "        if rval%2==0:\n",
    "            print(1,end='')\n",
    "            rval-=2\n",
    "        else:\n",
    "            print(7,end='')\n",
    "            rval-=3\n",
    "    print(\"rval:\",rval)\n",
    "                \n",
    "        \n",
    "        \n",
    "test=int(input())\n",
    "for x in range(0,test):\n",
    "    inp=int(input())\n",
    "    print()\n",
    "    FSevenSegment(inp)\n",
    "    "
   ]
  },
  {
   "cell_type": "code",
   "execution_count": 32,
   "metadata": {},
   "outputs": [
    {
     "data": {
      "text/plain": [
       "['1', '2', '3', '4']"
      ]
     },
     "execution_count": 32,
     "metadata": {},
     "output_type": "execute_result"
    }
   ],
   "source": [
    "li=list('1234')\n",
    "li"
   ]
  },
  {
   "cell_type": "code",
   "execution_count": 37,
   "metadata": {},
   "outputs": [
    {
     "name": "stdout",
     "output_type": "stream",
     "text": [
      "asdsasa : ascac "
     ]
    }
   ],
   "source": [
    "m=('asdsasa',':','ascac')\n",
    "for x in m:\n",
    "    print(x,end=' ')"
   ]
  },
  {
   "cell_type": "code",
   "execution_count": 17,
   "metadata": {},
   "outputs": [
    {
     "name": "stdout",
     "output_type": "stream",
     "text": [
      "1\n",
      "0215499054295520377503150677180071804571420653378259628321269856020009935751122333113447475782835391\n",
      "\n",
      "11111111111111111111111111111111111111111111111111111111111111111111111111111111111111111111111111111111111111111111111111111111111111111111111111111111111111111111111111111111111111111111111111111111111111111111111111111111111111111111"
     ]
    }
   ],
   "source": [
    "SevenSegment={0:6,1:2,2:5,3:5,4:4,5:5,6:6,7:3,8:7,9:6}\n",
    "\n",
    "def FSevenSegment(inp):\n",
    "    rval=0;rkey=0;ext=0\n",
    "    SevenSegment={0:6,1:2,2:5,3:5,4:4,5:5,6:6,7:3,8:7,9:6}\n",
    "\n",
    "    for keys,values in SevenSegment.items():\n",
    "        if inp==1:\n",
    "            if inp==keys: \n",
    "                rval=values\n",
    "                break\n",
    "        else:\n",
    "            for y in str(inp):\n",
    "                if int(y) in SevenSegment.keys():\n",
    "                    rval+=SevenSegment[int(y)]\n",
    "            break\n",
    "    while rval!=0:\n",
    "        if rval%2==0:\n",
    "            print(1,end='')\n",
    "            rval-=2\n",
    "        elif rval%3==0:\n",
    "            print(7,end='')\n",
    "            rval-=3\n",
    "        else:\n",
    "            print(111,end='')\n",
    "                \n",
    "        \n",
    "        \n",
    "test=int(input())\n",
    "for x in range(0,test):\n",
    "    inp=int(input())\n",
    "    print()\n",
    "    FSevenSegment(inp)\n",
    "    "
   ]
  },
  {
   "cell_type": "code",
   "execution_count": 5,
   "metadata": {},
   "outputs": [
    {
     "data": {
      "text/plain": [
       "False"
      ]
     },
     "execution_count": 5,
     "metadata": {},
     "output_type": "execute_result"
    }
   ],
   "source": [
    "str(7) in SevenSegment.keys()"
   ]
  },
  {
   "cell_type": "code",
   "execution_count": 6,
   "metadata": {},
   "outputs": [
    {
     "name": "stdout",
     "output_type": "stream",
     "text": [
      "Help on class int in module builtins:\n",
      "\n",
      "class int(object)\n",
      " |  int([x]) -> integer\n",
      " |  int(x, base=10) -> integer\n",
      " |  \n",
      " |  Convert a number or string to an integer, or return 0 if no arguments\n",
      " |  are given.  If x is a number, return x.__int__().  For floating point\n",
      " |  numbers, this truncates towards zero.\n",
      " |  \n",
      " |  If x is not a number or if base is given, then x must be a string,\n",
      " |  bytes, or bytearray instance representing an integer literal in the\n",
      " |  given base.  The literal can be preceded by '+' or '-' and be surrounded\n",
      " |  by whitespace.  The base defaults to 10.  Valid bases are 0 and 2-36.\n",
      " |  Base 0 means to interpret the base from the string as an integer literal.\n",
      " |  >>> int('0b100', base=0)\n",
      " |  4\n",
      " |  \n",
      " |  Methods defined here:\n",
      " |  \n",
      " |  __abs__(self, /)\n",
      " |      abs(self)\n",
      " |  \n",
      " |  __add__(self, value, /)\n",
      " |      Return self+value.\n",
      " |  \n",
      " |  __and__(self, value, /)\n",
      " |      Return self&value.\n",
      " |  \n",
      " |  __bool__(self, /)\n",
      " |      self != 0\n",
      " |  \n",
      " |  __ceil__(...)\n",
      " |      Ceiling of an Integral returns itself.\n",
      " |  \n",
      " |  __divmod__(self, value, /)\n",
      " |      Return divmod(self, value).\n",
      " |  \n",
      " |  __eq__(self, value, /)\n",
      " |      Return self==value.\n",
      " |  \n",
      " |  __float__(self, /)\n",
      " |      float(self)\n",
      " |  \n",
      " |  __floor__(...)\n",
      " |      Flooring an Integral returns itself.\n",
      " |  \n",
      " |  __floordiv__(self, value, /)\n",
      " |      Return self//value.\n",
      " |  \n",
      " |  __format__(self, format_spec, /)\n",
      " |      Default object formatter.\n",
      " |  \n",
      " |  __ge__(self, value, /)\n",
      " |      Return self>=value.\n",
      " |  \n",
      " |  __getattribute__(self, name, /)\n",
      " |      Return getattr(self, name).\n",
      " |  \n",
      " |  __getnewargs__(self, /)\n",
      " |  \n",
      " |  __gt__(self, value, /)\n",
      " |      Return self>value.\n",
      " |  \n",
      " |  __hash__(self, /)\n",
      " |      Return hash(self).\n",
      " |  \n",
      " |  __index__(self, /)\n",
      " |      Return self converted to an integer, if self is suitable for use as an index into a list.\n",
      " |  \n",
      " |  __int__(self, /)\n",
      " |      int(self)\n",
      " |  \n",
      " |  __invert__(self, /)\n",
      " |      ~self\n",
      " |  \n",
      " |  __le__(self, value, /)\n",
      " |      Return self<=value.\n",
      " |  \n",
      " |  __lshift__(self, value, /)\n",
      " |      Return self<<value.\n",
      " |  \n",
      " |  __lt__(self, value, /)\n",
      " |      Return self<value.\n",
      " |  \n",
      " |  __mod__(self, value, /)\n",
      " |      Return self%value.\n",
      " |  \n",
      " |  __mul__(self, value, /)\n",
      " |      Return self*value.\n",
      " |  \n",
      " |  __ne__(self, value, /)\n",
      " |      Return self!=value.\n",
      " |  \n",
      " |  __neg__(self, /)\n",
      " |      -self\n",
      " |  \n",
      " |  __or__(self, value, /)\n",
      " |      Return self|value.\n",
      " |  \n",
      " |  __pos__(self, /)\n",
      " |      +self\n",
      " |  \n",
      " |  __pow__(self, value, mod=None, /)\n",
      " |      Return pow(self, value, mod).\n",
      " |  \n",
      " |  __radd__(self, value, /)\n",
      " |      Return value+self.\n",
      " |  \n",
      " |  __rand__(self, value, /)\n",
      " |      Return value&self.\n",
      " |  \n",
      " |  __rdivmod__(self, value, /)\n",
      " |      Return divmod(value, self).\n",
      " |  \n",
      " |  __repr__(self, /)\n",
      " |      Return repr(self).\n",
      " |  \n",
      " |  __rfloordiv__(self, value, /)\n",
      " |      Return value//self.\n",
      " |  \n",
      " |  __rlshift__(self, value, /)\n",
      " |      Return value<<self.\n",
      " |  \n",
      " |  __rmod__(self, value, /)\n",
      " |      Return value%self.\n",
      " |  \n",
      " |  __rmul__(self, value, /)\n",
      " |      Return value*self.\n",
      " |  \n",
      " |  __ror__(self, value, /)\n",
      " |      Return value|self.\n",
      " |  \n",
      " |  __round__(...)\n",
      " |      Rounding an Integral returns itself.\n",
      " |      Rounding with an ndigits argument also returns an integer.\n",
      " |  \n",
      " |  __rpow__(self, value, mod=None, /)\n",
      " |      Return pow(value, self, mod).\n",
      " |  \n",
      " |  __rrshift__(self, value, /)\n",
      " |      Return value>>self.\n",
      " |  \n",
      " |  __rshift__(self, value, /)\n",
      " |      Return self>>value.\n",
      " |  \n",
      " |  __rsub__(self, value, /)\n",
      " |      Return value-self.\n",
      " |  \n",
      " |  __rtruediv__(self, value, /)\n",
      " |      Return value/self.\n",
      " |  \n",
      " |  __rxor__(self, value, /)\n",
      " |      Return value^self.\n",
      " |  \n",
      " |  __sizeof__(self, /)\n",
      " |      Returns size in memory, in bytes.\n",
      " |  \n",
      " |  __str__(self, /)\n",
      " |      Return str(self).\n",
      " |  \n",
      " |  __sub__(self, value, /)\n",
      " |      Return self-value.\n",
      " |  \n",
      " |  __truediv__(self, value, /)\n",
      " |      Return self/value.\n",
      " |  \n",
      " |  __trunc__(...)\n",
      " |      Truncating an Integral returns itself.\n",
      " |  \n",
      " |  __xor__(self, value, /)\n",
      " |      Return self^value.\n",
      " |  \n",
      " |  bit_length(self, /)\n",
      " |      Number of bits necessary to represent self in binary.\n",
      " |      \n",
      " |      >>> bin(37)\n",
      " |      '0b100101'\n",
      " |      >>> (37).bit_length()\n",
      " |      6\n",
      " |  \n",
      " |  conjugate(...)\n",
      " |      Returns self, the complex conjugate of any int.\n",
      " |  \n",
      " |  to_bytes(self, /, length, byteorder, *, signed=False)\n",
      " |      Return an array of bytes representing an integer.\n",
      " |      \n",
      " |      length\n",
      " |        Length of bytes object to use.  An OverflowError is raised if the\n",
      " |        integer is not representable with the given number of bytes.\n",
      " |      byteorder\n",
      " |        The byte order used to represent the integer.  If byteorder is 'big',\n",
      " |        the most significant byte is at the beginning of the byte array.  If\n",
      " |        byteorder is 'little', the most significant byte is at the end of the\n",
      " |        byte array.  To request the native byte order of the host system, use\n",
      " |        `sys.byteorder' as the byte order value.\n",
      " |      signed\n",
      " |        Determines whether two's complement is used to represent the integer.\n",
      " |        If signed is False and a negative integer is given, an OverflowError\n",
      " |        is raised.\n",
      " |  \n",
      " |  ----------------------------------------------------------------------\n",
      " |  Class methods defined here:\n",
      " |  \n",
      " |  from_bytes(bytes, byteorder, *, signed=False) from builtins.type\n",
      " |      Return the integer represented by the given array of bytes.\n",
      " |      \n",
      " |      bytes\n",
      " |        Holds the array of bytes to convert.  The argument must either\n",
      " |        support the buffer protocol or be an iterable object producing bytes.\n",
      " |        Bytes and bytearray are examples of built-in objects that support the\n",
      " |        buffer protocol.\n",
      " |      byteorder\n",
      " |        The byte order used to represent the integer.  If byteorder is 'big',\n",
      " |        the most significant byte is at the beginning of the byte array.  If\n",
      " |        byteorder is 'little', the most significant byte is at the end of the\n",
      " |        byte array.  To request the native byte order of the host system, use\n",
      " |        `sys.byteorder' as the byte order value.\n",
      " |      signed\n",
      " |        Indicates whether two's complement is used to represent the integer.\n",
      " |  \n",
      " |  ----------------------------------------------------------------------\n",
      " |  Static methods defined here:\n",
      " |  \n",
      " |  __new__(*args, **kwargs) from builtins.type\n",
      " |      Create and return a new object.  See help(type) for accurate signature.\n",
      " |  \n",
      " |  ----------------------------------------------------------------------\n",
      " |  Data descriptors defined here:\n",
      " |  \n",
      " |  denominator\n",
      " |      the denominator of a rational number in lowest terms\n",
      " |  \n",
      " |  imag\n",
      " |      the imaginary part of a complex number\n",
      " |  \n",
      " |  numerator\n",
      " |      the numerator of a rational number in lowest terms\n",
      " |  \n",
      " |  real\n",
      " |      the real part of a complex number\n",
      "\n"
     ]
    }
   ],
   "source": [
    "x=11111111111111111111111111111111111111111111111111111111111111111111111111111111111111111111111111111111111111111111111111111111111111111111111111111111111111111111111111111111111111111111111111111111111111111111111111111111111111111111\n",
    "y=11111111111111111111111111111111111111111111111111111111111111111111111111111111111111111111111111111111111111111111111111111111111111111111111111111111111111111111111111111111111111111111111111111111111111111111111111111111111111111111111"
   ]
  },
  {
   "cell_type": "code",
   "execution_count": 7,
   "metadata": {},
   "outputs": [
    {
     "ename": "NameError",
     "evalue": "name 'sizeof' is not defined",
     "output_type": "error",
     "traceback": [
      "\u001b[1;31m---------------------------------------------------------------------------\u001b[0m",
      "\u001b[1;31mNameError\u001b[0m                                 Traceback (most recent call last)",
      "\u001b[1;32m<ipython-input-7-3f1e1e97d4ab>\u001b[0m in \u001b[0;36m<module>\u001b[1;34m\u001b[0m\n\u001b[1;32m----> 1\u001b[1;33m \u001b[0msizeof\u001b[0m\u001b[1;33m(\u001b[0m\u001b[1;36m25425\u001b[0m\u001b[1;33m)\u001b[0m\u001b[1;33m\u001b[0m\u001b[1;33m\u001b[0m\u001b[0m\n\u001b[0m",
      "\u001b[1;31mNameError\u001b[0m: name 'sizeof' is not defined"
     ]
    }
   ],
   "source": [
    "sizeof(25425)"
   ]
  },
  {
   "cell_type": "code",
   "execution_count": 20,
   "metadata": {},
   "outputs": [
    {
     "data": {
      "text/plain": [
       "3"
      ]
     },
     "execution_count": 20,
     "metadata": {},
     "output_type": "execute_result"
    }
   ],
   "source": [
    "215499054295520377503150677180071804571420653378259628321269856020009935751122333113447475782835391%7\n"
   ]
  },
  {
   "cell_type": "code",
   "execution_count": 15,
   "metadata": {},
   "outputs": [
    {
     "ename": "NameError",
     "evalue": "name 'delete' is not defined",
     "output_type": "error",
     "traceback": [
      "\u001b[1;31m---------------------------------------------------------------------------\u001b[0m",
      "\u001b[1;31mNameError\u001b[0m                                 Traceback (most recent call last)",
      "\u001b[1;32m<ipython-input-15-bbea7a5e636a>\u001b[0m in \u001b[0;36m<module>\u001b[1;34m\u001b[0m\n\u001b[0;32m      4\u001b[0m     \u001b[1;34m'saturn'\u001b[0m\u001b[1;33m:\u001b[0m \u001b[1;36m3.17\u001b[0m\u001b[1;33m\u001b[0m\u001b[1;33m\u001b[0m\u001b[0m\n\u001b[0;32m      5\u001b[0m }\n\u001b[1;32m----> 6\u001b[1;33m \u001b[0mdelete\u001b[0m\u001b[1;33m(\u001b[0m\u001b[0mescape_velocity\u001b[0m\u001b[1;33m[\u001b[0m\u001b[1;34m'jupiter'\u001b[0m\u001b[1;33m]\u001b[0m\u001b[1;33m)\u001b[0m\u001b[1;33m\u001b[0m\u001b[1;33m\u001b[0m\u001b[0m\n\u001b[0m\u001b[0;32m      7\u001b[0m \u001b[0mprintescape_velocity\u001b[0m\u001b[1;33m\u001b[0m\u001b[1;33m\u001b[0m\u001b[0m\n",
      "\u001b[1;31mNameError\u001b[0m: name 'delete' is not defined"
     ]
    }
   ],
   "source": [
    "escape_velocity = {\n",
    "    'earth': 1,\n",
    "    'jupiter': 5.32,\n",
    "    'saturn': 3.17\n",
    "}\n",
    "delete(escape_velocity['jupiter'])\n",
    "printescape_velocity"
   ]
  },
  {
   "cell_type": "code",
   "execution_count": 7,
   "metadata": {},
   "outputs": [
    {
     "data": {
      "text/plain": [
       "{'earth': 1, 'jupiter': 5.32, 'saturn': 3.17}"
      ]
     },
     "execution_count": 7,
     "metadata": {},
     "output_type": "execute_result"
    }
   ],
   "source": [
    "escape_velocity"
   ]
  },
  {
   "cell_type": "code",
   "execution_count": 27,
   "metadata": {},
   "outputs": [
    {
     "ename": "SyntaxError",
     "evalue": "invalid syntax (<ipython-input-27-61f1bc93b2f1>, line 5)",
     "output_type": "error",
     "traceback": [
      "\u001b[1;36m  File \u001b[1;32m\"<ipython-input-27-61f1bc93b2f1>\"\u001b[1;36m, line \u001b[1;32m5\u001b[0m\n\u001b[1;33m    rotation_period=rotation_period.update('saturn':'0.445')\u001b[0m\n\u001b[1;37m                                                   ^\u001b[0m\n\u001b[1;31mSyntaxError\u001b[0m\u001b[1;31m:\u001b[0m invalid syntax\n"
     ]
    }
   ],
   "source": [
    "rotation_period = {\n",
    "    'earth': 1.0,\n",
    "    'jupiter': 0.415, \n",
    "    'saturn': 44}\n",
    "rotation_period=['saturn']=0.445\n",
    "print(rotation_period)"
   ]
  },
  {
   "cell_type": "code",
   "execution_count": 28,
   "metadata": {},
   "outputs": [
    {
     "name": "stdout",
     "output_type": "stream",
     "text": [
      "Help on class dict in module builtins:\n",
      "\n",
      "class dict(object)\n",
      " |  dict() -> new empty dictionary\n",
      " |  dict(mapping) -> new dictionary initialized from a mapping object's\n",
      " |      (key, value) pairs\n",
      " |  dict(iterable) -> new dictionary initialized as if via:\n",
      " |      d = {}\n",
      " |      for k, v in iterable:\n",
      " |          d[k] = v\n",
      " |  dict(**kwargs) -> new dictionary initialized with the name=value pairs\n",
      " |      in the keyword argument list.  For example:  dict(one=1, two=2)\n",
      " |  \n",
      " |  Methods defined here:\n",
      " |  \n",
      " |  __contains__(self, key, /)\n",
      " |      True if the dictionary has the specified key, else False.\n",
      " |  \n",
      " |  __delitem__(self, key, /)\n",
      " |      Delete self[key].\n",
      " |  \n",
      " |  __eq__(self, value, /)\n",
      " |      Return self==value.\n",
      " |  \n",
      " |  __ge__(self, value, /)\n",
      " |      Return self>=value.\n",
      " |  \n",
      " |  __getattribute__(self, name, /)\n",
      " |      Return getattr(self, name).\n",
      " |  \n",
      " |  __getitem__(...)\n",
      " |      x.__getitem__(y) <==> x[y]\n",
      " |  \n",
      " |  __gt__(self, value, /)\n",
      " |      Return self>value.\n",
      " |  \n",
      " |  __init__(self, /, *args, **kwargs)\n",
      " |      Initialize self.  See help(type(self)) for accurate signature.\n",
      " |  \n",
      " |  __iter__(self, /)\n",
      " |      Implement iter(self).\n",
      " |  \n",
      " |  __le__(self, value, /)\n",
      " |      Return self<=value.\n",
      " |  \n",
      " |  __len__(self, /)\n",
      " |      Return len(self).\n",
      " |  \n",
      " |  __lt__(self, value, /)\n",
      " |      Return self<value.\n",
      " |  \n",
      " |  __ne__(self, value, /)\n",
      " |      Return self!=value.\n",
      " |  \n",
      " |  __repr__(self, /)\n",
      " |      Return repr(self).\n",
      " |  \n",
      " |  __setitem__(self, key, value, /)\n",
      " |      Set self[key] to value.\n",
      " |  \n",
      " |  __sizeof__(...)\n",
      " |      D.__sizeof__() -> size of D in memory, in bytes\n",
      " |  \n",
      " |  clear(...)\n",
      " |      D.clear() -> None.  Remove all items from D.\n",
      " |  \n",
      " |  copy(...)\n",
      " |      D.copy() -> a shallow copy of D\n",
      " |  \n",
      " |  get(self, key, default=None, /)\n",
      " |      Return the value for key if key is in the dictionary, else default.\n",
      " |  \n",
      " |  items(...)\n",
      " |      D.items() -> a set-like object providing a view on D's items\n",
      " |  \n",
      " |  keys(...)\n",
      " |      D.keys() -> a set-like object providing a view on D's keys\n",
      " |  \n",
      " |  pop(...)\n",
      " |      D.pop(k[,d]) -> v, remove specified key and return the corresponding value.\n",
      " |      If key is not found, d is returned if given, otherwise KeyError is raised\n",
      " |  \n",
      " |  popitem(...)\n",
      " |      D.popitem() -> (k, v), remove and return some (key, value) pair as a\n",
      " |      2-tuple; but raise KeyError if D is empty.\n",
      " |  \n",
      " |  setdefault(self, key, default=None, /)\n",
      " |      Insert key with a value of default if key is not in the dictionary.\n",
      " |      \n",
      " |      Return the value for key if key is in the dictionary, else default.\n",
      " |  \n",
      " |  update(...)\n",
      " |      D.update([E, ]**F) -> None.  Update D from dict/iterable E and F.\n",
      " |      If E is present and has a .keys() method, then does:  for k in E: D[k] = E[k]\n",
      " |      If E is present and lacks a .keys() method, then does:  for k, v in E: D[k] = v\n",
      " |      In either case, this is followed by: for k in F:  D[k] = F[k]\n",
      " |  \n",
      " |  values(...)\n",
      " |      D.values() -> an object providing a view on D's values\n",
      " |  \n",
      " |  ----------------------------------------------------------------------\n",
      " |  Class methods defined here:\n",
      " |  \n",
      " |  fromkeys(iterable, value=None, /) from builtins.type\n",
      " |      Create a new dictionary with keys from iterable and values set to value.\n",
      " |  \n",
      " |  ----------------------------------------------------------------------\n",
      " |  Static methods defined here:\n",
      " |  \n",
      " |  __new__(*args, **kwargs) from builtins.type\n",
      " |      Create and return a new object.  See help(type) for accurate signature.\n",
      " |  \n",
      " |  ----------------------------------------------------------------------\n",
      " |  Data and other attributes defined here:\n",
      " |  \n",
      " |  __hash__ = None\n",
      "\n"
     ]
    }
   ],
   "source": [
    "help(dict)"
   ]
  },
  {
   "cell_type": "code",
   "execution_count": null,
   "metadata": {},
   "outputs": [],
   "source": []
  },
  {
   "cell_type": "code",
   "execution_count": 41,
   "metadata": {},
   "outputs": [
    {
     "name": "stdout",
     "output_type": "stream",
     "text": [
      "1\n",
      "0\n",
      "111\n"
     ]
    }
   ],
   "source": [
    "SevenSegment={0:6,1:2,2:5,3:5,4:4,5:5,6:6,7:3,8:7,9:6}\n",
    "\n",
    "def FSevenSegment(inp):\n",
    "    rval=0\n",
    "    SevenSegment={0:6,1:2,2:5,3:5,4:4,5:5,6:6,7:3,8:7,9:6}\n",
    "\n",
    "    for keys,values in SevenSegment.items():\n",
    "        if inp==1:\n",
    "            if inp==keys: \n",
    "                rval=values\n",
    "                break\n",
    "        else:\n",
    "            for y in str(inp):\n",
    "                if int(y) in SevenSegment.keys():\n",
    "                    rval+=SevenSegment[int(y)]\n",
    "            break\n",
    "    \n",
    "    while rval!=0:\n",
    "        if rval%2==0:\n",
    "            while rval//2:\n",
    "                \n",
    "                print(1,end='')\n",
    "                rval-=2\n",
    "\n",
    "        else:\n",
    "            print(7,end='')\n",
    "            rval-=3\n",
    "    print()\n",
    "                \n",
    "        \n",
    "        \n",
    "test=int(input())\n",
    "for x in range(0,test):\n",
    "    inp=int(input())\n",
    "    FSevenSegment(inp)"
   ]
  },
  {
   "cell_type": "code",
   "execution_count": 43,
   "metadata": {},
   "outputs": [
    {
     "data": {
      "text/plain": [
       "2"
      ]
     },
     "execution_count": 43,
     "metadata": {},
     "output_type": "execute_result"
    }
   ],
   "source": [
    "inp=10\n",
    "len(str(inp))"
   ]
  },
  {
   "cell_type": "code",
   "execution_count": 63,
   "metadata": {},
   "outputs": [
    {
     "name": "stdout",
     "output_type": "stream",
     "text": [
      "Z\n",
      "[\n",
      "\\\n",
      "]\n",
      "^\n",
      "_\n",
      "`\n"
     ]
    }
   ],
   "source": [
    "def isPrime(n):\n",
    "    flag = 1\n",
    "    if n == 2:\n",
    "        return True\n",
    "    for i in range(2, n//2 + 1):\n",
    "        if n % i == 0:\n",
    "            flag = 0\n",
    "            return False\n",
    "    if flag == 1:\n",
    "        return True\n",
    "    \n",
    "A=[]\n",
    "\n",
    "for x in range(ord('Z'),ord('a')):\n",
    "    print(chr(x))"
   ]
  },
  {
   "cell_type": "code",
   "execution_count": 27,
   "metadata": {},
   "outputs": [
    {
     "name": "stdout",
     "output_type": "stream",
     "text": [
      "2\n",
      "7\n",
      "1 3 1 4 5 7 10\n",
      "5 [1, 3, 5, 7, 10]\n"
     ]
    }
   ],
   "source": [
    "def K_Jump(K,Num):\n",
    "    res=[];j=1\n",
    "    for i in range(0,len(Num)-1):\n",
    "        if Num[j]-Num[i]>=K:\n",
    "            res.append(Num[i])\n",
    "            #print(Num,Num[i],Num[j])\n",
    "            \n",
    "        else:\n",
    "            if Num[j]!=Num[i]:\n",
    "                Num[j]=Num[i]\n",
    "                #print(j)\n",
    "                #print(Num,Num[i],Num[j])\n",
    "        j+=1 \n",
    "    if Num[j-1]-Num[i]>=K:\n",
    "        res.append(Num[j-1])\n",
    "    print(len(res))\n",
    "    return\n",
    "\n",
    "K=int(input())\n",
    "N=int(input())\n",
    "A=input().split()\n",
    "Data=[]\n",
    "for x in A:\n",
    "    Data.append(int(x))\n",
    "K_Jump(K,Data)"
   ]
  },
  {
   "cell_type": "code",
   "execution_count": 35,
   "metadata": {},
   "outputs": [
    {
     "name": "stdout",
     "output_type": "stream",
     "text": [
      "51\n",
      "100\n",
      "24377 19687 19079 8286 2728 16520 22556 24439 12814 18305 18928 31484 31940 16087 20423 20266 21341 13538 9835 11832 25992 26528 27819 28996 18232 32079 18852 5518 26883 11066 18495 14820 28616 16083 3067 4189 12181 15618 17133 6218 19912 3005 30981 13418 20084 23001 12434 29021 4358 14623 25608 4187 40 7843 21761 10790 30949 15697 19587 32317 11534 28361 12417 16979 1245 7789 4772 1535 17369 27319 7243 32437 29945 28881 31696 20469 25100 30303 14093 9154 6744 26015 1822 10070 19586 20405 8553 16404 30638 26944 4572 3262 14310 13617 2678 1768 12736 20957 19465 22701\n",
      "[24377, 19687, 19079, 8286, 2728, 16520, 22556, 24439, 12814, 18305, 18928, 31484, 31940, 16087, 20423, 20266, 21341, 13538, 9835, 11832, 25992, 26528, 27819, 28996, 18232, 32079, 18852, 5518, 26883, 11066, 18495, 14820, 28616, 16083, 3067, 4189, 12181, 15618, 17133, 6218, 19912, 3005, 30981, 13418, 20084, 23001, 12434, 29021, 4358, 14623, 25608, 4187, 40, 7843, 21761, 10790, 30949, 15697, 19587, 32317, 11534, 28361, 12417, 16979, 1245, 7789, 4772, 1535, 17369, 27319, 7243, 32437, 29945, 28881, 31696, 20469, 25100, 30303, 14093, 9154, 6744, 26015, 1822, 10070, 19586, 20405, 8553, 16404, 30638, 26944, 4572, 3262, 14310, 13617, 2678, 1768, 12736, 20957, 19465, 22701] 24377 19687\n",
      "[24377, 19687, 19079, 8286, 2728, 16520, 22556, 24439, 12814, 18305, 18928, 31484, 31940, 16087, 20423, 20266, 21341, 13538, 9835, 11832, 25992, 26528, 27819, 28996, 18232, 32079, 18852, 5518, 26883, 11066, 18495, 14820, 28616, 16083, 3067, 4189, 12181, 15618, 17133, 6218, 19912, 3005, 30981, 13418, 20084, 23001, 12434, 29021, 4358, 14623, 25608, 4187, 40, 7843, 21761, 10790, 30949, 15697, 19587, 32317, 11534, 28361, 12417, 16979, 1245, 7789, 4772, 1535, 17369, 27319, 7243, 32437, 29945, 28881, 31696, 20469, 25100, 30303, 14093, 9154, 6744, 26015, 1822, 10070, 19586, 20405, 8553, 16404, 30638, 26944, 4572, 3262, 14310, 13617, 2678, 1768, 12736, 20957, 19465, 22701] 19687 19079\n",
      "[24377, 19687, 19079, 8286, 2728, 16520, 22556, 24439, 12814, 18305, 18928, 31484, 31940, 16087, 20423, 20266, 21341, 13538, 9835, 11832, 25992, 26528, 27819, 28996, 18232, 32079, 18852, 5518, 26883, 11066, 18495, 14820, 28616, 16083, 3067, 4189, 12181, 15618, 17133, 6218, 19912, 3005, 30981, 13418, 20084, 23001, 12434, 29021, 4358, 14623, 25608, 4187, 40, 7843, 21761, 10790, 30949, 15697, 19587, 32317, 11534, 28361, 12417, 16979, 1245, 7789, 4772, 1535, 17369, 27319, 7243, 32437, 29945, 28881, 31696, 20469, 25100, 30303, 14093, 9154, 6744, 26015, 1822, 10070, 19586, 20405, 8553, 16404, 30638, 26944, 4572, 3262, 14310, 13617, 2678, 1768, 12736, 20957, 19465, 22701] 19079 8286\n",
      "[24377, 19687, 19079, 8286, 2728, 16520, 22556, 24439, 12814, 18305, 18928, 31484, 31940, 16087, 20423, 20266, 21341, 13538, 9835, 11832, 25992, 26528, 27819, 28996, 18232, 32079, 18852, 5518, 26883, 11066, 18495, 14820, 28616, 16083, 3067, 4189, 12181, 15618, 17133, 6218, 19912, 3005, 30981, 13418, 20084, 23001, 12434, 29021, 4358, 14623, 25608, 4187, 40, 7843, 21761, 10790, 30949, 15697, 19587, 32317, 11534, 28361, 12417, 16979, 1245, 7789, 4772, 1535, 17369, 27319, 7243, 32437, 29945, 28881, 31696, 20469, 25100, 30303, 14093, 9154, 6744, 26015, 1822, 10070, 19586, 20405, 8553, 16404, 30638, 26944, 4572, 3262, 14310, 13617, 2678, 1768, 12736, 20957, 19465, 22701] 8286 2728\n",
      "[24377, 19687, 19079, 8286, 2728, 16520, 22556, 24439, 12814, 18305, 18928, 31484, 31940, 16087, 20423, 20266, 21341, 13538, 9835, 11832, 25992, 26528, 27819, 28996, 18232, 32079, 18852, 5518, 26883, 11066, 18495, 14820, 28616, 16083, 3067, 4189, 12181, 15618, 17133, 6218, 19912, 3005, 30981, 13418, 20084, 23001, 12434, 29021, 4358, 14623, 25608, 4187, 40, 7843, 21761, 10790, 30949, 15697, 19587, 32317, 11534, 28361, 12417, 16979, 1245, 7789, 4772, 1535, 17369, 27319, 7243, 32437, 29945, 28881, 31696, 20469, 25100, 30303, 14093, 9154, 6744, 26015, 1822, 10070, 19586, 20405, 8553, 16404, 30638, 26944, 4572, 3262, 14310, 13617, 2678, 1768, 12736, 20957, 19465, 22701] 2728 16520\n",
      "[24377, 19687, 19079, 8286, 2728, 16520, 22556, 24439, 12814, 18305, 18928, 31484, 31940, 16087, 20423, 20266, 21341, 13538, 9835, 11832, 25992, 26528, 27819, 28996, 18232, 32079, 18852, 5518, 26883, 11066, 18495, 14820, 28616, 16083, 3067, 4189, 12181, 15618, 17133, 6218, 19912, 3005, 30981, 13418, 20084, 23001, 12434, 29021, 4358, 14623, 25608, 4187, 40, 7843, 21761, 10790, 30949, 15697, 19587, 32317, 11534, 28361, 12417, 16979, 1245, 7789, 4772, 1535, 17369, 27319, 7243, 32437, 29945, 28881, 31696, 20469, 25100, 30303, 14093, 9154, 6744, 26015, 1822, 10070, 19586, 20405, 8553, 16404, 30638, 26944, 4572, 3262, 14310, 13617, 2678, 1768, 12736, 20957, 19465, 22701] 16520 22556\n",
      "[24377, 19687, 19079, 8286, 2728, 16520, 22556, 24439, 12814, 18305, 18928, 31484, 31940, 16087, 20423, 20266, 21341, 13538, 9835, 11832, 25992, 26528, 27819, 28996, 18232, 32079, 18852, 5518, 26883, 11066, 18495, 14820, 28616, 16083, 3067, 4189, 12181, 15618, 17133, 6218, 19912, 3005, 30981, 13418, 20084, 23001, 12434, 29021, 4358, 14623, 25608, 4187, 40, 7843, 21761, 10790, 30949, 15697, 19587, 32317, 11534, 28361, 12417, 16979, 1245, 7789, 4772, 1535, 17369, 27319, 7243, 32437, 29945, 28881, 31696, 20469, 25100, 30303, 14093, 9154, 6744, 26015, 1822, 10070, 19586, 20405, 8553, 16404, 30638, 26944, 4572, 3262, 14310, 13617, 2678, 1768, 12736, 20957, 19465, 22701] 22556 24439\n",
      "[24377, 19687, 19079, 8286, 2728, 16520, 22556, 24439, 12814, 18305, 18928, 31484, 31940, 16087, 20423, 20266, 21341, 13538, 9835, 11832, 25992, 26528, 27819, 28996, 18232, 32079, 18852, 5518, 26883, 11066, 18495, 14820, 28616, 16083, 3067, 4189, 12181, 15618, 17133, 6218, 19912, 3005, 30981, 13418, 20084, 23001, 12434, 29021, 4358, 14623, 25608, 4187, 40, 7843, 21761, 10790, 30949, 15697, 19587, 32317, 11534, 28361, 12417, 16979, 1245, 7789, 4772, 1535, 17369, 27319, 7243, 32437, 29945, 28881, 31696, 20469, 25100, 30303, 14093, 9154, 6744, 26015, 1822, 10070, 19586, 20405, 8553, 16404, 30638, 26944, 4572, 3262, 14310, 13617, 2678, 1768, 12736, 20957, 19465, 22701] 24439 12814\n",
      "[24377, 19687, 19079, 8286, 2728, 16520, 22556, 24439, 12814, 18305, 18928, 31484, 31940, 16087, 20423, 20266, 21341, 13538, 9835, 11832, 25992, 26528, 27819, 28996, 18232, 32079, 18852, 5518, 26883, 11066, 18495, 14820, 28616, 16083, 3067, 4189, 12181, 15618, 17133, 6218, 19912, 3005, 30981, 13418, 20084, 23001, 12434, 29021, 4358, 14623, 25608, 4187, 40, 7843, 21761, 10790, 30949, 15697, 19587, 32317, 11534, 28361, 12417, 16979, 1245, 7789, 4772, 1535, 17369, 27319, 7243, 32437, 29945, 28881, 31696, 20469, 25100, 30303, 14093, 9154, 6744, 26015, 1822, 10070, 19586, 20405, 8553, 16404, 30638, 26944, 4572, 3262, 14310, 13617, 2678, 1768, 12736, 20957, 19465, 22701] 12814 18305\n",
      "[24377, 19687, 19079, 8286, 2728, 16520, 22556, 24439, 12814, 18305, 18928, 31484, 31940, 16087, 20423, 20266, 21341, 13538, 9835, 11832, 25992, 26528, 27819, 28996, 18232, 32079, 18852, 5518, 26883, 11066, 18495, 14820, 28616, 16083, 3067, 4189, 12181, 15618, 17133, 6218, 19912, 3005, 30981, 13418, 20084, 23001, 12434, 29021, 4358, 14623, 25608, 4187, 40, 7843, 21761, 10790, 30949, 15697, 19587, 32317, 11534, 28361, 12417, 16979, 1245, 7789, 4772, 1535, 17369, 27319, 7243, 32437, 29945, 28881, 31696, 20469, 25100, 30303, 14093, 9154, 6744, 26015, 1822, 10070, 19586, 20405, 8553, 16404, 30638, 26944, 4572, 3262, 14310, 13617, 2678, 1768, 12736, 20957, 19465, 22701] 18305 18928\n",
      "[24377, 19687, 19079, 8286, 2728, 16520, 22556, 24439, 12814, 18305, 18928, 31484, 31940, 16087, 20423, 20266, 21341, 13538, 9835, 11832, 25992, 26528, 27819, 28996, 18232, 32079, 18852, 5518, 26883, 11066, 18495, 14820, 28616, 16083, 3067, 4189, 12181, 15618, 17133, 6218, 19912, 3005, 30981, 13418, 20084, 23001, 12434, 29021, 4358, 14623, 25608, 4187, 40, 7843, 21761, 10790, 30949, 15697, 19587, 32317, 11534, 28361, 12417, 16979, 1245, 7789, 4772, 1535, 17369, 27319, 7243, 32437, 29945, 28881, 31696, 20469, 25100, 30303, 14093, 9154, 6744, 26015, 1822, 10070, 19586, 20405, 8553, 16404, 30638, 26944, 4572, 3262, 14310, 13617, 2678, 1768, 12736, 20957, 19465, 22701] 18928 31484\n",
      "[24377, 19687, 19079, 8286, 2728, 16520, 22556, 24439, 12814, 18305, 18928, 31484, 31940, 16087, 20423, 20266, 21341, 13538, 9835, 11832, 25992, 26528, 27819, 28996, 18232, 32079, 18852, 5518, 26883, 11066, 18495, 14820, 28616, 16083, 3067, 4189, 12181, 15618, 17133, 6218, 19912, 3005, 30981, 13418, 20084, 23001, 12434, 29021, 4358, 14623, 25608, 4187, 40, 7843, 21761, 10790, 30949, 15697, 19587, 32317, 11534, 28361, 12417, 16979, 1245, 7789, 4772, 1535, 17369, 27319, 7243, 32437, 29945, 28881, 31696, 20469, 25100, 30303, 14093, 9154, 6744, 26015, 1822, 10070, 19586, 20405, 8553, 16404, 30638, 26944, 4572, 3262, 14310, 13617, 2678, 1768, 12736, 20957, 19465, 22701] 31484 31940\n",
      "[24377, 19687, 19079, 8286, 2728, 16520, 22556, 24439, 12814, 18305, 18928, 31484, 31940, 16087, 20423, 20266, 21341, 13538, 9835, 11832, 25992, 26528, 27819, 28996, 18232, 32079, 18852, 5518, 26883, 11066, 18495, 14820, 28616, 16083, 3067, 4189, 12181, 15618, 17133, 6218, 19912, 3005, 30981, 13418, 20084, 23001, 12434, 29021, 4358, 14623, 25608, 4187, 40, 7843, 21761, 10790, 30949, 15697, 19587, 32317, 11534, 28361, 12417, 16979, 1245, 7789, 4772, 1535, 17369, 27319, 7243, 32437, 29945, 28881, 31696, 20469, 25100, 30303, 14093, 9154, 6744, 26015, 1822, 10070, 19586, 20405, 8553, 16404, 30638, 26944, 4572, 3262, 14310, 13617, 2678, 1768, 12736, 20957, 19465, 22701] 31940 16087\n",
      "[24377, 19687, 19079, 8286, 2728, 16520, 22556, 24439, 12814, 18305, 18928, 31484, 31940, 16087, 20423, 20266, 21341, 13538, 9835, 11832, 25992, 26528, 27819, 28996, 18232, 32079, 18852, 5518, 26883, 11066, 18495, 14820, 28616, 16083, 3067, 4189, 12181, 15618, 17133, 6218, 19912, 3005, 30981, 13418, 20084, 23001, 12434, 29021, 4358, 14623, 25608, 4187, 40, 7843, 21761, 10790, 30949, 15697, 19587, 32317, 11534, 28361, 12417, 16979, 1245, 7789, 4772, 1535, 17369, 27319, 7243, 32437, 29945, 28881, 31696, 20469, 25100, 30303, 14093, 9154, 6744, 26015, 1822, 10070, 19586, 20405, 8553, 16404, 30638, 26944, 4572, 3262, 14310, 13617, 2678, 1768, 12736, 20957, 19465, 22701] 16087 20423\n",
      "[24377, 19687, 19079, 8286, 2728, 16520, 22556, 24439, 12814, 18305, 18928, 31484, 31940, 16087, 20423, 20266, 21341, 13538, 9835, 11832, 25992, 26528, 27819, 28996, 18232, 32079, 18852, 5518, 26883, 11066, 18495, 14820, 28616, 16083, 3067, 4189, 12181, 15618, 17133, 6218, 19912, 3005, 30981, 13418, 20084, 23001, 12434, 29021, 4358, 14623, 25608, 4187, 40, 7843, 21761, 10790, 30949, 15697, 19587, 32317, 11534, 28361, 12417, 16979, 1245, 7789, 4772, 1535, 17369, 27319, 7243, 32437, 29945, 28881, 31696, 20469, 25100, 30303, 14093, 9154, 6744, 26015, 1822, 10070, 19586, 20405, 8553, 16404, 30638, 26944, 4572, 3262, 14310, 13617, 2678, 1768, 12736, 20957, 19465, 22701] 20423 20266\n",
      "[24377, 19687, 19079, 8286, 2728, 16520, 22556, 24439, 12814, 18305, 18928, 31484, 31940, 16087, 20423, 20266, 21341, 13538, 9835, 11832, 25992, 26528, 27819, 28996, 18232, 32079, 18852, 5518, 26883, 11066, 18495, 14820, 28616, 16083, 3067, 4189, 12181, 15618, 17133, 6218, 19912, 3005, 30981, 13418, 20084, 23001, 12434, 29021, 4358, 14623, 25608, 4187, 40, 7843, 21761, 10790, 30949, 15697, 19587, 32317, 11534, 28361, 12417, 16979, 1245, 7789, 4772, 1535, 17369, 27319, 7243, 32437, 29945, 28881, 31696, 20469, 25100, 30303, 14093, 9154, 6744, 26015, 1822, 10070, 19586, 20405, 8553, 16404, 30638, 26944, 4572, 3262, 14310, 13617, 2678, 1768, 12736, 20957, 19465, 22701] 20266 21341\n",
      "[24377, 19687, 19079, 8286, 2728, 16520, 22556, 24439, 12814, 18305, 18928, 31484, 31940, 16087, 20423, 20266, 21341, 13538, 9835, 11832, 25992, 26528, 27819, 28996, 18232, 32079, 18852, 5518, 26883, 11066, 18495, 14820, 28616, 16083, 3067, 4189, 12181, 15618, 17133, 6218, 19912, 3005, 30981, 13418, 20084, 23001, 12434, 29021, 4358, 14623, 25608, 4187, 40, 7843, 21761, 10790, 30949, 15697, 19587, 32317, 11534, 28361, 12417, 16979, 1245, 7789, 4772, 1535, 17369, 27319, 7243, 32437, 29945, 28881, 31696, 20469, 25100, 30303, 14093, 9154, 6744, 26015, 1822, 10070, 19586, 20405, 8553, 16404, 30638, 26944, 4572, 3262, 14310, 13617, 2678, 1768, 12736, 20957, 19465, 22701] 21341 13538\n",
      "[24377, 19687, 19079, 8286, 2728, 16520, 22556, 24439, 12814, 18305, 18928, 31484, 31940, 16087, 20423, 20266, 21341, 13538, 9835, 11832, 25992, 26528, 27819, 28996, 18232, 32079, 18852, 5518, 26883, 11066, 18495, 14820, 28616, 16083, 3067, 4189, 12181, 15618, 17133, 6218, 19912, 3005, 30981, 13418, 20084, 23001, 12434, 29021, 4358, 14623, 25608, 4187, 40, 7843, 21761, 10790, 30949, 15697, 19587, 32317, 11534, 28361, 12417, 16979, 1245, 7789, 4772, 1535, 17369, 27319, 7243, 32437, 29945, 28881, 31696, 20469, 25100, 30303, 14093, 9154, 6744, 26015, 1822, 10070, 19586, 20405, 8553, 16404, 30638, 26944, 4572, 3262, 14310, 13617, 2678, 1768, 12736, 20957, 19465, 22701] 13538 9835\n",
      "[24377, 19687, 19079, 8286, 2728, 16520, 22556, 24439, 12814, 18305, 18928, 31484, 31940, 16087, 20423, 20266, 21341, 13538, 9835, 11832, 25992, 26528, 27819, 28996, 18232, 32079, 18852, 5518, 26883, 11066, 18495, 14820, 28616, 16083, 3067, 4189, 12181, 15618, 17133, 6218, 19912, 3005, 30981, 13418, 20084, 23001, 12434, 29021, 4358, 14623, 25608, 4187, 40, 7843, 21761, 10790, 30949, 15697, 19587, 32317, 11534, 28361, 12417, 16979, 1245, 7789, 4772, 1535, 17369, 27319, 7243, 32437, 29945, 28881, 31696, 20469, 25100, 30303, 14093, 9154, 6744, 26015, 1822, 10070, 19586, 20405, 8553, 16404, 30638, 26944, 4572, 3262, 14310, 13617, 2678, 1768, 12736, 20957, 19465, 22701] 9835 11832\n",
      "[24377, 19687, 19079, 8286, 2728, 16520, 22556, 24439, 12814, 18305, 18928, 31484, 31940, 16087, 20423, 20266, 21341, 13538, 9835, 11832, 25992, 26528, 27819, 28996, 18232, 32079, 18852, 5518, 26883, 11066, 18495, 14820, 28616, 16083, 3067, 4189, 12181, 15618, 17133, 6218, 19912, 3005, 30981, 13418, 20084, 23001, 12434, 29021, 4358, 14623, 25608, 4187, 40, 7843, 21761, 10790, 30949, 15697, 19587, 32317, 11534, 28361, 12417, 16979, 1245, 7789, 4772, 1535, 17369, 27319, 7243, 32437, 29945, 28881, 31696, 20469, 25100, 30303, 14093, 9154, 6744, 26015, 1822, 10070, 19586, 20405, 8553, 16404, 30638, 26944, 4572, 3262, 14310, 13617, 2678, 1768, 12736, 20957, 19465, 22701] 11832 25992\n",
      "[24377, 19687, 19079, 8286, 2728, 16520, 22556, 24439, 12814, 18305, 18928, 31484, 31940, 16087, 20423, 20266, 21341, 13538, 9835, 11832, 25992, 26528, 27819, 28996, 18232, 32079, 18852, 5518, 26883, 11066, 18495, 14820, 28616, 16083, 3067, 4189, 12181, 15618, 17133, 6218, 19912, 3005, 30981, 13418, 20084, 23001, 12434, 29021, 4358, 14623, 25608, 4187, 40, 7843, 21761, 10790, 30949, 15697, 19587, 32317, 11534, 28361, 12417, 16979, 1245, 7789, 4772, 1535, 17369, 27319, 7243, 32437, 29945, 28881, 31696, 20469, 25100, 30303, 14093, 9154, 6744, 26015, 1822, 10070, 19586, 20405, 8553, 16404, 30638, 26944, 4572, 3262, 14310, 13617, 2678, 1768, 12736, 20957, 19465, 22701] 25992 26528\n",
      "[24377, 19687, 19079, 8286, 2728, 16520, 22556, 24439, 12814, 18305, 18928, 31484, 31940, 16087, 20423, 20266, 21341, 13538, 9835, 11832, 25992, 26528, 27819, 28996, 18232, 32079, 18852, 5518, 26883, 11066, 18495, 14820, 28616, 16083, 3067, 4189, 12181, 15618, 17133, 6218, 19912, 3005, 30981, 13418, 20084, 23001, 12434, 29021, 4358, 14623, 25608, 4187, 40, 7843, 21761, 10790, 30949, 15697, 19587, 32317, 11534, 28361, 12417, 16979, 1245, 7789, 4772, 1535, 17369, 27319, 7243, 32437, 29945, 28881, 31696, 20469, 25100, 30303, 14093, 9154, 6744, 26015, 1822, 10070, 19586, 20405, 8553, 16404, 30638, 26944, 4572, 3262, 14310, 13617, 2678, 1768, 12736, 20957, 19465, 22701] 26528 27819\n",
      "[24377, 19687, 19079, 8286, 2728, 16520, 22556, 24439, 12814, 18305, 18928, 31484, 31940, 16087, 20423, 20266, 21341, 13538, 9835, 11832, 25992, 26528, 27819, 28996, 18232, 32079, 18852, 5518, 26883, 11066, 18495, 14820, 28616, 16083, 3067, 4189, 12181, 15618, 17133, 6218, 19912, 3005, 30981, 13418, 20084, 23001, 12434, 29021, 4358, 14623, 25608, 4187, 40, 7843, 21761, 10790, 30949, 15697, 19587, 32317, 11534, 28361, 12417, 16979, 1245, 7789, 4772, 1535, 17369, 27319, 7243, 32437, 29945, 28881, 31696, 20469, 25100, 30303, 14093, 9154, 6744, 26015, 1822, 10070, 19586, 20405, 8553, 16404, 30638, 26944, 4572, 3262, 14310, 13617, 2678, 1768, 12736, 20957, 19465, 22701] 27819 28996\n",
      "[24377, 19687, 19079, 8286, 2728, 16520, 22556, 24439, 12814, 18305, 18928, 31484, 31940, 16087, 20423, 20266, 21341, 13538, 9835, 11832, 25992, 26528, 27819, 28996, 18232, 32079, 18852, 5518, 26883, 11066, 18495, 14820, 28616, 16083, 3067, 4189, 12181, 15618, 17133, 6218, 19912, 3005, 30981, 13418, 20084, 23001, 12434, 29021, 4358, 14623, 25608, 4187, 40, 7843, 21761, 10790, 30949, 15697, 19587, 32317, 11534, 28361, 12417, 16979, 1245, 7789, 4772, 1535, 17369, 27319, 7243, 32437, 29945, 28881, 31696, 20469, 25100, 30303, 14093, 9154, 6744, 26015, 1822, 10070, 19586, 20405, 8553, 16404, 30638, 26944, 4572, 3262, 14310, 13617, 2678, 1768, 12736, 20957, 19465, 22701] 28996 18232\n",
      "[24377, 19687, 19079, 8286, 2728, 16520, 22556, 24439, 12814, 18305, 18928, 31484, 31940, 16087, 20423, 20266, 21341, 13538, 9835, 11832, 25992, 26528, 27819, 28996, 18232, 32079, 18852, 5518, 26883, 11066, 18495, 14820, 28616, 16083, 3067, 4189, 12181, 15618, 17133, 6218, 19912, 3005, 30981, 13418, 20084, 23001, 12434, 29021, 4358, 14623, 25608, 4187, 40, 7843, 21761, 10790, 30949, 15697, 19587, 32317, 11534, 28361, 12417, 16979, 1245, 7789, 4772, 1535, 17369, 27319, 7243, 32437, 29945, 28881, 31696, 20469, 25100, 30303, 14093, 9154, 6744, 26015, 1822, 10070, 19586, 20405, 8553, 16404, 30638, 26944, 4572, 3262, 14310, 13617, 2678, 1768, 12736, 20957, 19465, 22701] 18232 32079\n",
      "[24377, 19687, 19079, 8286, 2728, 16520, 22556, 24439, 12814, 18305, 18928, 31484, 31940, 16087, 20423, 20266, 21341, 13538, 9835, 11832, 25992, 26528, 27819, 28996, 18232, 32079, 18852, 5518, 26883, 11066, 18495, 14820, 28616, 16083, 3067, 4189, 12181, 15618, 17133, 6218, 19912, 3005, 30981, 13418, 20084, 23001, 12434, 29021, 4358, 14623, 25608, 4187, 40, 7843, 21761, 10790, 30949, 15697, 19587, 32317, 11534, 28361, 12417, 16979, 1245, 7789, 4772, 1535, 17369, 27319, 7243, 32437, 29945, 28881, 31696, 20469, 25100, 30303, 14093, 9154, 6744, 26015, 1822, 10070, 19586, 20405, 8553, 16404, 30638, 26944, 4572, 3262, 14310, 13617, 2678, 1768, 12736, 20957, 19465, 22701] 32079 18852\n",
      "[24377, 19687, 19079, 8286, 2728, 16520, 22556, 24439, 12814, 18305, 18928, 31484, 31940, 16087, 20423, 20266, 21341, 13538, 9835, 11832, 25992, 26528, 27819, 28996, 18232, 32079, 18852, 5518, 26883, 11066, 18495, 14820, 28616, 16083, 3067, 4189, 12181, 15618, 17133, 6218, 19912, 3005, 30981, 13418, 20084, 23001, 12434, 29021, 4358, 14623, 25608, 4187, 40, 7843, 21761, 10790, 30949, 15697, 19587, 32317, 11534, 28361, 12417, 16979, 1245, 7789, 4772, 1535, 17369, 27319, 7243, 32437, 29945, 28881, 31696, 20469, 25100, 30303, 14093, 9154, 6744, 26015, 1822, 10070, 19586, 20405, 8553, 16404, 30638, 26944, 4572, 3262, 14310, 13617, 2678, 1768, 12736, 20957, 19465, 22701] 18852 5518\n",
      "[24377, 19687, 19079, 8286, 2728, 16520, 22556, 24439, 12814, 18305, 18928, 31484, 31940, 16087, 20423, 20266, 21341, 13538, 9835, 11832, 25992, 26528, 27819, 28996, 18232, 32079, 18852, 5518, 26883, 11066, 18495, 14820, 28616, 16083, 3067, 4189, 12181, 15618, 17133, 6218, 19912, 3005, 30981, 13418, 20084, 23001, 12434, 29021, 4358, 14623, 25608, 4187, 40, 7843, 21761, 10790, 30949, 15697, 19587, 32317, 11534, 28361, 12417, 16979, 1245, 7789, 4772, 1535, 17369, 27319, 7243, 32437, 29945, 28881, 31696, 20469, 25100, 30303, 14093, 9154, 6744, 26015, 1822, 10070, 19586, 20405, 8553, 16404, 30638, 26944, 4572, 3262, 14310, 13617, 2678, 1768, 12736, 20957, 19465, 22701] 5518 26883\n",
      "[24377, 19687, 19079, 8286, 2728, 16520, 22556, 24439, 12814, 18305, 18928, 31484, 31940, 16087, 20423, 20266, 21341, 13538, 9835, 11832, 25992, 26528, 27819, 28996, 18232, 32079, 18852, 5518, 26883, 11066, 18495, 14820, 28616, 16083, 3067, 4189, 12181, 15618, 17133, 6218, 19912, 3005, 30981, 13418, 20084, 23001, 12434, 29021, 4358, 14623, 25608, 4187, 40, 7843, 21761, 10790, 30949, 15697, 19587, 32317, 11534, 28361, 12417, 16979, 1245, 7789, 4772, 1535, 17369, 27319, 7243, 32437, 29945, 28881, 31696, 20469, 25100, 30303, 14093, 9154, 6744, 26015, 1822, 10070, 19586, 20405, 8553, 16404, 30638, 26944, 4572, 3262, 14310, 13617, 2678, 1768, 12736, 20957, 19465, 22701] 26883 11066\n",
      "[24377, 19687, 19079, 8286, 2728, 16520, 22556, 24439, 12814, 18305, 18928, 31484, 31940, 16087, 20423, 20266, 21341, 13538, 9835, 11832, 25992, 26528, 27819, 28996, 18232, 32079, 18852, 5518, 26883, 11066, 18495, 14820, 28616, 16083, 3067, 4189, 12181, 15618, 17133, 6218, 19912, 3005, 30981, 13418, 20084, 23001, 12434, 29021, 4358, 14623, 25608, 4187, 40, 7843, 21761, 10790, 30949, 15697, 19587, 32317, 11534, 28361, 12417, 16979, 1245, 7789, 4772, 1535, 17369, 27319, 7243, 32437, 29945, 28881, 31696, 20469, 25100, 30303, 14093, 9154, 6744, 26015, 1822, 10070, 19586, 20405, 8553, 16404, 30638, 26944, 4572, 3262, 14310, 13617, 2678, 1768, 12736, 20957, 19465, 22701] 11066 18495\n",
      "[24377, 19687, 19079, 8286, 2728, 16520, 22556, 24439, 12814, 18305, 18928, 31484, 31940, 16087, 20423, 20266, 21341, 13538, 9835, 11832, 25992, 26528, 27819, 28996, 18232, 32079, 18852, 5518, 26883, 11066, 18495, 14820, 28616, 16083, 3067, 4189, 12181, 15618, 17133, 6218, 19912, 3005, 30981, 13418, 20084, 23001, 12434, 29021, 4358, 14623, 25608, 4187, 40, 7843, 21761, 10790, 30949, 15697, 19587, 32317, 11534, 28361, 12417, 16979, 1245, 7789, 4772, 1535, 17369, 27319, 7243, 32437, 29945, 28881, 31696, 20469, 25100, 30303, 14093, 9154, 6744, 26015, 1822, 10070, 19586, 20405, 8553, 16404, 30638, 26944, 4572, 3262, 14310, 13617, 2678, 1768, 12736, 20957, 19465, 22701] 18495 14820\n",
      "[24377, 19687, 19079, 8286, 2728, 16520, 22556, 24439, 12814, 18305, 18928, 31484, 31940, 16087, 20423, 20266, 21341, 13538, 9835, 11832, 25992, 26528, 27819, 28996, 18232, 32079, 18852, 5518, 26883, 11066, 18495, 14820, 28616, 16083, 3067, 4189, 12181, 15618, 17133, 6218, 19912, 3005, 30981, 13418, 20084, 23001, 12434, 29021, 4358, 14623, 25608, 4187, 40, 7843, 21761, 10790, 30949, 15697, 19587, 32317, 11534, 28361, 12417, 16979, 1245, 7789, 4772, 1535, 17369, 27319, 7243, 32437, 29945, 28881, 31696, 20469, 25100, 30303, 14093, 9154, 6744, 26015, 1822, 10070, 19586, 20405, 8553, 16404, 30638, 26944, 4572, 3262, 14310, 13617, 2678, 1768, 12736, 20957, 19465, 22701] 14820 28616\n",
      "[24377, 19687, 19079, 8286, 2728, 16520, 22556, 24439, 12814, 18305, 18928, 31484, 31940, 16087, 20423, 20266, 21341, 13538, 9835, 11832, 25992, 26528, 27819, 28996, 18232, 32079, 18852, 5518, 26883, 11066, 18495, 14820, 28616, 16083, 3067, 4189, 12181, 15618, 17133, 6218, 19912, 3005, 30981, 13418, 20084, 23001, 12434, 29021, 4358, 14623, 25608, 4187, 40, 7843, 21761, 10790, 30949, 15697, 19587, 32317, 11534, 28361, 12417, 16979, 1245, 7789, 4772, 1535, 17369, 27319, 7243, 32437, 29945, 28881, 31696, 20469, 25100, 30303, 14093, 9154, 6744, 26015, 1822, 10070, 19586, 20405, 8553, 16404, 30638, 26944, 4572, 3262, 14310, 13617, 2678, 1768, 12736, 20957, 19465, 22701] 28616 16083\n",
      "[24377, 19687, 19079, 8286, 2728, 16520, 22556, 24439, 12814, 18305, 18928, 31484, 31940, 16087, 20423, 20266, 21341, 13538, 9835, 11832, 25992, 26528, 27819, 28996, 18232, 32079, 18852, 5518, 26883, 11066, 18495, 14820, 28616, 16083, 3067, 4189, 12181, 15618, 17133, 6218, 19912, 3005, 30981, 13418, 20084, 23001, 12434, 29021, 4358, 14623, 25608, 4187, 40, 7843, 21761, 10790, 30949, 15697, 19587, 32317, 11534, 28361, 12417, 16979, 1245, 7789, 4772, 1535, 17369, 27319, 7243, 32437, 29945, 28881, 31696, 20469, 25100, 30303, 14093, 9154, 6744, 26015, 1822, 10070, 19586, 20405, 8553, 16404, 30638, 26944, 4572, 3262, 14310, 13617, 2678, 1768, 12736, 20957, 19465, 22701] 16083 3067\n",
      "[24377, 19687, 19079, 8286, 2728, 16520, 22556, 24439, 12814, 18305, 18928, 31484, 31940, 16087, 20423, 20266, 21341, 13538, 9835, 11832, 25992, 26528, 27819, 28996, 18232, 32079, 18852, 5518, 26883, 11066, 18495, 14820, 28616, 16083, 3067, 4189, 12181, 15618, 17133, 6218, 19912, 3005, 30981, 13418, 20084, 23001, 12434, 29021, 4358, 14623, 25608, 4187, 40, 7843, 21761, 10790, 30949, 15697, 19587, 32317, 11534, 28361, 12417, 16979, 1245, 7789, 4772, 1535, 17369, 27319, 7243, 32437, 29945, 28881, 31696, 20469, 25100, 30303, 14093, 9154, 6744, 26015, 1822, 10070, 19586, 20405, 8553, 16404, 30638, 26944, 4572, 3262, 14310, 13617, 2678, 1768, 12736, 20957, 19465, 22701] 3067 4189\n",
      "[24377, 19687, 19079, 8286, 2728, 16520, 22556, 24439, 12814, 18305, 18928, 31484, 31940, 16087, 20423, 20266, 21341, 13538, 9835, 11832, 25992, 26528, 27819, 28996, 18232, 32079, 18852, 5518, 26883, 11066, 18495, 14820, 28616, 16083, 3067, 4189, 12181, 15618, 17133, 6218, 19912, 3005, 30981, 13418, 20084, 23001, 12434, 29021, 4358, 14623, 25608, 4187, 40, 7843, 21761, 10790, 30949, 15697, 19587, 32317, 11534, 28361, 12417, 16979, 1245, 7789, 4772, 1535, 17369, 27319, 7243, 32437, 29945, 28881, 31696, 20469, 25100, 30303, 14093, 9154, 6744, 26015, 1822, 10070, 19586, 20405, 8553, 16404, 30638, 26944, 4572, 3262, 14310, 13617, 2678, 1768, 12736, 20957, 19465, 22701] 4189 12181\n",
      "[24377, 19687, 19079, 8286, 2728, 16520, 22556, 24439, 12814, 18305, 18928, 31484, 31940, 16087, 20423, 20266, 21341, 13538, 9835, 11832, 25992, 26528, 27819, 28996, 18232, 32079, 18852, 5518, 26883, 11066, 18495, 14820, 28616, 16083, 3067, 4189, 12181, 15618, 17133, 6218, 19912, 3005, 30981, 13418, 20084, 23001, 12434, 29021, 4358, 14623, 25608, 4187, 40, 7843, 21761, 10790, 30949, 15697, 19587, 32317, 11534, 28361, 12417, 16979, 1245, 7789, 4772, 1535, 17369, 27319, 7243, 32437, 29945, 28881, 31696, 20469, 25100, 30303, 14093, 9154, 6744, 26015, 1822, 10070, 19586, 20405, 8553, 16404, 30638, 26944, 4572, 3262, 14310, 13617, 2678, 1768, 12736, 20957, 19465, 22701] 12181 15618\n",
      "[24377, 19687, 19079, 8286, 2728, 16520, 22556, 24439, 12814, 18305, 18928, 31484, 31940, 16087, 20423, 20266, 21341, 13538, 9835, 11832, 25992, 26528, 27819, 28996, 18232, 32079, 18852, 5518, 26883, 11066, 18495, 14820, 28616, 16083, 3067, 4189, 12181, 15618, 17133, 6218, 19912, 3005, 30981, 13418, 20084, 23001, 12434, 29021, 4358, 14623, 25608, 4187, 40, 7843, 21761, 10790, 30949, 15697, 19587, 32317, 11534, 28361, 12417, 16979, 1245, 7789, 4772, 1535, 17369, 27319, 7243, 32437, 29945, 28881, 31696, 20469, 25100, 30303, 14093, 9154, 6744, 26015, 1822, 10070, 19586, 20405, 8553, 16404, 30638, 26944, 4572, 3262, 14310, 13617, 2678, 1768, 12736, 20957, 19465, 22701] 15618 17133\n",
      "[24377, 19687, 19079, 8286, 2728, 16520, 22556, 24439, 12814, 18305, 18928, 31484, 31940, 16087, 20423, 20266, 21341, 13538, 9835, 11832, 25992, 26528, 27819, 28996, 18232, 32079, 18852, 5518, 26883, 11066, 18495, 14820, 28616, 16083, 3067, 4189, 12181, 15618, 17133, 6218, 19912, 3005, 30981, 13418, 20084, 23001, 12434, 29021, 4358, 14623, 25608, 4187, 40, 7843, 21761, 10790, 30949, 15697, 19587, 32317, 11534, 28361, 12417, 16979, 1245, 7789, 4772, 1535, 17369, 27319, 7243, 32437, 29945, 28881, 31696, 20469, 25100, 30303, 14093, 9154, 6744, 26015, 1822, 10070, 19586, 20405, 8553, 16404, 30638, 26944, 4572, 3262, 14310, 13617, 2678, 1768, 12736, 20957, 19465, 22701] 17133 6218\n",
      "[24377, 19687, 19079, 8286, 2728, 16520, 22556, 24439, 12814, 18305, 18928, 31484, 31940, 16087, 20423, 20266, 21341, 13538, 9835, 11832, 25992, 26528, 27819, 28996, 18232, 32079, 18852, 5518, 26883, 11066, 18495, 14820, 28616, 16083, 3067, 4189, 12181, 15618, 17133, 6218, 19912, 3005, 30981, 13418, 20084, 23001, 12434, 29021, 4358, 14623, 25608, 4187, 40, 7843, 21761, 10790, 30949, 15697, 19587, 32317, 11534, 28361, 12417, 16979, 1245, 7789, 4772, 1535, 17369, 27319, 7243, 32437, 29945, 28881, 31696, 20469, 25100, 30303, 14093, 9154, 6744, 26015, 1822, 10070, 19586, 20405, 8553, 16404, 30638, 26944, 4572, 3262, 14310, 13617, 2678, 1768, 12736, 20957, 19465, 22701] 6218 19912\n",
      "[24377, 19687, 19079, 8286, 2728, 16520, 22556, 24439, 12814, 18305, 18928, 31484, 31940, 16087, 20423, 20266, 21341, 13538, 9835, 11832, 25992, 26528, 27819, 28996, 18232, 32079, 18852, 5518, 26883, 11066, 18495, 14820, 28616, 16083, 3067, 4189, 12181, 15618, 17133, 6218, 19912, 3005, 30981, 13418, 20084, 23001, 12434, 29021, 4358, 14623, 25608, 4187, 40, 7843, 21761, 10790, 30949, 15697, 19587, 32317, 11534, 28361, 12417, 16979, 1245, 7789, 4772, 1535, 17369, 27319, 7243, 32437, 29945, 28881, 31696, 20469, 25100, 30303, 14093, 9154, 6744, 26015, 1822, 10070, 19586, 20405, 8553, 16404, 30638, 26944, 4572, 3262, 14310, 13617, 2678, 1768, 12736, 20957, 19465, 22701] 19912 3005\n",
      "[24377, 19687, 19079, 8286, 2728, 16520, 22556, 24439, 12814, 18305, 18928, 31484, 31940, 16087, 20423, 20266, 21341, 13538, 9835, 11832, 25992, 26528, 27819, 28996, 18232, 32079, 18852, 5518, 26883, 11066, 18495, 14820, 28616, 16083, 3067, 4189, 12181, 15618, 17133, 6218, 19912, 3005, 30981, 13418, 20084, 23001, 12434, 29021, 4358, 14623, 25608, 4187, 40, 7843, 21761, 10790, 30949, 15697, 19587, 32317, 11534, 28361, 12417, 16979, 1245, 7789, 4772, 1535, 17369, 27319, 7243, 32437, 29945, 28881, 31696, 20469, 25100, 30303, 14093, 9154, 6744, 26015, 1822, 10070, 19586, 20405, 8553, 16404, 30638, 26944, 4572, 3262, 14310, 13617, 2678, 1768, 12736, 20957, 19465, 22701] 3005 30981\n",
      "[24377, 19687, 19079, 8286, 2728, 16520, 22556, 24439, 12814, 18305, 18928, 31484, 31940, 16087, 20423, 20266, 21341, 13538, 9835, 11832, 25992, 26528, 27819, 28996, 18232, 32079, 18852, 5518, 26883, 11066, 18495, 14820, 28616, 16083, 3067, 4189, 12181, 15618, 17133, 6218, 19912, 3005, 30981, 13418, 20084, 23001, 12434, 29021, 4358, 14623, 25608, 4187, 40, 7843, 21761, 10790, 30949, 15697, 19587, 32317, 11534, 28361, 12417, 16979, 1245, 7789, 4772, 1535, 17369, 27319, 7243, 32437, 29945, 28881, 31696, 20469, 25100, 30303, 14093, 9154, 6744, 26015, 1822, 10070, 19586, 20405, 8553, 16404, 30638, 26944, 4572, 3262, 14310, 13617, 2678, 1768, 12736, 20957, 19465, 22701] 30981 13418\n",
      "[24377, 19687, 19079, 8286, 2728, 16520, 22556, 24439, 12814, 18305, 18928, 31484, 31940, 16087, 20423, 20266, 21341, 13538, 9835, 11832, 25992, 26528, 27819, 28996, 18232, 32079, 18852, 5518, 26883, 11066, 18495, 14820, 28616, 16083, 3067, 4189, 12181, 15618, 17133, 6218, 19912, 3005, 30981, 13418, 20084, 23001, 12434, 29021, 4358, 14623, 25608, 4187, 40, 7843, 21761, 10790, 30949, 15697, 19587, 32317, 11534, 28361, 12417, 16979, 1245, 7789, 4772, 1535, 17369, 27319, 7243, 32437, 29945, 28881, 31696, 20469, 25100, 30303, 14093, 9154, 6744, 26015, 1822, 10070, 19586, 20405, 8553, 16404, 30638, 26944, 4572, 3262, 14310, 13617, 2678, 1768, 12736, 20957, 19465, 22701] 13418 20084\n",
      "[24377, 19687, 19079, 8286, 2728, 16520, 22556, 24439, 12814, 18305, 18928, 31484, 31940, 16087, 20423, 20266, 21341, 13538, 9835, 11832, 25992, 26528, 27819, 28996, 18232, 32079, 18852, 5518, 26883, 11066, 18495, 14820, 28616, 16083, 3067, 4189, 12181, 15618, 17133, 6218, 19912, 3005, 30981, 13418, 20084, 23001, 12434, 29021, 4358, 14623, 25608, 4187, 40, 7843, 21761, 10790, 30949, 15697, 19587, 32317, 11534, 28361, 12417, 16979, 1245, 7789, 4772, 1535, 17369, 27319, 7243, 32437, 29945, 28881, 31696, 20469, 25100, 30303, 14093, 9154, 6744, 26015, 1822, 10070, 19586, 20405, 8553, 16404, 30638, 26944, 4572, 3262, 14310, 13617, 2678, 1768, 12736, 20957, 19465, 22701] 20084 23001\n",
      "[24377, 19687, 19079, 8286, 2728, 16520, 22556, 24439, 12814, 18305, 18928, 31484, 31940, 16087, 20423, 20266, 21341, 13538, 9835, 11832, 25992, 26528, 27819, 28996, 18232, 32079, 18852, 5518, 26883, 11066, 18495, 14820, 28616, 16083, 3067, 4189, 12181, 15618, 17133, 6218, 19912, 3005, 30981, 13418, 20084, 23001, 12434, 29021, 4358, 14623, 25608, 4187, 40, 7843, 21761, 10790, 30949, 15697, 19587, 32317, 11534, 28361, 12417, 16979, 1245, 7789, 4772, 1535, 17369, 27319, 7243, 32437, 29945, 28881, 31696, 20469, 25100, 30303, 14093, 9154, 6744, 26015, 1822, 10070, 19586, 20405, 8553, 16404, 30638, 26944, 4572, 3262, 14310, 13617, 2678, 1768, 12736, 20957, 19465, 22701] 23001 12434\n",
      "[24377, 19687, 19079, 8286, 2728, 16520, 22556, 24439, 12814, 18305, 18928, 31484, 31940, 16087, 20423, 20266, 21341, 13538, 9835, 11832, 25992, 26528, 27819, 28996, 18232, 32079, 18852, 5518, 26883, 11066, 18495, 14820, 28616, 16083, 3067, 4189, 12181, 15618, 17133, 6218, 19912, 3005, 30981, 13418, 20084, 23001, 12434, 29021, 4358, 14623, 25608, 4187, 40, 7843, 21761, 10790, 30949, 15697, 19587, 32317, 11534, 28361, 12417, 16979, 1245, 7789, 4772, 1535, 17369, 27319, 7243, 32437, 29945, 28881, 31696, 20469, 25100, 30303, 14093, 9154, 6744, 26015, 1822, 10070, 19586, 20405, 8553, 16404, 30638, 26944, 4572, 3262, 14310, 13617, 2678, 1768, 12736, 20957, 19465, 22701] 12434 29021\n",
      "[24377, 19687, 19079, 8286, 2728, 16520, 22556, 24439, 12814, 18305, 18928, 31484, 31940, 16087, 20423, 20266, 21341, 13538, 9835, 11832, 25992, 26528, 27819, 28996, 18232, 32079, 18852, 5518, 26883, 11066, 18495, 14820, 28616, 16083, 3067, 4189, 12181, 15618, 17133, 6218, 19912, 3005, 30981, 13418, 20084, 23001, 12434, 29021, 4358, 14623, 25608, 4187, 40, 7843, 21761, 10790, 30949, 15697, 19587, 32317, 11534, 28361, 12417, 16979, 1245, 7789, 4772, 1535, 17369, 27319, 7243, 32437, 29945, 28881, 31696, 20469, 25100, 30303, 14093, 9154, 6744, 26015, 1822, 10070, 19586, 20405, 8553, 16404, 30638, 26944, 4572, 3262, 14310, 13617, 2678, 1768, 12736, 20957, 19465, 22701] 29021 4358\n",
      "[24377, 19687, 19079, 8286, 2728, 16520, 22556, 24439, 12814, 18305, 18928, 31484, 31940, 16087, 20423, 20266, 21341, 13538, 9835, 11832, 25992, 26528, 27819, 28996, 18232, 32079, 18852, 5518, 26883, 11066, 18495, 14820, 28616, 16083, 3067, 4189, 12181, 15618, 17133, 6218, 19912, 3005, 30981, 13418, 20084, 23001, 12434, 29021, 4358, 14623, 25608, 4187, 40, 7843, 21761, 10790, 30949, 15697, 19587, 32317, 11534, 28361, 12417, 16979, 1245, 7789, 4772, 1535, 17369, 27319, 7243, 32437, 29945, 28881, 31696, 20469, 25100, 30303, 14093, 9154, 6744, 26015, 1822, 10070, 19586, 20405, 8553, 16404, 30638, 26944, 4572, 3262, 14310, 13617, 2678, 1768, 12736, 20957, 19465, 22701] 4358 14623\n",
      "[24377, 19687, 19079, 8286, 2728, 16520, 22556, 24439, 12814, 18305, 18928, 31484, 31940, 16087, 20423, 20266, 21341, 13538, 9835, 11832, 25992, 26528, 27819, 28996, 18232, 32079, 18852, 5518, 26883, 11066, 18495, 14820, 28616, 16083, 3067, 4189, 12181, 15618, 17133, 6218, 19912, 3005, 30981, 13418, 20084, 23001, 12434, 29021, 4358, 14623, 25608, 4187, 40, 7843, 21761, 10790, 30949, 15697, 19587, 32317, 11534, 28361, 12417, 16979, 1245, 7789, 4772, 1535, 17369, 27319, 7243, 32437, 29945, 28881, 31696, 20469, 25100, 30303, 14093, 9154, 6744, 26015, 1822, 10070, 19586, 20405, 8553, 16404, 30638, 26944, 4572, 3262, 14310, 13617, 2678, 1768, 12736, 20957, 19465, 22701] 14623 25608\n",
      "[24377, 19687, 19079, 8286, 2728, 16520, 22556, 24439, 12814, 18305, 18928, 31484, 31940, 16087, 20423, 20266, 21341, 13538, 9835, 11832, 25992, 26528, 27819, 28996, 18232, 32079, 18852, 5518, 26883, 11066, 18495, 14820, 28616, 16083, 3067, 4189, 12181, 15618, 17133, 6218, 19912, 3005, 30981, 13418, 20084, 23001, 12434, 29021, 4358, 14623, 25608, 4187, 40, 7843, 21761, 10790, 30949, 15697, 19587, 32317, 11534, 28361, 12417, 16979, 1245, 7789, 4772, 1535, 17369, 27319, 7243, 32437, 29945, 28881, 31696, 20469, 25100, 30303, 14093, 9154, 6744, 26015, 1822, 10070, 19586, 20405, 8553, 16404, 30638, 26944, 4572, 3262, 14310, 13617, 2678, 1768, 12736, 20957, 19465, 22701] 25608 4187\n",
      "[24377, 19687, 19079, 8286, 2728, 16520, 22556, 24439, 12814, 18305, 18928, 31484, 31940, 16087, 20423, 20266, 21341, 13538, 9835, 11832, 25992, 26528, 27819, 28996, 18232, 32079, 18852, 5518, 26883, 11066, 18495, 14820, 28616, 16083, 3067, 4189, 12181, 15618, 17133, 6218, 19912, 3005, 30981, 13418, 20084, 23001, 12434, 29021, 4358, 14623, 25608, 4187, 40, 7843, 21761, 10790, 30949, 15697, 19587, 32317, 11534, 28361, 12417, 16979, 1245, 7789, 4772, 1535, 17369, 27319, 7243, 32437, 29945, 28881, 31696, 20469, 25100, 30303, 14093, 9154, 6744, 26015, 1822, 10070, 19586, 20405, 8553, 16404, 30638, 26944, 4572, 3262, 14310, 13617, 2678, 1768, 12736, 20957, 19465, 22701] 4187 40\n",
      "[24377, 19687, 19079, 8286, 2728, 16520, 22556, 24439, 12814, 18305, 18928, 31484, 31940, 16087, 20423, 20266, 21341, 13538, 9835, 11832, 25992, 26528, 27819, 28996, 18232, 32079, 18852, 5518, 26883, 11066, 18495, 14820, 28616, 16083, 3067, 4189, 12181, 15618, 17133, 6218, 19912, 3005, 30981, 13418, 20084, 23001, 12434, 29021, 4358, 14623, 25608, 4187, 40, 7843, 21761, 10790, 30949, 15697, 19587, 32317, 11534, 28361, 12417, 16979, 1245, 7789, 4772, 1535, 17369, 27319, 7243, 32437, 29945, 28881, 31696, 20469, 25100, 30303, 14093, 9154, 6744, 26015, 1822, 10070, 19586, 20405, 8553, 16404, 30638, 26944, 4572, 3262, 14310, 13617, 2678, 1768, 12736, 20957, 19465, 22701] 40 7843\n",
      "[24377, 19687, 19079, 8286, 2728, 16520, 22556, 24439, 12814, 18305, 18928, 31484, 31940, 16087, 20423, 20266, 21341, 13538, 9835, 11832, 25992, 26528, 27819, 28996, 18232, 32079, 18852, 5518, 26883, 11066, 18495, 14820, 28616, 16083, 3067, 4189, 12181, 15618, 17133, 6218, 19912, 3005, 30981, 13418, 20084, 23001, 12434, 29021, 4358, 14623, 25608, 4187, 40, 7843, 21761, 10790, 30949, 15697, 19587, 32317, 11534, 28361, 12417, 16979, 1245, 7789, 4772, 1535, 17369, 27319, 7243, 32437, 29945, 28881, 31696, 20469, 25100, 30303, 14093, 9154, 6744, 26015, 1822, 10070, 19586, 20405, 8553, 16404, 30638, 26944, 4572, 3262, 14310, 13617, 2678, 1768, 12736, 20957, 19465, 22701] 7843 21761\n",
      "[24377, 19687, 19079, 8286, 2728, 16520, 22556, 24439, 12814, 18305, 18928, 31484, 31940, 16087, 20423, 20266, 21341, 13538, 9835, 11832, 25992, 26528, 27819, 28996, 18232, 32079, 18852, 5518, 26883, 11066, 18495, 14820, 28616, 16083, 3067, 4189, 12181, 15618, 17133, 6218, 19912, 3005, 30981, 13418, 20084, 23001, 12434, 29021, 4358, 14623, 25608, 4187, 40, 7843, 21761, 10790, 30949, 15697, 19587, 32317, 11534, 28361, 12417, 16979, 1245, 7789, 4772, 1535, 17369, 27319, 7243, 32437, 29945, 28881, 31696, 20469, 25100, 30303, 14093, 9154, 6744, 26015, 1822, 10070, 19586, 20405, 8553, 16404, 30638, 26944, 4572, 3262, 14310, 13617, 2678, 1768, 12736, 20957, 19465, 22701] 21761 10790\n",
      "[24377, 19687, 19079, 8286, 2728, 16520, 22556, 24439, 12814, 18305, 18928, 31484, 31940, 16087, 20423, 20266, 21341, 13538, 9835, 11832, 25992, 26528, 27819, 28996, 18232, 32079, 18852, 5518, 26883, 11066, 18495, 14820, 28616, 16083, 3067, 4189, 12181, 15618, 17133, 6218, 19912, 3005, 30981, 13418, 20084, 23001, 12434, 29021, 4358, 14623, 25608, 4187, 40, 7843, 21761, 10790, 30949, 15697, 19587, 32317, 11534, 28361, 12417, 16979, 1245, 7789, 4772, 1535, 17369, 27319, 7243, 32437, 29945, 28881, 31696, 20469, 25100, 30303, 14093, 9154, 6744, 26015, 1822, 10070, 19586, 20405, 8553, 16404, 30638, 26944, 4572, 3262, 14310, 13617, 2678, 1768, 12736, 20957, 19465, 22701] 10790 30949\n",
      "[24377, 19687, 19079, 8286, 2728, 16520, 22556, 24439, 12814, 18305, 18928, 31484, 31940, 16087, 20423, 20266, 21341, 13538, 9835, 11832, 25992, 26528, 27819, 28996, 18232, 32079, 18852, 5518, 26883, 11066, 18495, 14820, 28616, 16083, 3067, 4189, 12181, 15618, 17133, 6218, 19912, 3005, 30981, 13418, 20084, 23001, 12434, 29021, 4358, 14623, 25608, 4187, 40, 7843, 21761, 10790, 30949, 15697, 19587, 32317, 11534, 28361, 12417, 16979, 1245, 7789, 4772, 1535, 17369, 27319, 7243, 32437, 29945, 28881, 31696, 20469, 25100, 30303, 14093, 9154, 6744, 26015, 1822, 10070, 19586, 20405, 8553, 16404, 30638, 26944, 4572, 3262, 14310, 13617, 2678, 1768, 12736, 20957, 19465, 22701] 30949 15697\n",
      "[24377, 19687, 19079, 8286, 2728, 16520, 22556, 24439, 12814, 18305, 18928, 31484, 31940, 16087, 20423, 20266, 21341, 13538, 9835, 11832, 25992, 26528, 27819, 28996, 18232, 32079, 18852, 5518, 26883, 11066, 18495, 14820, 28616, 16083, 3067, 4189, 12181, 15618, 17133, 6218, 19912, 3005, 30981, 13418, 20084, 23001, 12434, 29021, 4358, 14623, 25608, 4187, 40, 7843, 21761, 10790, 30949, 15697, 19587, 32317, 11534, 28361, 12417, 16979, 1245, 7789, 4772, 1535, 17369, 27319, 7243, 32437, 29945, 28881, 31696, 20469, 25100, 30303, 14093, 9154, 6744, 26015, 1822, 10070, 19586, 20405, 8553, 16404, 30638, 26944, 4572, 3262, 14310, 13617, 2678, 1768, 12736, 20957, 19465, 22701] 15697 19587\n",
      "[24377, 19687, 19079, 8286, 2728, 16520, 22556, 24439, 12814, 18305, 18928, 31484, 31940, 16087, 20423, 20266, 21341, 13538, 9835, 11832, 25992, 26528, 27819, 28996, 18232, 32079, 18852, 5518, 26883, 11066, 18495, 14820, 28616, 16083, 3067, 4189, 12181, 15618, 17133, 6218, 19912, 3005, 30981, 13418, 20084, 23001, 12434, 29021, 4358, 14623, 25608, 4187, 40, 7843, 21761, 10790, 30949, 15697, 19587, 32317, 11534, 28361, 12417, 16979, 1245, 7789, 4772, 1535, 17369, 27319, 7243, 32437, 29945, 28881, 31696, 20469, 25100, 30303, 14093, 9154, 6744, 26015, 1822, 10070, 19586, 20405, 8553, 16404, 30638, 26944, 4572, 3262, 14310, 13617, 2678, 1768, 12736, 20957, 19465, 22701] 19587 32317\n",
      "[24377, 19687, 19079, 8286, 2728, 16520, 22556, 24439, 12814, 18305, 18928, 31484, 31940, 16087, 20423, 20266, 21341, 13538, 9835, 11832, 25992, 26528, 27819, 28996, 18232, 32079, 18852, 5518, 26883, 11066, 18495, 14820, 28616, 16083, 3067, 4189, 12181, 15618, 17133, 6218, 19912, 3005, 30981, 13418, 20084, 23001, 12434, 29021, 4358, 14623, 25608, 4187, 40, 7843, 21761, 10790, 30949, 15697, 19587, 32317, 11534, 28361, 12417, 16979, 1245, 7789, 4772, 1535, 17369, 27319, 7243, 32437, 29945, 28881, 31696, 20469, 25100, 30303, 14093, 9154, 6744, 26015, 1822, 10070, 19586, 20405, 8553, 16404, 30638, 26944, 4572, 3262, 14310, 13617, 2678, 1768, 12736, 20957, 19465, 22701] 32317 11534\n",
      "[24377, 19687, 19079, 8286, 2728, 16520, 22556, 24439, 12814, 18305, 18928, 31484, 31940, 16087, 20423, 20266, 21341, 13538, 9835, 11832, 25992, 26528, 27819, 28996, 18232, 32079, 18852, 5518, 26883, 11066, 18495, 14820, 28616, 16083, 3067, 4189, 12181, 15618, 17133, 6218, 19912, 3005, 30981, 13418, 20084, 23001, 12434, 29021, 4358, 14623, 25608, 4187, 40, 7843, 21761, 10790, 30949, 15697, 19587, 32317, 11534, 28361, 12417, 16979, 1245, 7789, 4772, 1535, 17369, 27319, 7243, 32437, 29945, 28881, 31696, 20469, 25100, 30303, 14093, 9154, 6744, 26015, 1822, 10070, 19586, 20405, 8553, 16404, 30638, 26944, 4572, 3262, 14310, 13617, 2678, 1768, 12736, 20957, 19465, 22701] 11534 28361\n",
      "[24377, 19687, 19079, 8286, 2728, 16520, 22556, 24439, 12814, 18305, 18928, 31484, 31940, 16087, 20423, 20266, 21341, 13538, 9835, 11832, 25992, 26528, 27819, 28996, 18232, 32079, 18852, 5518, 26883, 11066, 18495, 14820, 28616, 16083, 3067, 4189, 12181, 15618, 17133, 6218, 19912, 3005, 30981, 13418, 20084, 23001, 12434, 29021, 4358, 14623, 25608, 4187, 40, 7843, 21761, 10790, 30949, 15697, 19587, 32317, 11534, 28361, 12417, 16979, 1245, 7789, 4772, 1535, 17369, 27319, 7243, 32437, 29945, 28881, 31696, 20469, 25100, 30303, 14093, 9154, 6744, 26015, 1822, 10070, 19586, 20405, 8553, 16404, 30638, 26944, 4572, 3262, 14310, 13617, 2678, 1768, 12736, 20957, 19465, 22701] 28361 12417\n",
      "[24377, 19687, 19079, 8286, 2728, 16520, 22556, 24439, 12814, 18305, 18928, 31484, 31940, 16087, 20423, 20266, 21341, 13538, 9835, 11832, 25992, 26528, 27819, 28996, 18232, 32079, 18852, 5518, 26883, 11066, 18495, 14820, 28616, 16083, 3067, 4189, 12181, 15618, 17133, 6218, 19912, 3005, 30981, 13418, 20084, 23001, 12434, 29021, 4358, 14623, 25608, 4187, 40, 7843, 21761, 10790, 30949, 15697, 19587, 32317, 11534, 28361, 12417, 16979, 1245, 7789, 4772, 1535, 17369, 27319, 7243, 32437, 29945, 28881, 31696, 20469, 25100, 30303, 14093, 9154, 6744, 26015, 1822, 10070, 19586, 20405, 8553, 16404, 30638, 26944, 4572, 3262, 14310, 13617, 2678, 1768, 12736, 20957, 19465, 22701] 12417 16979\n",
      "[24377, 19687, 19079, 8286, 2728, 16520, 22556, 24439, 12814, 18305, 18928, 31484, 31940, 16087, 20423, 20266, 21341, 13538, 9835, 11832, 25992, 26528, 27819, 28996, 18232, 32079, 18852, 5518, 26883, 11066, 18495, 14820, 28616, 16083, 3067, 4189, 12181, 15618, 17133, 6218, 19912, 3005, 30981, 13418, 20084, 23001, 12434, 29021, 4358, 14623, 25608, 4187, 40, 7843, 21761, 10790, 30949, 15697, 19587, 32317, 11534, 28361, 12417, 16979, 1245, 7789, 4772, 1535, 17369, 27319, 7243, 32437, 29945, 28881, 31696, 20469, 25100, 30303, 14093, 9154, 6744, 26015, 1822, 10070, 19586, 20405, 8553, 16404, 30638, 26944, 4572, 3262, 14310, 13617, 2678, 1768, 12736, 20957, 19465, 22701] 16979 1245\n",
      "[24377, 19687, 19079, 8286, 2728, 16520, 22556, 24439, 12814, 18305, 18928, 31484, 31940, 16087, 20423, 20266, 21341, 13538, 9835, 11832, 25992, 26528, 27819, 28996, 18232, 32079, 18852, 5518, 26883, 11066, 18495, 14820, 28616, 16083, 3067, 4189, 12181, 15618, 17133, 6218, 19912, 3005, 30981, 13418, 20084, 23001, 12434, 29021, 4358, 14623, 25608, 4187, 40, 7843, 21761, 10790, 30949, 15697, 19587, 32317, 11534, 28361, 12417, 16979, 1245, 7789, 4772, 1535, 17369, 27319, 7243, 32437, 29945, 28881, 31696, 20469, 25100, 30303, 14093, 9154, 6744, 26015, 1822, 10070, 19586, 20405, 8553, 16404, 30638, 26944, 4572, 3262, 14310, 13617, 2678, 1768, 12736, 20957, 19465, 22701] 1245 7789\n",
      "[24377, 19687, 19079, 8286, 2728, 16520, 22556, 24439, 12814, 18305, 18928, 31484, 31940, 16087, 20423, 20266, 21341, 13538, 9835, 11832, 25992, 26528, 27819, 28996, 18232, 32079, 18852, 5518, 26883, 11066, 18495, 14820, 28616, 16083, 3067, 4189, 12181, 15618, 17133, 6218, 19912, 3005, 30981, 13418, 20084, 23001, 12434, 29021, 4358, 14623, 25608, 4187, 40, 7843, 21761, 10790, 30949, 15697, 19587, 32317, 11534, 28361, 12417, 16979, 1245, 7789, 4772, 1535, 17369, 27319, 7243, 32437, 29945, 28881, 31696, 20469, 25100, 30303, 14093, 9154, 6744, 26015, 1822, 10070, 19586, 20405, 8553, 16404, 30638, 26944, 4572, 3262, 14310, 13617, 2678, 1768, 12736, 20957, 19465, 22701] 7789 4772\n",
      "[24377, 19687, 19079, 8286, 2728, 16520, 22556, 24439, 12814, 18305, 18928, 31484, 31940, 16087, 20423, 20266, 21341, 13538, 9835, 11832, 25992, 26528, 27819, 28996, 18232, 32079, 18852, 5518, 26883, 11066, 18495, 14820, 28616, 16083, 3067, 4189, 12181, 15618, 17133, 6218, 19912, 3005, 30981, 13418, 20084, 23001, 12434, 29021, 4358, 14623, 25608, 4187, 40, 7843, 21761, 10790, 30949, 15697, 19587, 32317, 11534, 28361, 12417, 16979, 1245, 7789, 4772, 1535, 17369, 27319, 7243, 32437, 29945, 28881, 31696, 20469, 25100, 30303, 14093, 9154, 6744, 26015, 1822, 10070, 19586, 20405, 8553, 16404, 30638, 26944, 4572, 3262, 14310, 13617, 2678, 1768, 12736, 20957, 19465, 22701] 4772 1535\n",
      "[24377, 19687, 19079, 8286, 2728, 16520, 22556, 24439, 12814, 18305, 18928, 31484, 31940, 16087, 20423, 20266, 21341, 13538, 9835, 11832, 25992, 26528, 27819, 28996, 18232, 32079, 18852, 5518, 26883, 11066, 18495, 14820, 28616, 16083, 3067, 4189, 12181, 15618, 17133, 6218, 19912, 3005, 30981, 13418, 20084, 23001, 12434, 29021, 4358, 14623, 25608, 4187, 40, 7843, 21761, 10790, 30949, 15697, 19587, 32317, 11534, 28361, 12417, 16979, 1245, 7789, 4772, 1535, 17369, 27319, 7243, 32437, 29945, 28881, 31696, 20469, 25100, 30303, 14093, 9154, 6744, 26015, 1822, 10070, 19586, 20405, 8553, 16404, 30638, 26944, 4572, 3262, 14310, 13617, 2678, 1768, 12736, 20957, 19465, 22701] 1535 17369\n",
      "[24377, 19687, 19079, 8286, 2728, 16520, 22556, 24439, 12814, 18305, 18928, 31484, 31940, 16087, 20423, 20266, 21341, 13538, 9835, 11832, 25992, 26528, 27819, 28996, 18232, 32079, 18852, 5518, 26883, 11066, 18495, 14820, 28616, 16083, 3067, 4189, 12181, 15618, 17133, 6218, 19912, 3005, 30981, 13418, 20084, 23001, 12434, 29021, 4358, 14623, 25608, 4187, 40, 7843, 21761, 10790, 30949, 15697, 19587, 32317, 11534, 28361, 12417, 16979, 1245, 7789, 4772, 1535, 17369, 27319, 7243, 32437, 29945, 28881, 31696, 20469, 25100, 30303, 14093, 9154, 6744, 26015, 1822, 10070, 19586, 20405, 8553, 16404, 30638, 26944, 4572, 3262, 14310, 13617, 2678, 1768, 12736, 20957, 19465, 22701] 17369 27319\n",
      "[24377, 19687, 19079, 8286, 2728, 16520, 22556, 24439, 12814, 18305, 18928, 31484, 31940, 16087, 20423, 20266, 21341, 13538, 9835, 11832, 25992, 26528, 27819, 28996, 18232, 32079, 18852, 5518, 26883, 11066, 18495, 14820, 28616, 16083, 3067, 4189, 12181, 15618, 17133, 6218, 19912, 3005, 30981, 13418, 20084, 23001, 12434, 29021, 4358, 14623, 25608, 4187, 40, 7843, 21761, 10790, 30949, 15697, 19587, 32317, 11534, 28361, 12417, 16979, 1245, 7789, 4772, 1535, 17369, 27319, 7243, 32437, 29945, 28881, 31696, 20469, 25100, 30303, 14093, 9154, 6744, 26015, 1822, 10070, 19586, 20405, 8553, 16404, 30638, 26944, 4572, 3262, 14310, 13617, 2678, 1768, 12736, 20957, 19465, 22701] 27319 7243\n",
      "[24377, 19687, 19079, 8286, 2728, 16520, 22556, 24439, 12814, 18305, 18928, 31484, 31940, 16087, 20423, 20266, 21341, 13538, 9835, 11832, 25992, 26528, 27819, 28996, 18232, 32079, 18852, 5518, 26883, 11066, 18495, 14820, 28616, 16083, 3067, 4189, 12181, 15618, 17133, 6218, 19912, 3005, 30981, 13418, 20084, 23001, 12434, 29021, 4358, 14623, 25608, 4187, 40, 7843, 21761, 10790, 30949, 15697, 19587, 32317, 11534, 28361, 12417, 16979, 1245, 7789, 4772, 1535, 17369, 27319, 7243, 32437, 29945, 28881, 31696, 20469, 25100, 30303, 14093, 9154, 6744, 26015, 1822, 10070, 19586, 20405, 8553, 16404, 30638, 26944, 4572, 3262, 14310, 13617, 2678, 1768, 12736, 20957, 19465, 22701] 7243 32437\n",
      "[24377, 19687, 19079, 8286, 2728, 16520, 22556, 24439, 12814, 18305, 18928, 31484, 31940, 16087, 20423, 20266, 21341, 13538, 9835, 11832, 25992, 26528, 27819, 28996, 18232, 32079, 18852, 5518, 26883, 11066, 18495, 14820, 28616, 16083, 3067, 4189, 12181, 15618, 17133, 6218, 19912, 3005, 30981, 13418, 20084, 23001, 12434, 29021, 4358, 14623, 25608, 4187, 40, 7843, 21761, 10790, 30949, 15697, 19587, 32317, 11534, 28361, 12417, 16979, 1245, 7789, 4772, 1535, 17369, 27319, 7243, 32437, 29945, 28881, 31696, 20469, 25100, 30303, 14093, 9154, 6744, 26015, 1822, 10070, 19586, 20405, 8553, 16404, 30638, 26944, 4572, 3262, 14310, 13617, 2678, 1768, 12736, 20957, 19465, 22701] 32437 29945\n",
      "[24377, 19687, 19079, 8286, 2728, 16520, 22556, 24439, 12814, 18305, 18928, 31484, 31940, 16087, 20423, 20266, 21341, 13538, 9835, 11832, 25992, 26528, 27819, 28996, 18232, 32079, 18852, 5518, 26883, 11066, 18495, 14820, 28616, 16083, 3067, 4189, 12181, 15618, 17133, 6218, 19912, 3005, 30981, 13418, 20084, 23001, 12434, 29021, 4358, 14623, 25608, 4187, 40, 7843, 21761, 10790, 30949, 15697, 19587, 32317, 11534, 28361, 12417, 16979, 1245, 7789, 4772, 1535, 17369, 27319, 7243, 32437, 29945, 28881, 31696, 20469, 25100, 30303, 14093, 9154, 6744, 26015, 1822, 10070, 19586, 20405, 8553, 16404, 30638, 26944, 4572, 3262, 14310, 13617, 2678, 1768, 12736, 20957, 19465, 22701] 29945 28881\n",
      "[24377, 19687, 19079, 8286, 2728, 16520, 22556, 24439, 12814, 18305, 18928, 31484, 31940, 16087, 20423, 20266, 21341, 13538, 9835, 11832, 25992, 26528, 27819, 28996, 18232, 32079, 18852, 5518, 26883, 11066, 18495, 14820, 28616, 16083, 3067, 4189, 12181, 15618, 17133, 6218, 19912, 3005, 30981, 13418, 20084, 23001, 12434, 29021, 4358, 14623, 25608, 4187, 40, 7843, 21761, 10790, 30949, 15697, 19587, 32317, 11534, 28361, 12417, 16979, 1245, 7789, 4772, 1535, 17369, 27319, 7243, 32437, 29945, 28881, 31696, 20469, 25100, 30303, 14093, 9154, 6744, 26015, 1822, 10070, 19586, 20405, 8553, 16404, 30638, 26944, 4572, 3262, 14310, 13617, 2678, 1768, 12736, 20957, 19465, 22701] 28881 31696\n",
      "[24377, 19687, 19079, 8286, 2728, 16520, 22556, 24439, 12814, 18305, 18928, 31484, 31940, 16087, 20423, 20266, 21341, 13538, 9835, 11832, 25992, 26528, 27819, 28996, 18232, 32079, 18852, 5518, 26883, 11066, 18495, 14820, 28616, 16083, 3067, 4189, 12181, 15618, 17133, 6218, 19912, 3005, 30981, 13418, 20084, 23001, 12434, 29021, 4358, 14623, 25608, 4187, 40, 7843, 21761, 10790, 30949, 15697, 19587, 32317, 11534, 28361, 12417, 16979, 1245, 7789, 4772, 1535, 17369, 27319, 7243, 32437, 29945, 28881, 31696, 20469, 25100, 30303, 14093, 9154, 6744, 26015, 1822, 10070, 19586, 20405, 8553, 16404, 30638, 26944, 4572, 3262, 14310, 13617, 2678, 1768, 12736, 20957, 19465, 22701] 31696 20469\n",
      "[24377, 19687, 19079, 8286, 2728, 16520, 22556, 24439, 12814, 18305, 18928, 31484, 31940, 16087, 20423, 20266, 21341, 13538, 9835, 11832, 25992, 26528, 27819, 28996, 18232, 32079, 18852, 5518, 26883, 11066, 18495, 14820, 28616, 16083, 3067, 4189, 12181, 15618, 17133, 6218, 19912, 3005, 30981, 13418, 20084, 23001, 12434, 29021, 4358, 14623, 25608, 4187, 40, 7843, 21761, 10790, 30949, 15697, 19587, 32317, 11534, 28361, 12417, 16979, 1245, 7789, 4772, 1535, 17369, 27319, 7243, 32437, 29945, 28881, 31696, 20469, 25100, 30303, 14093, 9154, 6744, 26015, 1822, 10070, 19586, 20405, 8553, 16404, 30638, 26944, 4572, 3262, 14310, 13617, 2678, 1768, 12736, 20957, 19465, 22701] 20469 25100\n",
      "[24377, 19687, 19079, 8286, 2728, 16520, 22556, 24439, 12814, 18305, 18928, 31484, 31940, 16087, 20423, 20266, 21341, 13538, 9835, 11832, 25992, 26528, 27819, 28996, 18232, 32079, 18852, 5518, 26883, 11066, 18495, 14820, 28616, 16083, 3067, 4189, 12181, 15618, 17133, 6218, 19912, 3005, 30981, 13418, 20084, 23001, 12434, 29021, 4358, 14623, 25608, 4187, 40, 7843, 21761, 10790, 30949, 15697, 19587, 32317, 11534, 28361, 12417, 16979, 1245, 7789, 4772, 1535, 17369, 27319, 7243, 32437, 29945, 28881, 31696, 20469, 25100, 30303, 14093, 9154, 6744, 26015, 1822, 10070, 19586, 20405, 8553, 16404, 30638, 26944, 4572, 3262, 14310, 13617, 2678, 1768, 12736, 20957, 19465, 22701] 25100 30303\n",
      "[24377, 19687, 19079, 8286, 2728, 16520, 22556, 24439, 12814, 18305, 18928, 31484, 31940, 16087, 20423, 20266, 21341, 13538, 9835, 11832, 25992, 26528, 27819, 28996, 18232, 32079, 18852, 5518, 26883, 11066, 18495, 14820, 28616, 16083, 3067, 4189, 12181, 15618, 17133, 6218, 19912, 3005, 30981, 13418, 20084, 23001, 12434, 29021, 4358, 14623, 25608, 4187, 40, 7843, 21761, 10790, 30949, 15697, 19587, 32317, 11534, 28361, 12417, 16979, 1245, 7789, 4772, 1535, 17369, 27319, 7243, 32437, 29945, 28881, 31696, 20469, 25100, 30303, 14093, 9154, 6744, 26015, 1822, 10070, 19586, 20405, 8553, 16404, 30638, 26944, 4572, 3262, 14310, 13617, 2678, 1768, 12736, 20957, 19465, 22701] 30303 14093\n",
      "[24377, 19687, 19079, 8286, 2728, 16520, 22556, 24439, 12814, 18305, 18928, 31484, 31940, 16087, 20423, 20266, 21341, 13538, 9835, 11832, 25992, 26528, 27819, 28996, 18232, 32079, 18852, 5518, 26883, 11066, 18495, 14820, 28616, 16083, 3067, 4189, 12181, 15618, 17133, 6218, 19912, 3005, 30981, 13418, 20084, 23001, 12434, 29021, 4358, 14623, 25608, 4187, 40, 7843, 21761, 10790, 30949, 15697, 19587, 32317, 11534, 28361, 12417, 16979, 1245, 7789, 4772, 1535, 17369, 27319, 7243, 32437, 29945, 28881, 31696, 20469, 25100, 30303, 14093, 9154, 6744, 26015, 1822, 10070, 19586, 20405, 8553, 16404, 30638, 26944, 4572, 3262, 14310, 13617, 2678, 1768, 12736, 20957, 19465, 22701] 14093 9154\n",
      "[24377, 19687, 19079, 8286, 2728, 16520, 22556, 24439, 12814, 18305, 18928, 31484, 31940, 16087, 20423, 20266, 21341, 13538, 9835, 11832, 25992, 26528, 27819, 28996, 18232, 32079, 18852, 5518, 26883, 11066, 18495, 14820, 28616, 16083, 3067, 4189, 12181, 15618, 17133, 6218, 19912, 3005, 30981, 13418, 20084, 23001, 12434, 29021, 4358, 14623, 25608, 4187, 40, 7843, 21761, 10790, 30949, 15697, 19587, 32317, 11534, 28361, 12417, 16979, 1245, 7789, 4772, 1535, 17369, 27319, 7243, 32437, 29945, 28881, 31696, 20469, 25100, 30303, 14093, 9154, 6744, 26015, 1822, 10070, 19586, 20405, 8553, 16404, 30638, 26944, 4572, 3262, 14310, 13617, 2678, 1768, 12736, 20957, 19465, 22701] 9154 6744\n",
      "[24377, 19687, 19079, 8286, 2728, 16520, 22556, 24439, 12814, 18305, 18928, 31484, 31940, 16087, 20423, 20266, 21341, 13538, 9835, 11832, 25992, 26528, 27819, 28996, 18232, 32079, 18852, 5518, 26883, 11066, 18495, 14820, 28616, 16083, 3067, 4189, 12181, 15618, 17133, 6218, 19912, 3005, 30981, 13418, 20084, 23001, 12434, 29021, 4358, 14623, 25608, 4187, 40, 7843, 21761, 10790, 30949, 15697, 19587, 32317, 11534, 28361, 12417, 16979, 1245, 7789, 4772, 1535, 17369, 27319, 7243, 32437, 29945, 28881, 31696, 20469, 25100, 30303, 14093, 9154, 6744, 26015, 1822, 10070, 19586, 20405, 8553, 16404, 30638, 26944, 4572, 3262, 14310, 13617, 2678, 1768, 12736, 20957, 19465, 22701] 6744 26015\n",
      "[24377, 19687, 19079, 8286, 2728, 16520, 22556, 24439, 12814, 18305, 18928, 31484, 31940, 16087, 20423, 20266, 21341, 13538, 9835, 11832, 25992, 26528, 27819, 28996, 18232, 32079, 18852, 5518, 26883, 11066, 18495, 14820, 28616, 16083, 3067, 4189, 12181, 15618, 17133, 6218, 19912, 3005, 30981, 13418, 20084, 23001, 12434, 29021, 4358, 14623, 25608, 4187, 40, 7843, 21761, 10790, 30949, 15697, 19587, 32317, 11534, 28361, 12417, 16979, 1245, 7789, 4772, 1535, 17369, 27319, 7243, 32437, 29945, 28881, 31696, 20469, 25100, 30303, 14093, 9154, 6744, 26015, 1822, 10070, 19586, 20405, 8553, 16404, 30638, 26944, 4572, 3262, 14310, 13617, 2678, 1768, 12736, 20957, 19465, 22701] 26015 1822\n",
      "[24377, 19687, 19079, 8286, 2728, 16520, 22556, 24439, 12814, 18305, 18928, 31484, 31940, 16087, 20423, 20266, 21341, 13538, 9835, 11832, 25992, 26528, 27819, 28996, 18232, 32079, 18852, 5518, 26883, 11066, 18495, 14820, 28616, 16083, 3067, 4189, 12181, 15618, 17133, 6218, 19912, 3005, 30981, 13418, 20084, 23001, 12434, 29021, 4358, 14623, 25608, 4187, 40, 7843, 21761, 10790, 30949, 15697, 19587, 32317, 11534, 28361, 12417, 16979, 1245, 7789, 4772, 1535, 17369, 27319, 7243, 32437, 29945, 28881, 31696, 20469, 25100, 30303, 14093, 9154, 6744, 26015, 1822, 10070, 19586, 20405, 8553, 16404, 30638, 26944, 4572, 3262, 14310, 13617, 2678, 1768, 12736, 20957, 19465, 22701] 1822 10070\n",
      "[24377, 19687, 19079, 8286, 2728, 16520, 22556, 24439, 12814, 18305, 18928, 31484, 31940, 16087, 20423, 20266, 21341, 13538, 9835, 11832, 25992, 26528, 27819, 28996, 18232, 32079, 18852, 5518, 26883, 11066, 18495, 14820, 28616, 16083, 3067, 4189, 12181, 15618, 17133, 6218, 19912, 3005, 30981, 13418, 20084, 23001, 12434, 29021, 4358, 14623, 25608, 4187, 40, 7843, 21761, 10790, 30949, 15697, 19587, 32317, 11534, 28361, 12417, 16979, 1245, 7789, 4772, 1535, 17369, 27319, 7243, 32437, 29945, 28881, 31696, 20469, 25100, 30303, 14093, 9154, 6744, 26015, 1822, 10070, 19586, 20405, 8553, 16404, 30638, 26944, 4572, 3262, 14310, 13617, 2678, 1768, 12736, 20957, 19465, 22701] 10070 19586\n",
      "[24377, 19687, 19079, 8286, 2728, 16520, 22556, 24439, 12814, 18305, 18928, 31484, 31940, 16087, 20423, 20266, 21341, 13538, 9835, 11832, 25992, 26528, 27819, 28996, 18232, 32079, 18852, 5518, 26883, 11066, 18495, 14820, 28616, 16083, 3067, 4189, 12181, 15618, 17133, 6218, 19912, 3005, 30981, 13418, 20084, 23001, 12434, 29021, 4358, 14623, 25608, 4187, 40, 7843, 21761, 10790, 30949, 15697, 19587, 32317, 11534, 28361, 12417, 16979, 1245, 7789, 4772, 1535, 17369, 27319, 7243, 32437, 29945, 28881, 31696, 20469, 25100, 30303, 14093, 9154, 6744, 26015, 1822, 10070, 19586, 20405, 8553, 16404, 30638, 26944, 4572, 3262, 14310, 13617, 2678, 1768, 12736, 20957, 19465, 22701] 19586 20405\n",
      "[24377, 19687, 19079, 8286, 2728, 16520, 22556, 24439, 12814, 18305, 18928, 31484, 31940, 16087, 20423, 20266, 21341, 13538, 9835, 11832, 25992, 26528, 27819, 28996, 18232, 32079, 18852, 5518, 26883, 11066, 18495, 14820, 28616, 16083, 3067, 4189, 12181, 15618, 17133, 6218, 19912, 3005, 30981, 13418, 20084, 23001, 12434, 29021, 4358, 14623, 25608, 4187, 40, 7843, 21761, 10790, 30949, 15697, 19587, 32317, 11534, 28361, 12417, 16979, 1245, 7789, 4772, 1535, 17369, 27319, 7243, 32437, 29945, 28881, 31696, 20469, 25100, 30303, 14093, 9154, 6744, 26015, 1822, 10070, 19586, 20405, 8553, 16404, 30638, 26944, 4572, 3262, 14310, 13617, 2678, 1768, 12736, 20957, 19465, 22701] 20405 8553\n",
      "[24377, 19687, 19079, 8286, 2728, 16520, 22556, 24439, 12814, 18305, 18928, 31484, 31940, 16087, 20423, 20266, 21341, 13538, 9835, 11832, 25992, 26528, 27819, 28996, 18232, 32079, 18852, 5518, 26883, 11066, 18495, 14820, 28616, 16083, 3067, 4189, 12181, 15618, 17133, 6218, 19912, 3005, 30981, 13418, 20084, 23001, 12434, 29021, 4358, 14623, 25608, 4187, 40, 7843, 21761, 10790, 30949, 15697, 19587, 32317, 11534, 28361, 12417, 16979, 1245, 7789, 4772, 1535, 17369, 27319, 7243, 32437, 29945, 28881, 31696, 20469, 25100, 30303, 14093, 9154, 6744, 26015, 1822, 10070, 19586, 20405, 8553, 16404, 30638, 26944, 4572, 3262, 14310, 13617, 2678, 1768, 12736, 20957, 19465, 22701] 8553 16404\n",
      "[24377, 19687, 19079, 8286, 2728, 16520, 22556, 24439, 12814, 18305, 18928, 31484, 31940, 16087, 20423, 20266, 21341, 13538, 9835, 11832, 25992, 26528, 27819, 28996, 18232, 32079, 18852, 5518, 26883, 11066, 18495, 14820, 28616, 16083, 3067, 4189, 12181, 15618, 17133, 6218, 19912, 3005, 30981, 13418, 20084, 23001, 12434, 29021, 4358, 14623, 25608, 4187, 40, 7843, 21761, 10790, 30949, 15697, 19587, 32317, 11534, 28361, 12417, 16979, 1245, 7789, 4772, 1535, 17369, 27319, 7243, 32437, 29945, 28881, 31696, 20469, 25100, 30303, 14093, 9154, 6744, 26015, 1822, 10070, 19586, 20405, 8553, 16404, 30638, 26944, 4572, 3262, 14310, 13617, 2678, 1768, 12736, 20957, 19465, 22701] 16404 30638\n",
      "[24377, 19687, 19079, 8286, 2728, 16520, 22556, 24439, 12814, 18305, 18928, 31484, 31940, 16087, 20423, 20266, 21341, 13538, 9835, 11832, 25992, 26528, 27819, 28996, 18232, 32079, 18852, 5518, 26883, 11066, 18495, 14820, 28616, 16083, 3067, 4189, 12181, 15618, 17133, 6218, 19912, 3005, 30981, 13418, 20084, 23001, 12434, 29021, 4358, 14623, 25608, 4187, 40, 7843, 21761, 10790, 30949, 15697, 19587, 32317, 11534, 28361, 12417, 16979, 1245, 7789, 4772, 1535, 17369, 27319, 7243, 32437, 29945, 28881, 31696, 20469, 25100, 30303, 14093, 9154, 6744, 26015, 1822, 10070, 19586, 20405, 8553, 16404, 30638, 26944, 4572, 3262, 14310, 13617, 2678, 1768, 12736, 20957, 19465, 22701] 30638 26944\n",
      "[24377, 19687, 19079, 8286, 2728, 16520, 22556, 24439, 12814, 18305, 18928, 31484, 31940, 16087, 20423, 20266, 21341, 13538, 9835, 11832, 25992, 26528, 27819, 28996, 18232, 32079, 18852, 5518, 26883, 11066, 18495, 14820, 28616, 16083, 3067, 4189, 12181, 15618, 17133, 6218, 19912, 3005, 30981, 13418, 20084, 23001, 12434, 29021, 4358, 14623, 25608, 4187, 40, 7843, 21761, 10790, 30949, 15697, 19587, 32317, 11534, 28361, 12417, 16979, 1245, 7789, 4772, 1535, 17369, 27319, 7243, 32437, 29945, 28881, 31696, 20469, 25100, 30303, 14093, 9154, 6744, 26015, 1822, 10070, 19586, 20405, 8553, 16404, 30638, 26944, 4572, 3262, 14310, 13617, 2678, 1768, 12736, 20957, 19465, 22701] 26944 4572\n",
      "[24377, 19687, 19079, 8286, 2728, 16520, 22556, 24439, 12814, 18305, 18928, 31484, 31940, 16087, 20423, 20266, 21341, 13538, 9835, 11832, 25992, 26528, 27819, 28996, 18232, 32079, 18852, 5518, 26883, 11066, 18495, 14820, 28616, 16083, 3067, 4189, 12181, 15618, 17133, 6218, 19912, 3005, 30981, 13418, 20084, 23001, 12434, 29021, 4358, 14623, 25608, 4187, 40, 7843, 21761, 10790, 30949, 15697, 19587, 32317, 11534, 28361, 12417, 16979, 1245, 7789, 4772, 1535, 17369, 27319, 7243, 32437, 29945, 28881, 31696, 20469, 25100, 30303, 14093, 9154, 6744, 26015, 1822, 10070, 19586, 20405, 8553, 16404, 30638, 26944, 4572, 3262, 14310, 13617, 2678, 1768, 12736, 20957, 19465, 22701] 4572 3262\n",
      "[24377, 19687, 19079, 8286, 2728, 16520, 22556, 24439, 12814, 18305, 18928, 31484, 31940, 16087, 20423, 20266, 21341, 13538, 9835, 11832, 25992, 26528, 27819, 28996, 18232, 32079, 18852, 5518, 26883, 11066, 18495, 14820, 28616, 16083, 3067, 4189, 12181, 15618, 17133, 6218, 19912, 3005, 30981, 13418, 20084, 23001, 12434, 29021, 4358, 14623, 25608, 4187, 40, 7843, 21761, 10790, 30949, 15697, 19587, 32317, 11534, 28361, 12417, 16979, 1245, 7789, 4772, 1535, 17369, 27319, 7243, 32437, 29945, 28881, 31696, 20469, 25100, 30303, 14093, 9154, 6744, 26015, 1822, 10070, 19586, 20405, 8553, 16404, 30638, 26944, 4572, 3262, 14310, 13617, 2678, 1768, 12736, 20957, 19465, 22701] 3262 14310\n",
      "[24377, 19687, 19079, 8286, 2728, 16520, 22556, 24439, 12814, 18305, 18928, 31484, 31940, 16087, 20423, 20266, 21341, 13538, 9835, 11832, 25992, 26528, 27819, 28996, 18232, 32079, 18852, 5518, 26883, 11066, 18495, 14820, 28616, 16083, 3067, 4189, 12181, 15618, 17133, 6218, 19912, 3005, 30981, 13418, 20084, 23001, 12434, 29021, 4358, 14623, 25608, 4187, 40, 7843, 21761, 10790, 30949, 15697, 19587, 32317, 11534, 28361, 12417, 16979, 1245, 7789, 4772, 1535, 17369, 27319, 7243, 32437, 29945, 28881, 31696, 20469, 25100, 30303, 14093, 9154, 6744, 26015, 1822, 10070, 19586, 20405, 8553, 16404, 30638, 26944, 4572, 3262, 14310, 13617, 2678, 1768, 12736, 20957, 19465, 22701] 14310 13617\n",
      "[24377, 19687, 19079, 8286, 2728, 16520, 22556, 24439, 12814, 18305, 18928, 31484, 31940, 16087, 20423, 20266, 21341, 13538, 9835, 11832, 25992, 26528, 27819, 28996, 18232, 32079, 18852, 5518, 26883, 11066, 18495, 14820, 28616, 16083, 3067, 4189, 12181, 15618, 17133, 6218, 19912, 3005, 30981, 13418, 20084, 23001, 12434, 29021, 4358, 14623, 25608, 4187, 40, 7843, 21761, 10790, 30949, 15697, 19587, 32317, 11534, 28361, 12417, 16979, 1245, 7789, 4772, 1535, 17369, 27319, 7243, 32437, 29945, 28881, 31696, 20469, 25100, 30303, 14093, 9154, 6744, 26015, 1822, 10070, 19586, 20405, 8553, 16404, 30638, 26944, 4572, 3262, 14310, 13617, 2678, 1768, 12736, 20957, 19465, 22701] 13617 2678\n",
      "[24377, 19687, 19079, 8286, 2728, 16520, 22556, 24439, 12814, 18305, 18928, 31484, 31940, 16087, 20423, 20266, 21341, 13538, 9835, 11832, 25992, 26528, 27819, 28996, 18232, 32079, 18852, 5518, 26883, 11066, 18495, 14820, 28616, 16083, 3067, 4189, 12181, 15618, 17133, 6218, 19912, 3005, 30981, 13418, 20084, 23001, 12434, 29021, 4358, 14623, 25608, 4187, 40, 7843, 21761, 10790, 30949, 15697, 19587, 32317, 11534, 28361, 12417, 16979, 1245, 7789, 4772, 1535, 17369, 27319, 7243, 32437, 29945, 28881, 31696, 20469, 25100, 30303, 14093, 9154, 6744, 26015, 1822, 10070, 19586, 20405, 8553, 16404, 30638, 26944, 4572, 3262, 14310, 13617, 2678, 1768, 12736, 20957, 19465, 22701] 2678 1768\n",
      "[24377, 19687, 19079, 8286, 2728, 16520, 22556, 24439, 12814, 18305, 18928, 31484, 31940, 16087, 20423, 20266, 21341, 13538, 9835, 11832, 25992, 26528, 27819, 28996, 18232, 32079, 18852, 5518, 26883, 11066, 18495, 14820, 28616, 16083, 3067, 4189, 12181, 15618, 17133, 6218, 19912, 3005, 30981, 13418, 20084, 23001, 12434, 29021, 4358, 14623, 25608, 4187, 40, 7843, 21761, 10790, 30949, 15697, 19587, 32317, 11534, 28361, 12417, 16979, 1245, 7789, 4772, 1535, 17369, 27319, 7243, 32437, 29945, 28881, 31696, 20469, 25100, 30303, 14093, 9154, 6744, 26015, 1822, 10070, 19586, 20405, 8553, 16404, 30638, 26944, 4572, 3262, 14310, 13617, 2678, 1768, 12736, 20957, 19465, 22701] 1768 12736\n",
      "[24377, 19687, 19079, 8286, 2728, 16520, 22556, 24439, 12814, 18305, 18928, 31484, 31940, 16087, 20423, 20266, 21341, 13538, 9835, 11832, 25992, 26528, 27819, 28996, 18232, 32079, 18852, 5518, 26883, 11066, 18495, 14820, 28616, 16083, 3067, 4189, 12181, 15618, 17133, 6218, 19912, 3005, 30981, 13418, 20084, 23001, 12434, 29021, 4358, 14623, 25608, 4187, 40, 7843, 21761, 10790, 30949, 15697, 19587, 32317, 11534, 28361, 12417, 16979, 1245, 7789, 4772, 1535, 17369, 27319, 7243, 32437, 29945, 28881, 31696, 20469, 25100, 30303, 14093, 9154, 6744, 26015, 1822, 10070, 19586, 20405, 8553, 16404, 30638, 26944, 4572, 3262, 14310, 13617, 2678, 1768, 12736, 20957, 19465, 22701] 12736 20957\n",
      "[24377, 19687, 19079, 8286, 2728, 16520, 22556, 24439, 12814, 18305, 18928, 31484, 31940, 16087, 20423, 20266, 21341, 13538, 9835, 11832, 25992, 26528, 27819, 28996, 18232, 32079, 18852, 5518, 26883, 11066, 18495, 14820, 28616, 16083, 3067, 4189, 12181, 15618, 17133, 6218, 19912, 3005, 30981, 13418, 20084, 23001, 12434, 29021, 4358, 14623, 25608, 4187, 40, 7843, 21761, 10790, 30949, 15697, 19587, 32317, 11534, 28361, 12417, 16979, 1245, 7789, 4772, 1535, 17369, 27319, 7243, 32437, 29945, 28881, 31696, 20469, 25100, 30303, 14093, 9154, 6744, 26015, 1822, 10070, 19586, 20405, 8553, 16404, 30638, 26944, 4572, 3262, 14310, 13617, 2678, 1768, 12736, 20957, 19465, 22701] 20957 19465\n",
      "[24377, 19687, 19079, 8286, 2728, 16520, 22556, 24439, 12814, 18305, 18928, 31484, 31940, 16087, 20423, 20266, 21341, 13538, 9835, 11832, 25992, 26528, 27819, 28996, 18232, 32079, 18852, 5518, 26883, 11066, 18495, 14820, 28616, 16083, 3067, 4189, 12181, 15618, 17133, 6218, 19912, 3005, 30981, 13418, 20084, 23001, 12434, 29021, 4358, 14623, 25608, 4187, 40, 7843, 21761, 10790, 30949, 15697, 19587, 32317, 11534, 28361, 12417, 16979, 1245, 7789, 4772, 1535, 17369, 27319, 7243, 32437, 29945, 28881, 31696, 20469, 25100, 30303, 14093, 9154, 6744, 26015, 1822, 10070, 19586, 20405, 8553, 16404, 30638, 26944, 4572, 3262, 14310, 13617, 2678, 1768, 12736, 20957, 19465, 22701] 19465 22701\n",
      "100\n"
     ]
    }
   ],
   "source": [
    "K=int(input())\n",
    "N=int(input())\n",
    "A=input().split()\n",
    "Num=[]\n",
    "for x in A:\n",
    "    Num.append(int(x))\n",
    "res=[];j=1\n",
    "for i in range(0,len(Num)-1):\n",
    "    if abs(Num[j]-Num[i])>=K:\n",
    "        res.append(Num[i])\n",
    "        print(Num,Num[i],Num[j])\n",
    "        \n",
    "    else:\n",
    "        if Num[j]!=Num[i]:\n",
    "            Num[j]=Num[i]\n",
    "            #print(j)\n",
    "            #print(Num,Num[i],Num[j])\n",
    "    j+=1 \n",
    "if Num[j-1]-Num[i]>=K:\n",
    "    res.append(Num[j-1])\n",
    "print(len(res))"
   ]
  },
  {
   "cell_type": "code",
   "execution_count": null,
   "metadata": {},
   "outputs": [],
   "source": []
  },
  {
   "cell_type": "markdown",
   "metadata": {},
   "source": [
    "### MicroArrayUpdate\n",
    "\n",
    "https://www.hackerearth.com/practice/data-structures/arrays/1-d/practice-problems/algorithm/micro-and-array-update/\n",
    "\n",
    "\n",
    "**SAMPLE INPUT**\n",
    "\n",
    "- 2\n",
    "- 3 4\n",
    "- 1 2 5\n",
    "- 3 2\n",
    "- 2 5 5\n",
    "\n",
    "**SAMPLE OUTPUT**\n",
    "\n",
    "- 3\n",
    "- 0"
   ]
  },
  {
   "cell_type": "code",
   "execution_count": null,
   "metadata": {},
   "outputs": [],
   "source": [
    "def MicroArrayUpdate(Data,K):\n",
    "    while(min(Data)<K)\n",
    "        count=0\n",
    "        if min(Data)<K:\n",
    "            Data[Data.index(min(Data))]=min(Data)+1\n",
    "            count+=1\n",
    "        else:\n",
    "            print(count)\n",
    "            \n",
    "    return count\n",
    "\n",
    "N=int(input())\n",
    "\n",
    "for x in range(0,N):\n",
    "    inp=input().split()\n",
    "    N=int(inp[0]);K=int(inp[1])\n",
    "    li=input().split()\n",
    "    Data=[]\n",
    "    for x in li:\n",
    "        Data.append(int(x))\n",
    "    MicroArrayUpdate(Data,K)\n",
    "    print(Data)\n",
    "\n"
   ]
  },
  {
   "cell_type": "code",
   "execution_count": null,
   "metadata": {},
   "outputs": [],
   "source": []
  },
  {
   "cell_type": "markdown",
   "metadata": {},
   "source": [
    "### Anagrams"
   ]
  },
  {
   "cell_type": "code",
   "execution_count": null,
   "metadata": {},
   "outputs": [],
   "source": [
    "'''\n",
    "# Sample code to perform I/O:\n",
    "\n",
    "name = input()                  # Reading input from STDIN\n",
    "print('Hi, %s.' % name)         # Writing output to STDOUT\n",
    "\n",
    "# Warning: Printing unwanted or ill-formatted data to output will cause the test cases to fail\n",
    "'''\n",
    "\n",
    "# Write your code here\n",
    "def Anagrams(s1,s2):\n",
    "    s1=list(s1);s2=list(s2)\n",
    "    for x in s1:\n",
    "        if x in s2 and (s2.count(x)!=s1.count(x)):\n",
    "            s1.remove(x)\n",
    "            #s2.remove(x)\n",
    "            continue\n",
    "    for x in s2:\n",
    "        if x in s1 and (s2.count(x)!=s1.count(x)):\n",
    "            #s1.remove(x)\n",
    "            s2.remove(x)\n",
    "            continue\n",
    "    print(len(s1)+len(s2))\n",
    "\n",
    "n=int(input())\n",
    "for x in range(0,n):\n",
    "    s1=input()\n",
    "    s2=input()\n",
    "    Anagrams(s1,s2)"
   ]
  },
  {
   "cell_type": "code",
   "execution_count": null,
   "metadata": {},
   "outputs": [],
   "source": []
  },
  {
   "cell_type": "code",
   "execution_count": null,
   "metadata": {},
   "outputs": [],
   "source": []
  },
  {
   "cell_type": "code",
   "execution_count": 33,
   "metadata": {},
   "outputs": [
    {
     "name": "stdout",
     "output_type": "stream",
     "text": [
      "1\n",
      "abc\n",
      "cde\n"
     ]
    },
    {
     "ename": "RuntimeError",
     "evalue": "dictionary changed size during iteration",
     "output_type": "error",
     "traceback": [
      "\u001b[1;31m---------------------------------------------------------------------------\u001b[0m",
      "\u001b[1;31mRuntimeError\u001b[0m                              Traceback (most recent call last)",
      "\u001b[1;32m<ipython-input-33-7c493f639fd4>\u001b[0m in \u001b[0;36m<module>\u001b[1;34m\u001b[0m\n\u001b[0;32m     33\u001b[0m     \u001b[0ms1\u001b[0m\u001b[1;33m=\u001b[0m\u001b[0minput\u001b[0m\u001b[1;33m(\u001b[0m\u001b[1;33m)\u001b[0m\u001b[1;33m\u001b[0m\u001b[1;33m\u001b[0m\u001b[0m\n\u001b[0;32m     34\u001b[0m     \u001b[0ms2\u001b[0m\u001b[1;33m=\u001b[0m\u001b[0minput\u001b[0m\u001b[1;33m(\u001b[0m\u001b[1;33m)\u001b[0m\u001b[1;33m\u001b[0m\u001b[1;33m\u001b[0m\u001b[0m\n\u001b[1;32m---> 35\u001b[1;33m     \u001b[0mAnagrams\u001b[0m\u001b[1;33m(\u001b[0m\u001b[0ms1\u001b[0m\u001b[1;33m,\u001b[0m\u001b[0ms2\u001b[0m\u001b[1;33m)\u001b[0m\u001b[1;33m\u001b[0m\u001b[1;33m\u001b[0m\u001b[0m\n\u001b[0m",
      "\u001b[1;32m<ipython-input-33-7c493f639fd4>\u001b[0m in \u001b[0;36mAnagrams\u001b[1;34m(s1, s2)\u001b[0m\n\u001b[0;32m      8\u001b[0m         \u001b[1;32mif\u001b[0m \u001b[0mdata\u001b[0m \u001b[1;32mnot\u001b[0m \u001b[1;32min\u001b[0m \u001b[0msd2\u001b[0m\u001b[1;33m.\u001b[0m\u001b[0mkeys\u001b[0m\u001b[1;33m(\u001b[0m\u001b[1;33m)\u001b[0m\u001b[1;33m:\u001b[0m\u001b[1;33m\u001b[0m\u001b[1;33m\u001b[0m\u001b[0m\n\u001b[0;32m      9\u001b[0m             \u001b[0msd2\u001b[0m\u001b[1;33m[\u001b[0m\u001b[0mdata\u001b[0m\u001b[1;33m]\u001b[0m\u001b[1;33m=\u001b[0m\u001b[0ms2\u001b[0m\u001b[1;33m.\u001b[0m\u001b[0mcount\u001b[0m\u001b[1;33m(\u001b[0m\u001b[0mdata\u001b[0m\u001b[1;33m)\u001b[0m\u001b[1;33m\u001b[0m\u001b[1;33m\u001b[0m\u001b[0m\n\u001b[1;32m---> 10\u001b[1;33m     \u001b[1;32mfor\u001b[0m \u001b[0mkeys\u001b[0m\u001b[1;33m,\u001b[0m\u001b[0mvalues\u001b[0m \u001b[1;32min\u001b[0m \u001b[0msd1\u001b[0m\u001b[1;33m.\u001b[0m\u001b[0mitems\u001b[0m\u001b[1;33m(\u001b[0m\u001b[1;33m)\u001b[0m\u001b[1;33m:\u001b[0m\u001b[1;33m\u001b[0m\u001b[1;33m\u001b[0m\u001b[0m\n\u001b[0m\u001b[0;32m     11\u001b[0m         \u001b[1;32mif\u001b[0m \u001b[0mkeys\u001b[0m \u001b[1;32mnot\u001b[0m \u001b[1;32min\u001b[0m \u001b[0msd2\u001b[0m\u001b[1;33m.\u001b[0m\u001b[0mkeys\u001b[0m\u001b[1;33m(\u001b[0m\u001b[1;33m)\u001b[0m\u001b[1;33m:\u001b[0m\u001b[1;33m\u001b[0m\u001b[1;33m\u001b[0m\u001b[0m\n\u001b[0;32m     12\u001b[0m             \u001b[0mcount\u001b[0m\u001b[1;33m+=\u001b[0m\u001b[0mvalues\u001b[0m\u001b[1;33m\u001b[0m\u001b[1;33m\u001b[0m\u001b[0m\n",
      "\u001b[1;31mRuntimeError\u001b[0m: dictionary changed size during iteration"
     ]
    }
   ],
   "source": [
    "def Anagrams(s1,s2):\n",
    "    s1=sorted(s1);s2=sorted(s2)\n",
    "    \n",
    "    sd1={};sd2={};count=0\n",
    "    for data in s1:\n",
    "        if data not in sd1.keys():\n",
    "            sd1[data]=s1.count(data)\n",
    "    for data in s2:\n",
    "        if data not in sd2.keys():\n",
    "            sd2[data]=s2.count(data)\n",
    "    for keys,values in sd1.items():\n",
    "        if keys not in sd2.keys():\n",
    "            count+=values\n",
    "        elif keys in sd2:\n",
    "            count+=abs(values-sd2[keys])\n",
    "            sd1.pop(keys)\n",
    "            sd2.pop(keys)\n",
    "    for keys,values in sd2.items():\n",
    "        if keys not in sd1.keys():\n",
    "            count+=values\n",
    "        elif keys in sd1:\n",
    "            count+=abs(values-sd1[keys])\n",
    "            sd1.pop(keys)\n",
    "            sd2.pop(keys)\n",
    "    \n",
    "    \n",
    "    \n",
    "    \n",
    "    return print(count)\n",
    "        \n",
    "\n",
    "n=int(input())\n",
    "for x in range(0,n):\n",
    "    s1=input()\n",
    "    s2=input()\n",
    "    Anagrams(s1,s2)"
   ]
  },
  {
   "cell_type": "code",
   "execution_count": null,
   "metadata": {},
   "outputs": [],
   "source": []
  },
  {
   "cell_type": "code",
   "execution_count": null,
   "metadata": {},
   "outputs": [],
   "source": [
    "def Anagrams(s1,s2):\n",
    "    s1=list(s1);s2=list(s2)\n",
    "    unco=[];count\n",
    "    for x in s1:\n",
    "        if x not in s2:\n",
    "            unco.appends(s2)\n",
    "            s2.remove(x)\n",
    "    for x in s2:\n",
    "        if x not in s1:\n",
    "            unco.appends(s1)\n",
    "            s1.remove(x)\n",
    "    \n",
    "    for x in s1:\n",
    "        if x in s2 and (s2.count(x)!=s1.count(x)):\n",
    "            s1.remove(x)\n",
    "            #s2.remove(x)\n",
    "            continue\n",
    "    for x in s2:\n",
    "        if x in s1 and (s2.count(x)!=s1.count(x)):\n",
    "            #s1.remove(x)\n",
    "            s2.remove(x)\n",
    "            continue\n",
    "    print(len(s1)+len(s2))\n",
    "\n",
    "n=int(input())\n",
    "for x in range(0,n):\n",
    "    s1=input()\n",
    "    s2=input()\n",
    "    Anagrams(s1,s2)"
   ]
  },
  {
   "cell_type": "code",
   "execution_count": 61,
   "metadata": {},
   "outputs": [
    {
     "name": "stdout",
     "output_type": "stream",
     "text": [
      "['a', 'b', 'c'] ['c', 'd', 'e'] ['a', 'b', 'd', 'e']\n"
     ]
    }
   ],
   "source": [
    "unco=[];count=0\n",
    "s1=list('abc');s2=list('cde')\n",
    "for x in s1:\n",
    "    if x not in s2:\n",
    "        unco.append(x)\n",
    "        #s1.remove(x)\n",
    "for x in s2:\n",
    "    if x not in s1:\n",
    "        unco.append(x)\n",
    "        #s2.remove(x)\n",
    "print(s1,s2,unco)"
   ]
  },
  {
   "cell_type": "code",
   "execution_count": 58,
   "metadata": {},
   "outputs": [
    {
     "data": {
      "text/plain": [
       "['c', 'e']"
      ]
     },
     "execution_count": 58,
     "metadata": {},
     "output_type": "execute_result"
    }
   ],
   "source": [
    "s2\n"
   ]
  },
  {
   "cell_type": "code",
   "execution_count": null,
   "metadata": {},
   "outputs": [],
   "source": [
    "for keys,values in sd1:\n",
    "        if keys not in sd2.keys:\n",
    "            count+=values\n",
    "        elif keys in sd2:\n",
    "            count+=abs(values-sd2[values])\n",
    "            sd1.pop(keys)\n",
    "            sd2.pop(keys)\n",
    "    for keys,values in sd2:\n",
    "        if keys not in sd1.keys:\n",
    "            count+=values\n",
    "        elif keys in sd1:\n",
    "            count+=abs(values-sd1[values])\n",
    "            sd1.pop(keys)\n",
    "            sd2.pop(keys)\n",
    "    "
   ]
  },
  {
   "cell_type": "code",
   "execution_count": null,
   "metadata": {},
   "outputs": [],
   "source": []
  },
  {
   "cell_type": "code",
   "execution_count": null,
   "metadata": {},
   "outputs": [],
   "source": []
  },
  {
   "cell_type": "code",
   "execution_count": null,
   "metadata": {},
   "outputs": [],
   "source": []
  },
  {
   "cell_type": "code",
   "execution_count": 67,
   "metadata": {},
   "outputs": [],
   "source": [
    "l=[4,6,6,9,213]\n",
    "m=['a','c','g','i','p']\n",
    "dict={'a':4,\"g\":9,'p':213,\"c\":6,'i':6}\n",
    "res=[]\n",
    "for keys,values in dict.items():\n",
    "    if values==l[-3]:\n",
    "        res.append(keys)\n",
    "res.sort()\n"
   ]
  },
  {
   "cell_type": "code",
   "execution_count": 69,
   "metadata": {},
   "outputs": [
    {
     "data": {
      "text/plain": [
       "'c'"
      ]
     },
     "execution_count": 69,
     "metadata": {},
     "output_type": "execute_result"
    }
   ],
   "source": [
    "min(res)"
   ]
  },
  {
   "cell_type": "code",
   "execution_count": null,
   "metadata": {},
   "outputs": [],
   "source": []
  },
  {
   "cell_type": "code",
   "execution_count": 17,
   "metadata": {},
   "outputs": [
    {
     "name": "stdout",
     "output_type": "stream",
     "text": [
      "1\n",
      "4\n",
      "1 2 1 4\n",
      "[1, 2, 1, 4]\n",
      "8 1\n",
      "8 2\n",
      "8 1\n",
      "8 4\n",
      "No\n"
     ]
    }
   ],
   "source": [
    "def PolygonPossibility(Sides):\n",
    "    count=0;print(Sides)\n",
    "    for side in Sides:\n",
    "        print(sum(Sides),side)\n",
    "        if (sum(Sides)-side)<=side:\n",
    "            count+=1    \n",
    "    if count==len(Sides):\n",
    "        print(\"Yes\")\n",
    "    else:\n",
    "        print(\"No\")\n",
    "    return\n",
    "\n",
    "T=int(input())\n",
    "for t in range (0,T):\n",
    "    NS=int(input())\n",
    "    Sides=input().split()\n",
    "    sides=[]\n",
    "    for x in Sides:\n",
    "        sides.append(int(x))\n",
    "        \n",
    "PolygonPossibility(sides)"
   ]
  },
  {
   "cell_type": "code",
   "execution_count": null,
   "metadata": {},
   "outputs": [],
   "source": []
  },
  {
   "cell_type": "code",
   "execution_count": null,
   "metadata": {},
   "outputs": [],
   "source": []
  },
  {
   "cell_type": "code",
   "execution_count": null,
   "metadata": {},
   "outputs": [],
   "source": []
  }
 ],
 "metadata": {
  "kernelspec": {
   "display_name": "Python 3",
   "language": "python",
   "name": "python3"
  },
  "language_info": {
   "codemirror_mode": {
    "name": "ipython",
    "version": 3
   },
   "file_extension": ".py",
   "mimetype": "text/x-python",
   "name": "python",
   "nbconvert_exporter": "python",
   "pygments_lexer": "ipython3",
   "version": "3.7.3"
  }
 },
 "nbformat": 4,
 "nbformat_minor": 2
}

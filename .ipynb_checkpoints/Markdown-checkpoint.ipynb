{
 "cells": [
  {
   "cell_type": "markdown",
   "metadata": {},
   "source": [
    "### Markdown Basics\n",
    "\n",
    "* **Bold**\n",
    "* *Italic*\n",
    "* ***IB***\n",
    "* Normal Text\n",
    "    * Sublist 1\n",
    "    * Sublist 2\n",
    "\n",
    "\n",
    "1. Ordered List Element 1\n",
    "2. Ordered List Element 2\n",
    "\n",
    "\n",
    "* for adding Email use \\<>  <anilkumar_t@apssdc.in>\n",
    "\n",
    "[Jupyter Logo](JupyterLogo.png)\n",
    "![Jupyter Logo](JupyterLogo.png)\n",
    "\n",
    "\n",
    "<img src=\"JupyterLogo.png\" style=\"float:left\" width=\"500\" height=\"500\">"
   ]
  },
  {
   "cell_type": "markdown",
   "metadata": {},
   "source": [
    "### Introduction to Python\n",
    "#### Python 3.7\n",
    "\n",
    "\n",
    "- Scripting Language\n",
    "- Object Oriented\n",
    "- "
   ]
  },
  {
   "cell_type": "code",
   "execution_count": 7,
   "metadata": {
    "scrolled": true
   },
   "outputs": [
    {
     "name": "stdout",
     "output_type": "stream",
     "text": [
      "Hello Peter ! Good Evening Python\n"
     ]
    }
   ],
   "source": [
    "# hash will be used to comment a single comment\n",
    "\n",
    "print(\"Hello Peter !\",end=' ') # Basic Output\n",
    "print(\"Good Evening Python\")"
   ]
  },
  {
   "cell_type": "code",
   "execution_count": null,
   "metadata": {},
   "outputs": [],
   "source": []
  },
  {
   "cell_type": "markdown",
   "metadata": {},
   "source": [
    "### Assignment Operator"
   ]
  },
  {
   "cell_type": "code",
   "execution_count": 27,
   "metadata": {},
   "outputs": [
    {
     "name": "stdout",
     "output_type": "stream",
     "text": [
      "222 333 444\n"
     ]
    }
   ],
   "source": [
    "n1=10 # Single Variable assignment\n",
    "\n",
    "n2 = n3 = n4 = n1 # Multi-Variiables assignment with same value\n",
    "\n",
    "a,b,c=222,333,444 # Multi-Variiables assignment with Multible values\n",
    "\n",
    "print(a,b,c)"
   ]
  },
  {
   "cell_type": "code",
   "execution_count": null,
   "metadata": {},
   "outputs": [],
   "source": []
  },
  {
   "cell_type": "markdown",
   "metadata": {},
   "source": [
    "### Data Types and Type Conversions\n",
    "\n",
    "- int\n",
    "- float\n",
    "- strings"
   ]
  },
  {
   "cell_type": "code",
   "execution_count": 35,
   "metadata": {},
   "outputs": [
    {
     "name": "stdout",
     "output_type": "stream",
     "text": [
      "<class 'int'>\n",
      "<class 'float'>\n",
      "<class 'str'>\n"
     ]
    }
   ],
   "source": [
    "print(type(a))\n",
    "\n",
    "x=12.4\n",
    "y=\"Anil Peter\"\n",
    "\n",
    "print(type(x))\n",
    "\n",
    "print(type(y))\n"
   ]
  },
  {
   "cell_type": "markdown",
   "metadata": {},
   "source": [
    "### Arthimetic Operations \n",
    "\n",
    "- +\n",
    "- -\n",
    "- *\n",
    "- /\n",
    "- %\n",
    "- **"
   ]
  },
  {
   "cell_type": "code",
   "execution_count": 34,
   "metadata": {},
   "outputs": [
    {
     "name": "stdout",
     "output_type": "stream",
     "text": [
      "<class 'int'>\n",
      "100000\n"
     ]
    }
   ],
   "source": [
    "n1%6\n",
    "\n",
    "n3=n2**99999\n",
    "\n",
    "print(type(n3))\n",
    "\n",
    "print(len(str(n3)))"
   ]
  },
  {
   "cell_type": "code",
   "execution_count": null,
   "metadata": {},
   "outputs": [],
   "source": []
  },
  {
   "cell_type": "markdown",
   "metadata": {},
   "source": [
    "### Relational Operators\n",
    "\n",
    "- ==\n",
    "- !=\n",
    "- \\>\n",
    "- \\<\n",
    "- \\<=\n",
    "- \\>="
   ]
  },
  {
   "cell_type": "code",
   "execution_count": null,
   "metadata": {},
   "outputs": [],
   "source": []
  },
  {
   "cell_type": "markdown",
   "metadata": {},
   "source": [
    "### Control Statements\n",
    "\n",
    "if\n",
    "elif\n",
    "else"
   ]
  },
  {
   "cell_type": "code",
   "execution_count": 41,
   "metadata": {},
   "outputs": [
    {
     "name": "stdout",
     "output_type": "stream",
     "text": [
      "a is big\n"
     ]
    }
   ],
   "source": [
    "if a<b:\n",
    "    print(\"a is big\")\n",
    "else:\n",
    "    print(\"b is big\")"
   ]
  },
  {
   "cell_type": "code",
   "execution_count": null,
   "metadata": {},
   "outputs": [],
   "source": []
  },
  {
   "cell_type": "code",
   "execution_count": null,
   "metadata": {},
   "outputs": [],
   "source": []
  },
  {
   "cell_type": "code",
   "execution_count": null,
   "metadata": {},
   "outputs": [],
   "source": []
  },
  {
   "cell_type": "code",
   "execution_count": null,
   "metadata": {},
   "outputs": [],
   "source": []
  },
  {
   "cell_type": "code",
   "execution_count": null,
   "metadata": {},
   "outputs": [],
   "source": []
  },
  {
   "cell_type": "code",
   "execution_count": null,
   "metadata": {},
   "outputs": [],
   "source": []
  }
 ],
 "metadata": {
  "kernelspec": {
   "display_name": "Python 3",
   "language": "python",
   "name": "python3"
  },
  "language_info": {
   "codemirror_mode": {
    "name": "ipython",
    "version": 3
   },
   "file_extension": ".py",
   "mimetype": "text/x-python",
   "name": "python",
   "nbconvert_exporter": "python",
   "pygments_lexer": "ipython3",
   "version": "3.7.3"
  }
 },
 "nbformat": 4,
 "nbformat_minor": 2
}

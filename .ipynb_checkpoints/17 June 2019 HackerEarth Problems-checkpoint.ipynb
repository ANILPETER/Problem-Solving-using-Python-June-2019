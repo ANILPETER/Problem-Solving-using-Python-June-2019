{
 "cells": [
  {
   "cell_type": "markdown",
   "metadata": {},
   "source": [
    "### Find Product\n",
    "\n",
    "You have been given an array A of size N consisting of positive integers. You need to find and print the product of all the number in this array Modulo (10^9+7).\n",
    "\n",
    "**Input Format :**\n",
    "\n",
    "The first line contains a single integer N denoting the size of the array. The next line contains N space separated integers denoting the elements of the array\n",
    "\n",
    "**Output Format :**\n",
    "\n",
    "Print a single integer denoting the product of all the elements of the array Modulo .\n",
    "\n",
    "**SAMPLE INPUT**\n",
    "\n",
    "- 5\n",
    "- 1 2 3 4 5\n",
    "\n",
    "**SAMPLE OUTPUT**\n",
    "\n",
    "120"
   ]
  },
  {
   "cell_type": "code",
   "execution_count": 1,
   "metadata": {},
   "outputs": [
    {
     "name": "stdout",
     "output_type": "stream",
     "text": [
      "5\n",
      "1 2 3 4 5\n",
      "120\n"
     ]
    }
   ],
   "source": [
    "def FindProduct(x):\n",
    "    mul=1\n",
    "    for num in x.split():\n",
    "        mul=(mul*int(num))%((10**9)+7)\n",
    "    print(mul)\n",
    "    return\n",
    "\n",
    "N=int(input())\n",
    "\n",
    "data=input()\n",
    "\n",
    "FindProduct(data)"
   ]
  },
  {
   "cell_type": "code",
   "execution_count": null,
   "metadata": {},
   "outputs": [],
   "source": []
  },
  {
   "cell_type": "markdown",
   "metadata": {},
   "source": [
    "### Goki and his breakup\n",
    "\n",
    "Goki recently had a breakup, so he wants to have some more friends in his life. Goki has N people who he can be friends with, so he decides to choose among them according to their skills set Yi(1<=i<=n). He wants atleast X skills in his friends.\n",
    "Help Goki find his friends.\n",
    "\n",
    "**INPUT**\n",
    "\n",
    "- First line of the input contains an integer N denoting the number of people.\n",
    "- Next line contains a single integer X - denoting the minimum skill required to be Goki's friend. \n",
    "- Next n lines contain one integer Y - denoting the skill of ith person.\n",
    "\n",
    "**OUTPUT** \n",
    "\n",
    "For each person print if he can be friend with Goki. 'YES' (without quotes) if he can be friends with Goki else 'NO' (without quotes).\n",
    "\n",
    "**CONSTRAINTS**\n",
    "\n",
    "- 1<=N<=1000000\n",
    "- 1<=X,Y<=1000000\n",
    "\n",
    "**SAMPLE INPUT**\n",
    "\n",
    "5\n",
    "100\n",
    "- 110\n",
    "- 130\n",
    "- 90\n",
    "- 100\n",
    "- 45\n",
    "\n",
    "**SAMPLE OUTPUT**\n",
    "\n",
    "- YES\n",
    "- YES\n",
    "- NO\n",
    "- YES\n",
    "- NO"
   ]
  },
  {
   "cell_type": "code",
   "execution_count": 5,
   "metadata": {},
   "outputs": [
    {
     "name": "stdout",
     "output_type": "stream",
     "text": [
      "5\n",
      "100\n",
      "110\n",
      "YES\n",
      "130\n",
      "YES\n",
      "90\n",
      "NO\n",
      "100\n",
      "YES\n",
      "45\n",
      "NO\n"
     ]
    }
   ],
   "source": [
    "def GokiBreakup(Req,Val):\n",
    "    if Req<=Val:\n",
    "        print(\"YES\")\n",
    "    else:\n",
    "        print(\"NO\")\n",
    "\n",
    "\n",
    "N=int(input())\n",
    "req=int(input())\n",
    "\n",
    "for x in range(0,N):\n",
    "    val=int(input())\n",
    "    GokiBreakup(req,val)\n",
    "    \n"
   ]
  },
  {
   "cell_type": "code",
   "execution_count": null,
   "metadata": {},
   "outputs": [],
   "source": []
  },
  {
   "cell_type": "markdown",
   "metadata": {},
   "source": [
    "### Bricks Game\n",
    "\n",
    "Patlu and Motu works in a building construction, they have to put some number of bricks N from one place to another, and started doing their work. They decided , they end up with a fun challenge who will put the last brick.\n",
    "\n",
    "They to follow a simple rule, In the i'th round, Patlu puts i bricks whereas Motu puts ix2 bricks.\n",
    "\n",
    "There are only N bricks, you need to help find the challenge result to find who put the last brick.\n",
    "\n",
    "**Input:**\n",
    "\n",
    "First line contains an integer N.\n",
    "\n",
    "**Output:**\n",
    "\n",
    "Output \"Patlu\" (without the quotes) if Patlu puts the last bricks ,\"Motu\"(without the quotes) otherwise.\n",
    "\n",
    "**Constraints:**\n",
    "\n",
    "1 ≤ N ≤ 10000\n",
    "\n",
    "**SAMPLE INPUT**\n",
    "\n",
    "13\n",
    "\n",
    "**SAMPLE OUTPUT**\n",
    "\n",
    "Motu\n",
    "\n",
    "**Explanation**\n",
    "\n",
    "***Sample Explanation:***\n",
    "\n",
    "13 bricks are there :\n",
    "\n",
    "- Patlu Motu\n",
    "\n",
    "- 1 2\n",
    "\n",
    "- 2 4\n",
    "\n",
    "- 3 1 ( Only 1 remains)\n",
    "\n",
    "    Hence, Motu puts the last one."
   ]
  },
  {
   "cell_type": "code",
   "execution_count": 6,
   "metadata": {},
   "outputs": [
    {
     "name": "stdout",
     "output_type": "stream",
     "text": [
      "13\n",
      "Motu\n"
     ]
    }
   ],
   "source": [
    "## Partially Execuited\n",
    "\n",
    "def BricksGame(x):\n",
    "    if (x%3==0) or x==1:\n",
    "        print(\"Patlu\")\n",
    "    else:\n",
    "        print(\"Motu\")\n",
    "    return\n",
    "\n",
    "N=int(input())\n",
    "BricksGame(N)"
   ]
  },
  {
   "cell_type": "markdown",
   "metadata": {},
   "source": []
  },
  {
   "cell_type": "code",
   "execution_count": 3,
   "metadata": {},
   "outputs": [
    {
     "name": "stdout",
     "output_type": "stream",
     "text": [
      "3\n",
      "3 2\n",
      "5 2\n",
      "1 2\n",
      "3\n"
     ]
    }
   ],
   "source": [
    "def AmanSharma(x,d):\n",
    "    tofee=0\n",
    "    if(float(x)>=d):\n",
    "        tofee+=1\n",
    "    return tofee\n",
    "\n",
    "days=int(input())\n",
    "tofee1=0\n",
    "for x in range(0,days):  \n",
    "    x=input()\n",
    "    x=x.split()\n",
    "    r=int(x[0])\n",
    "    Hor=int(x[1])\n",
    "    \n",
    "    distance=2*(22/7)*r\n",
    "    capacity=Hor*100\n",
    "    \n",
    "    m=AmanSharma(capacity,distance)\n",
    "    tofee1+=m\n",
    "print(tofee1)"
   ]
  }
 ],
 "metadata": {
  "kernelspec": {
   "display_name": "Python 3",
   "language": "python",
   "name": "python3"
  },
  "language_info": {
   "codemirror_mode": {
    "name": "ipython",
    "version": 3
   },
   "file_extension": ".py",
   "mimetype": "text/x-python",
   "name": "python",
   "nbconvert_exporter": "python",
   "pygments_lexer": "ipython3",
   "version": "3.7.3"
  }
 },
 "nbformat": 4,
 "nbformat_minor": 2
}

{
 "cells": [
  {
   "cell_type": "markdown",
   "metadata": {},
   "source": [
    "### Introduction to Python\n",
    "#### Python 3.7\n",
    "\n",
    "\n",
    "- Scripting Language\n",
    "- Object Oriented\n",
    "- "
   ]
  },
  {
   "cell_type": "code",
   "execution_count": 7,
   "metadata": {
    "scrolled": true
   },
   "outputs": [
    {
     "name": "stdout",
     "output_type": "stream",
     "text": [
      "Hello Peter ! Good Evening Python\n"
     ]
    }
   ],
   "source": [
    "# hash will be used to comment a single comment\n",
    "\n",
    "print(\"Hello Peter !\",end=' ') # Basic Output\n",
    "print(\"Good Evening Python\")"
   ]
  },
  {
   "cell_type": "code",
   "execution_count": null,
   "metadata": {},
   "outputs": [],
   "source": []
  },
  {
   "cell_type": "markdown",
   "metadata": {},
   "source": [
    "### Assignment Operator"
   ]
  },
  {
   "cell_type": "code",
   "execution_count": 27,
   "metadata": {},
   "outputs": [
    {
     "name": "stdout",
     "output_type": "stream",
     "text": [
      "222 333 444\n"
     ]
    }
   ],
   "source": [
    "n1=10 # Single Variable assignment\n",
    "\n",
    "n2 = n3 = n4 = n1 # Multi-Variiables assignment with same value\n",
    "\n",
    "a,b,c=222,333,444 # Multi-Variiables assignment with Multible values\n",
    "\n",
    "print(a,b,c)"
   ]
  },
  {
   "cell_type": "code",
   "execution_count": null,
   "metadata": {},
   "outputs": [],
   "source": []
  },
  {
   "cell_type": "markdown",
   "metadata": {},
   "source": [
    "### Data Types and Type Conversions\n",
    "\n",
    "- int\n",
    "- float\n",
    "- strings"
   ]
  },
  {
   "cell_type": "code",
   "execution_count": 35,
   "metadata": {},
   "outputs": [
    {
     "name": "stdout",
     "output_type": "stream",
     "text": [
      "<class 'int'>\n",
      "<class 'float'>\n",
      "<class 'str'>\n"
     ]
    }
   ],
   "source": [
    "print(type(a))\n",
    "\n",
    "x=12.4\n",
    "y=\"Anil Peter\"\n",
    "\n",
    "print(type(x))\n",
    "\n",
    "print(type(y))\n"
   ]
  },
  {
   "cell_type": "markdown",
   "metadata": {},
   "source": [
    "### Arthimetic Operations \n",
    "\n",
    "- +\n",
    "- -\n",
    "- *\n",
    "- /\n",
    "- %\n",
    "- **"
   ]
  },
  {
   "cell_type": "code",
   "execution_count": 34,
   "metadata": {},
   "outputs": [
    {
     "name": "stdout",
     "output_type": "stream",
     "text": [
      "<class 'int'>\n",
      "100000\n"
     ]
    }
   ],
   "source": [
    "n1%6\n",
    "\n",
    "n3=n2**99999\n",
    "\n",
    "print(type(n3))\n",
    "\n",
    "print(len(str(n3)))"
   ]
  },
  {
   "cell_type": "code",
   "execution_count": null,
   "metadata": {},
   "outputs": [],
   "source": []
  },
  {
   "cell_type": "markdown",
   "metadata": {},
   "source": [
    "### Relational Operators\n",
    "\n",
    "- ==\n",
    "- !=\n",
    "- \\>\n",
    "- \\<\n",
    "- \\<=\n",
    "- \\>="
   ]
  },
  {
   "cell_type": "code",
   "execution_count": null,
   "metadata": {},
   "outputs": [],
   "source": []
  },
  {
   "cell_type": "markdown",
   "metadata": {},
   "source": [
    "### Control Statements\n",
    "\n",
    "if\n",
    "elif\n",
    "else"
   ]
  },
  {
   "cell_type": "code",
   "execution_count": 41,
   "metadata": {},
   "outputs": [
    {
     "name": "stdout",
     "output_type": "stream",
     "text": [
      "a is big\n"
     ]
    }
   ],
   "source": [
    "if a<b:\n",
    "    print(\"a is big\")\n",
    "else:\n",
    "    print(\"b is big\")"
   ]
  },
  {
   "cell_type": "code",
   "execution_count": 1,
   "metadata": {},
   "outputs": [
    {
     "name": "stdout",
     "output_type": "stream",
     "text": [
      "Odd\n"
     ]
    }
   ],
   "source": [
    "# Check the number is even or odd\n",
    "n=123\n",
    "if n%2==0:\n",
    "    print(\"Even\")\n",
    "else:\n",
    "    print(\"Odd\")"
   ]
  },
  {
   "cell_type": "code",
   "execution_count": 10,
   "metadata": {},
   "outputs": [
    {
     "name": "stdout",
     "output_type": "stream",
     "text": [
      "Enter First Value232\n",
      "Enter Second Value2312\n",
      "Enter Third Value234234\n",
      "Enter Third Value3432\n",
      "234234 is Biggest\n"
     ]
    }
   ],
   "source": [
    "# Biggest of three Inputs\n",
    "\n",
    "n1=int(input(\"Enter First Value\"))\n",
    "n2=int(input(\"Enter Second Value\"))\n",
    "n3=int(input(\"Enter Third Value\"))\n",
    "\n",
    "if n1>n2 and n1>n3:\n",
    "    print(n1,\"is Biggest\")\n",
    "elif n2>n3:\n",
    "    print(n2,\"is Biggest\")\n",
    "else:\n",
    "    print(n3,\"is Biggest\")\n"
   ]
  },
  {
   "cell_type": "code",
   "execution_count": null,
   "metadata": {},
   "outputs": [],
   "source": []
  },
  {
   "cell_type": "code",
   "execution_count": 5,
   "metadata": {},
   "outputs": [
    {
     "name": "stdout",
     "output_type": "stream",
     "text": [
      "Enter a Year2016\n",
      "2016 is an leap year\n"
     ]
    }
   ],
   "source": [
    "# Check weather the input year is Leap Year or not\n",
    "\n",
    "year= int(input(\"Enter a Year\"))\n",
    "if((year%100!=0 and year%4==0) or year%400==0):\n",
    "    print(year, \"is an leap year\")\n",
    "else:\n",
    "    print(year,\"is not a leap year\")"
   ]
  },
  {
   "cell_type": "code",
   "execution_count": null,
   "metadata": {},
   "outputs": [],
   "source": [
    "# Check weather the given input is between the given ramges\n",
    "n1=int(input(\"Enter a number\"))\n",
    "lb=int(input(\"ENter the lower boundary\"))\n",
    "ub=int(input(\"ENter the upper boundary\"))\n",
    "if (n1<=ub and n1<=lb):\n",
    "    print(\"Given input is between the boundary\")\n",
    "else:\n",
    "    print(\"Given input is not between the boundary\")"
   ]
  },
  {
   "cell_type": "code",
   "execution_count": 16,
   "metadata": {
    "scrolled": true
   },
   "outputs": [
    {
     "name": "stdout",
     "output_type": "stream",
     "text": [
      "Enter a number3243254354654\n",
      "13\n"
     ]
    }
   ],
   "source": [
    "x=input(\"Enter a number\")\n",
    "print(len(x))"
   ]
  },
  {
   "cell_type": "code",
   "execution_count": null,
   "metadata": {},
   "outputs": [],
   "source": [
    "# Check if the given number is multiple of ten\n",
    "n1=int(input(\"Enter a number\"))\n",
    "\n",
    "if (n1%10==0):\n",
    "    print(n1,\"is the multiple of 10\")\n",
    "else:\n",
    "    print(ni,\"is the not multiple of 10\")"
   ]
  },
  {
   "cell_type": "code",
   "execution_count": 16,
   "metadata": {},
   "outputs": [
    {
     "name": "stdout",
     "output_type": "stream",
     "text": [
      "Enter a number30\n",
      "30 is factor of 1000\n"
     ]
    }
   ],
   "source": [
    "# check if a number is factor of 1000\n",
    "n1=int(input(\"Enter a number\"))\n",
    "if n1%10==0:\n",
    "    print(n1,\"is factor of 1000\")"
   ]
  },
  {
   "cell_type": "code",
   "execution_count": 17,
   "metadata": {},
   "outputs": [
    {
     "name": "stdout",
     "output_type": "stream",
     "text": [
      "Enter a number4\n",
      "The Square Root of  4 is 2.0\n"
     ]
    }
   ],
   "source": [
    "# Calculate the square root of the given number without using any functions\\\n",
    "n1=int(input(\"Enter a number\"))\n",
    "n2=1/2\n",
    "print(\"The Square Root of\", n1 ,\"is\",n1**n2)\n",
    "\n",
    "\n"
   ]
  },
  {
   "cell_type": "code",
   "execution_count": 13,
   "metadata": {},
   "outputs": [
    {
     "name": "stdout",
     "output_type": "stream",
     "text": [
      "Enter a Year2019\n",
      "31536000000000000 NanoSeconds\n"
     ]
    }
   ],
   "source": [
    "#Calculate the number of nanoseconds in the given year(consider the leap year)\n",
    "\n",
    "year= int(input(\"Enter a Year\"))\n",
    "if((year%100!=0 and year%4==0) or year%400==0):\n",
    "    print(366*24*60*60*(10**(9)),\"NanoSeconds\")\n",
    "else:\n",
    "    print(365*24*60*60*(10**(9)),\"NanoSeconds\")\n"
   ]
  },
  {
   "cell_type": "code",
   "execution_count": null,
   "metadata": {},
   "outputs": [],
   "source": []
  }
 ],
 "metadata": {
  "kernelspec": {
   "display_name": "Python 3",
   "language": "python",
   "name": "python3"
  },
  "language_info": {
   "codemirror_mode": {
    "name": "ipython",
    "version": 3
   },
   "file_extension": ".py",
   "mimetype": "text/x-python",
   "name": "python",
   "nbconvert_exporter": "python",
   "pygments_lexer": "ipython3",
   "version": "3.7.3"
  }
 },
 "nbformat": 4,
 "nbformat_minor": 2
}

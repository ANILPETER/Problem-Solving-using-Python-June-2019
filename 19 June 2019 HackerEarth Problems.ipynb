{
 "cells": [
  {
   "cell_type": "markdown",
   "metadata": {},
   "source": [
    "### Birthday Party\n",
    "\n",
    "Mr. X's birthday is in next month. This time he is planning to invite N of his friends. He wants to distribute some chocolates to all of his friends after party. He went to a shop to buy a packet of chocolates.\n",
    "At chocolate shop, each packet is having different number of chocolates. He wants to buy such a packet which contains number of chocolates, which can be distributed equally among all of his friends.\n",
    "Help Mr. X to buy such a packet.\n",
    "\n",
    "**Input:**\n",
    "\n",
    "First line contains T, number of test cases.\n",
    "Each test case contains two integers, N and M. where is N is number of friends and M is number number of chocolates in a packet.\n",
    "\n",
    "**Output:**\n",
    "\n",
    "In each test case output \"Yes\" if he can buy that packet and \"No\" if he can't buy that packet.\n",
    "\n",
    "**Constraints:**\n",
    "\n",
    "- 1<=T<=20\n",
    "- 1<=N<=100\n",
    "- 1<=M<=10^5\n",
    "\n",
    "**SAMPLE INPUT**\n",
    "\n",
    "- 2\n",
    "- 5 14\n",
    "- 3 21\n",
    "\n",
    "**SAMPLE OUTPUT**\n",
    "\n",
    "- No\n",
    "- Yes\n",
    "\n",
    "**Explanation**\n",
    "\n",
    "**Test Case 1:**\n",
    "\n",
    "There is no way such that he can distribute 14 chocolates among 5 friends equally. \n",
    "\n",
    "**Test Case 2:**\n",
    "\n",
    "There are 21 chocolates and 3 friends, so he can distribute chocolates eqally. Each friend will get 7 chocolates."
   ]
  },
  {
   "cell_type": "code",
   "execution_count": null,
   "metadata": {},
   "outputs": [],
   "source": []
  },
  {
   "cell_type": "code",
   "execution_count": 2,
   "metadata": {},
   "outputs": [
    {
     "name": "stdout",
     "output_type": "stream",
     "text": [
      "2\n",
      "5 14\n",
      "No\n",
      "3 21\n",
      "Yes\n"
     ]
    }
   ],
   "source": [
    "def BirthdayParty(Friends,Chocolates):\n",
    "    if (Chocolates%Friends)==0:\n",
    "        print(\"Yes\")\n",
    "    else:\n",
    "        print(\"No\")\n",
    "\n",
    "Test=int(input())\n",
    "for x in range(0,Test):\n",
    "    TC=input().split()\n",
    "    BirthdayParty(int(TC[0]),int(TC[1]))"
   ]
  },
  {
   "cell_type": "code",
   "execution_count": null,
   "metadata": {},
   "outputs": [],
   "source": []
  },
  {
   "cell_type": "markdown",
   "metadata": {},
   "source": [
    "### Seating Arrangement\n",
    "\n",
    "<img src=\"Seating Arrangements.jpg\">\n",
    "\n",
    "\n",
    "So they got interested to know the seat number facing them and the seat type facing them. The seats are denoted as follows : \n",
    "\n",
    "- Window Seat : WS\n",
    "- Middle Seat : MS\n",
    "- Aisle Seat : AS\n",
    "\n",
    "You will be given a seat number, find out the seat number facing you and the seat type, i.e. WS, MS or AS.\n",
    "\n",
    "**INPUT**\n",
    "\n",
    "First line of input will consist of a single integer T denoting number of test-cases. Each test-case consists of a single integer N denoting the seat-number.\n",
    "\n",
    "**OUTPUT**\n",
    "\n",
    "For each test case, print the facing seat-number and the seat-type, separated by a single space in a new line.\n",
    "\n",
    "**CONSTRAINTS**\n",
    "\n",
    "- 1<=T<=105\n",
    "- 1<=N<=108\n",
    "\n",
    "**SAMPLE INPUT**\n",
    "\n",
    "- 2\n",
    "- 18\n",
    "- 40\n",
    "\n",
    "**SAMPLE OUTPUT**\n",
    "\n",
    "- 19 WS\n",
    "- 45 AS"
   ]
  },
  {
   "cell_type": "code",
   "execution_count": 3,
   "metadata": {},
   "outputs": [
    {
     "name": "stdout",
     "output_type": "stream",
     "text": [
      "2\n",
      "18\n",
      "19 WS\n",
      "40\n",
      "45 AS\n"
     ]
    }
   ],
   "source": [
    "WS1=[];WS2=[];MS1=[];MS2=[];AS1=[];AS2=[]\n",
    "for x in range(1,109):\n",
    "    if (x%6==0 and x%12!=0) or (x%6==1 and x%12!=1):\n",
    "        WS1.append(x)\n",
    "    elif (x%12==0 and x%6!=1) or (x%12==1 and x%6!=0):\n",
    "        WS2.append(x)\n",
    "    elif (x%12==2)or(x%12==11):\n",
    "        MS1.append(x)\n",
    "    elif(x%12==5)or x%12==8:\n",
    "        MS2.append(x)\n",
    "    elif x%12==3 or x%12==10:\n",
    "        AS1.append(x)\n",
    "    elif x%12==4 or x%12==9:\n",
    "        AS2.append(x)\n",
    "T=int(input())\n",
    "for x in range(0,T):\n",
    "    N=int(input())\n",
    "    if N in WS1:\n",
    "        if WS1.index(N)%2==0:\n",
    "            print(WS1[WS1.index(N)+1],\"WS\")\n",
    "        else:\n",
    "            print(WS1[WS1.index(N)-1],\"WS\")\n",
    "    elif N in WS2:\n",
    "        if WS2.index(N)%2==0:\n",
    "            print(WS2[WS2.index(N)+1],\"WS\")\n",
    "        else:\n",
    "            print(WS2[WS2.index(N)-1],\"WS\")\n",
    "    elif N in AS1:\n",
    "        if AS1.index(N)%2==0:\n",
    "            print(AS1[AS1.index(N)+1],\"AS\")\n",
    "        else:\n",
    "            print(AS1[AS1.index(N)-1],\"AS\")\n",
    "    elif N in AS2:\n",
    "        if AS2.index(N)%2==0:\n",
    "            print(AS2[AS2.index(N)+1],\"AS\")\n",
    "        else:\n",
    "            print(AS2[AS2.index(N)-1],\"AS\")\n",
    "    elif N in MS1:\n",
    "        if MS1.index(N)%2==0:\n",
    "            print(MS1[MS1.index(N)+1],\"MS\")\n",
    "        else:\n",
    "            print(MS1[MS1.index(N)-1],\"MS\")\n",
    "    elif N in MS2:\n",
    "        if MS2.index(N)%2==0:\n",
    "            print(MS2[MS2.index(N)+1],\"MS\")\n",
    "        else:\n",
    "            print(MS2[MS2.index(N)-1],\"MS\")"
   ]
  }
 ],
 "metadata": {
  "kernelspec": {
   "display_name": "Python 3",
   "language": "python",
   "name": "python3"
  },
  "language_info": {
   "codemirror_mode": {
    "name": "ipython",
    "version": 3
   },
   "file_extension": ".py",
   "mimetype": "text/x-python",
   "name": "python",
   "nbconvert_exporter": "python",
   "pygments_lexer": "ipython3",
   "version": "3.7.3"
  }
 },
 "nbformat": 4,
 "nbformat_minor": 2
}

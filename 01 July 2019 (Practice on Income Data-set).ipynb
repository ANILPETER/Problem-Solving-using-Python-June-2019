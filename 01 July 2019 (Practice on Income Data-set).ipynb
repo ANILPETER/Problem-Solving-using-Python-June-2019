{
 "cells": [
  {
   "cell_type": "markdown",
   "metadata": {},
   "source": [
    "### Day Objectives\n",
    "- Practice on Income Dataset\n",
    "    - Define functions for the following data points\n",
    "    - Average Income of all states from 2005 to 2013\n",
    "    - State with highest average income in the last three years\n",
    "    - State with lowest average income from 2007 to 2010(inclusive)\n",
    "    - Print the list of all states in the same line with average income less than California\n",
    "    - Print the names of states based on descending order of income in the year 2009\n",
    "    - State with the lowest recorded income from 2005 to 2013"
   ]
  },
  {
   "cell_type": "code",
   "execution_count": null,
   "metadata": {},
   "outputs": [],
   "source": []
  },
  {
   "cell_type": "code",
   "execution_count": 1,
   "metadata": {},
   "outputs": [
    {
     "data": {
      "text/html": [
       "<div>\n",
       "<style scoped>\n",
       "    .dataframe tbody tr th:only-of-type {\n",
       "        vertical-align: middle;\n",
       "    }\n",
       "\n",
       "    .dataframe tbody tr th {\n",
       "        vertical-align: top;\n",
       "    }\n",
       "\n",
       "    .dataframe thead th {\n",
       "        text-align: right;\n",
       "    }\n",
       "</style>\n",
       "<table border=\"1\" class=\"dataframe\">\n",
       "  <thead>\n",
       "    <tr style=\"text-align: right;\">\n",
       "      <th></th>\n",
       "      <th>GEOID</th>\n",
       "      <th>State</th>\n",
       "      <th>2005</th>\n",
       "      <th>2006</th>\n",
       "      <th>2007</th>\n",
       "      <th>2008</th>\n",
       "      <th>2009</th>\n",
       "      <th>2010</th>\n",
       "      <th>2011</th>\n",
       "      <th>2012</th>\n",
       "      <th>2013</th>\n",
       "    </tr>\n",
       "  </thead>\n",
       "  <tbody>\n",
       "    <tr>\n",
       "      <th>0</th>\n",
       "      <td>04000US01</td>\n",
       "      <td>Alabama</td>\n",
       "      <td>37150</td>\n",
       "      <td>37952</td>\n",
       "      <td>42212</td>\n",
       "      <td>44476</td>\n",
       "      <td>39980</td>\n",
       "      <td>40933</td>\n",
       "      <td>42590</td>\n",
       "      <td>43464</td>\n",
       "      <td>41381</td>\n",
       "    </tr>\n",
       "    <tr>\n",
       "      <th>1</th>\n",
       "      <td>04000US02</td>\n",
       "      <td>Alaska</td>\n",
       "      <td>55891</td>\n",
       "      <td>56418</td>\n",
       "      <td>62993</td>\n",
       "      <td>63989</td>\n",
       "      <td>61604</td>\n",
       "      <td>57848</td>\n",
       "      <td>57431</td>\n",
       "      <td>63648</td>\n",
       "      <td>61137</td>\n",
       "    </tr>\n",
       "    <tr>\n",
       "      <th>2</th>\n",
       "      <td>04000US04</td>\n",
       "      <td>Arizona</td>\n",
       "      <td>45245</td>\n",
       "      <td>46657</td>\n",
       "      <td>47215</td>\n",
       "      <td>46914</td>\n",
       "      <td>45739</td>\n",
       "      <td>46896</td>\n",
       "      <td>48621</td>\n",
       "      <td>47044</td>\n",
       "      <td>50602</td>\n",
       "    </tr>\n",
       "    <tr>\n",
       "      <th>3</th>\n",
       "      <td>04000US05</td>\n",
       "      <td>Arkansas</td>\n",
       "      <td>36658</td>\n",
       "      <td>37057</td>\n",
       "      <td>40795</td>\n",
       "      <td>39586</td>\n",
       "      <td>36538</td>\n",
       "      <td>38587</td>\n",
       "      <td>41302</td>\n",
       "      <td>39018</td>\n",
       "      <td>39919</td>\n",
       "    </tr>\n",
       "    <tr>\n",
       "      <th>4</th>\n",
       "      <td>04000US06</td>\n",
       "      <td>California</td>\n",
       "      <td>51755</td>\n",
       "      <td>55319</td>\n",
       "      <td>55734</td>\n",
       "      <td>57014</td>\n",
       "      <td>56134</td>\n",
       "      <td>54283</td>\n",
       "      <td>53367</td>\n",
       "      <td>57020</td>\n",
       "      <td>57528</td>\n",
       "    </tr>\n",
       "  </tbody>\n",
       "</table>\n",
       "</div>"
      ],
      "text/plain": [
       "       GEOID       State   2005   2006   2007   2008   2009   2010   2011  \\\n",
       "0  04000US01     Alabama  37150  37952  42212  44476  39980  40933  42590   \n",
       "1  04000US02      Alaska  55891  56418  62993  63989  61604  57848  57431   \n",
       "2  04000US04     Arizona  45245  46657  47215  46914  45739  46896  48621   \n",
       "3  04000US05    Arkansas  36658  37057  40795  39586  36538  38587  41302   \n",
       "4  04000US06  California  51755  55319  55734  57014  56134  54283  53367   \n",
       "\n",
       "    2012   2013  \n",
       "0  43464  41381  \n",
       "1  63648  61137  \n",
       "2  47044  50602  \n",
       "3  39018  39919  \n",
       "4  57020  57528  "
      ]
     },
     "execution_count": 1,
     "metadata": {},
     "output_type": "execute_result"
    }
   ],
   "source": [
    "import pandas as pd\n",
    "# Reading CSV files\n",
    "\n",
    "filepath='DataFiles/Income.csv.txt'\n",
    "\n",
    "incomedf=pd.read_csv(filepath)\n",
    "\n",
    "incomedf"
   ]
  },
  {
   "cell_type": "code",
   "execution_count": null,
   "metadata": {},
   "outputs": [],
   "source": []
  },
  {
   "cell_type": "code",
   "execution_count": 2,
   "metadata": {},
   "outputs": [],
   "source": [
    "def getRowIndex(df,rowkey):\n",
    "    for i in range(len(df.values)):\n",
    "        if df.values[i][0]==rowkey or df.values[i][1]==rowkey:\n",
    "            rowindex=i\n",
    "    return rowindex\n",
    "    \n",
    "def getColumnIndex(df,columnkey):\n",
    "    for i in range(len(df.columns)):\n",
    "        if df.columns[i]==columnkey:\n",
    "            columnindex=i\n",
    "    return columnindex"
   ]
  },
  {
   "cell_type": "code",
   "execution_count": null,
   "metadata": {},
   "outputs": [],
   "source": []
  },
  {
   "cell_type": "code",
   "execution_count": 5,
   "metadata": {},
   "outputs": [
    {
     "name": "stdout",
     "output_type": "stream",
     "text": [
      "Average income of all states from 2005 to 2013 is:  48524\n"
     ]
    }
   ],
   "source": [
    "#import numpy as np\n",
    "def AvgIncomeofDF(incomedf,sy,ey):\n",
    "    Average=[]\n",
    "    \n",
    "    l=ey-sy+1\n",
    "    for i in range(0,len(incomedf.values)):\n",
    "        s=sum(incomedf.values[i][sy:ey+1])\n",
    "        Average.append(s//l)\n",
    "    return Average\n",
    "\n",
    "sy=getColumnIndex(incomedf,'2005')\n",
    "ey=getColumnIndex(incomedf,'2013')\n",
    "AverageIncome=AvgIncomeofDF(incomedf,sy,ey)\n",
    "print(\"Average income of all states from 2005 to 2013 is: \",sum(AverageIncome)//len(AverageIncome))"
   ]
  },
  {
   "cell_type": "code",
   "execution_count": null,
   "metadata": {},
   "outputs": [],
   "source": []
  },
  {
   "cell_type": "code",
   "execution_count": 6,
   "metadata": {},
   "outputs": [
    {
     "name": "stdout",
     "output_type": "stream",
     "text": [
      "60738\n"
     ]
    },
    {
     "data": {
      "text/plain": [
       "'Alaska'"
      ]
     },
     "execution_count": 6,
     "metadata": {},
     "output_type": "execute_result"
    }
   ],
   "source": [
    "#State with highest average income in the last three years\n",
    "def HighestAverageIncome(incomedf,sy,ey):\n",
    "    AverageIncome=AvgIncomeofDF(incomedf,sy,ey)\n",
    "    \n",
    "    return AverageIncome\n",
    "\n",
    "\n",
    "sy=getColumnIndex(incomedf,incomedf.columns[len(incomedf.columns)-3])\n",
    "ey=getColumnIndex(incomedf,incomedf.columns[-1])\n",
    "HighestIncome=HighestAverageIncome(incomedf,sy,ey)\n",
    "\n",
    "print(max(HighestIncome))\n",
    "incomedf.values[HighestIncome.index(max(HighestIncome))][1]"
   ]
  },
  {
   "cell_type": "code",
   "execution_count": 7,
   "metadata": {},
   "outputs": [
    {
     "data": {
      "text/plain": [
       "'Arkansas'"
      ]
     },
     "execution_count": 7,
     "metadata": {},
     "output_type": "execute_result"
    }
   ],
   "source": [
    "# State with Lowest Average Income from 2007 to 2010\n",
    "def LowestAverageIncome(incomedf,sy,ey):\n",
    "    AverageIncome=AvgIncomeofDF(incomedf,sy,ey)\n",
    "    \n",
    "    return AverageIncome\n",
    "\n",
    "\n",
    "sy=getColumnIndex(incomedf,'2007')\n",
    "ey=getColumnIndex(incomedf,'2010')\n",
    "LowestIncome=LowestAverageIncome(incomedf,sy,ey)\n",
    "\n",
    "#HighestIncome.index(max(li))\n",
    "incomedf.values[LowestIncome.index(min(LowestIncome))][1]"
   ]
  },
  {
   "cell_type": "code",
   "execution_count": 8,
   "metadata": {},
   "outputs": [
    {
     "data": {
      "text/plain": [
       "['Alabama:41126', 'Arizona:47214', 'Arkansas:38828']"
      ]
     },
     "execution_count": 8,
     "metadata": {},
     "output_type": "execute_result"
    }
   ],
   "source": [
    "# Print the list of all states in the same line with average income less than California\n",
    "\n",
    "def AvgIncomeLessthanCalifornia(incomedf,sy,ey):\n",
    "    AverageIncome=AvgIncomeofDF(incomedf,sy,ey)\n",
    "    least=[]\n",
    "    CaliforniaAvgIncome=AverageIncome[4]\n",
    "    for income in AverageIncome:\n",
    "        if income<CaliforniaAvgIncome:\n",
    "            small=str(incomedf.values[AverageIncome.index(income)][1])+':'+str(income)\n",
    "            least.append(small)\n",
    "    return least\n",
    "\n",
    "sy=getColumnIndex(incomedf,'2005')\n",
    "ey=getColumnIndex(incomedf,'2013')\n",
    "\n",
    "\n",
    "AvgIncomeLessthanCalifornia(incomedf,sy,ey)"
   ]
  },
  {
   "cell_type": "code",
   "execution_count": null,
   "metadata": {},
   "outputs": [],
   "source": []
  },
  {
   "cell_type": "code",
   "execution_count": 9,
   "metadata": {},
   "outputs": [
    {
     "name": "stdout",
     "output_type": "stream",
     "text": [
      "Alaska\n",
      "California\n",
      "Arizona\n",
      "Alabama\n",
      "Arkansas\n"
     ]
    },
    {
     "data": {
      "text/plain": [
       "[61604, 56134, 45739, 39980, 36538]"
      ]
     },
     "execution_count": 9,
     "metadata": {},
     "output_type": "execute_result"
    }
   ],
   "source": [
    "# Print the names of states based on descending order of income in the year 2009\n",
    "def DescendingOrderIncome(incomedf,reqI):\n",
    "    incomelist=[]\n",
    "    for index in range(0,len(incomedf.values)):\n",
    "        incomelist.append(incomedf.values[index][reqI])\n",
    "    sortedincome=sorted(incomelist,reverse=True)\n",
    "    for inc in sortedincome:\n",
    "        print(incomedf.values[incomelist.index(inc)][1])\n",
    "    \n",
    "    return sortedincome\n",
    "    \n",
    "\n",
    "reqI=getColumnIndex(incomedf,'2009')\n",
    "DescendingOrderIncome(incomedf,reqI)"
   ]
  },
  {
   "cell_type": "code",
   "execution_count": 10,
   "metadata": {},
   "outputs": [
    {
     "data": {
      "text/plain": [
       "('Arkansas', 36538)"
      ]
     },
     "execution_count": 10,
     "metadata": {},
     "output_type": "execute_result"
    }
   ],
   "source": [
    "# State with the lowest recorded income from 2005 to 2013\n",
    "def LowestRecordedIncome(incomedf,si,ei):\n",
    "    minincome=[]\n",
    "    for index in range(0,len(incomedf.values)):\n",
    "        minincome.append(min(incomedf.values[index][si:]))\n",
    "    overallmin=min(minincome)\n",
    "    for i in range(0,len(incomedf.values)):\n",
    "        for j in range(0,len(incomedf.columns)):\n",
    "            if incomedf.loc[i][j]==overallmin:\n",
    "                rowIndex=i\n",
    "                break\n",
    "\n",
    "    \n",
    "    return incomedf.values[rowIndex][1],overallmin\n",
    "\n",
    "si=getColumnIndex(incomedf,'2005')\n",
    "ei=getColumnIndex(incomedf,'2013')\n",
    "LowestRecordedIncome(incomedf,si,ei)"
   ]
  },
  {
   "cell_type": "code",
   "execution_count": null,
   "metadata": {},
   "outputs": [],
   "source": []
  },
  {
   "cell_type": "code",
   "execution_count": null,
   "metadata": {},
   "outputs": [],
   "source": []
  },
  {
   "cell_type": "code",
   "execution_count": null,
   "metadata": {},
   "outputs": [],
   "source": []
  }
 ],
 "metadata": {
  "kernelspec": {
   "display_name": "Python 3",
   "language": "python",
   "name": "python3"
  },
  "language_info": {
   "codemirror_mode": {
    "name": "ipython",
    "version": 3
   },
   "file_extension": ".py",
   "mimetype": "text/x-python",
   "name": "python",
   "nbconvert_exporter": "python",
   "pygments_lexer": "ipython3",
   "version": "3.7.3"
  }
 },
 "nbformat": 4,
 "nbformat_minor": 2
}

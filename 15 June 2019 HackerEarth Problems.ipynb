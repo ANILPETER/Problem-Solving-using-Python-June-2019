{
 "cells": [
  {
   "cell_type": "markdown",
   "metadata": {},
   "source": [
    "### Count Divisors\n",
    "\n",
    "You have been given 3 integers - l, r and k. Find how many numbers between l and r (both inclusive) are divisible by k. You do not need to print these numbers, you just have to find their count.\n",
    "\n",
    "Input Format\n",
    "The first and only line of input contains 3 space separated integers l, r and k.\n",
    "\n",
    "**Output Format**\n",
    "\n",
    "Print the required answer on a single line.\n",
    "\n",
    "Constraints\n",
    "\n",
    "**SAMPLE INPUT :**\n",
    "- 1 10 1   \n",
    "\n",
    "**SAMPLE OUTPUT :** \n",
    "- 10\n",
    "\n",
    "                                        \n"
   ]
  },
  {
   "cell_type": "code",
   "execution_count": 1,
   "metadata": {
    "scrolled": true
   },
   "outputs": [
    {
     "name": "stdout",
     "output_type": "stream",
     "text": [
      "1 10 1\n",
      "10\n"
     ]
    }
   ],
   "source": [
    "def CountDivisors(l,r,k):\n",
    "    count=0\n",
    "    for x in range (l,r+1):\n",
    "        if x%k==0:\n",
    "            count+=1\n",
    "    print(count)\n",
    "    return\n",
    "\n",
    "li=input()\n",
    "li=li.split(\" \")\n",
    "l=int(li[0])\n",
    "r=int(li[1])\n",
    "k=int(li[2])\n",
    "\n",
    "CountDivisors(l,r,k)"
   ]
  },
  {
   "cell_type": "code",
   "execution_count": null,
   "metadata": {},
   "outputs": [],
   "source": []
  },
  {
   "cell_type": "markdown",
   "metadata": {},
   "source": [
    "### Factorial!\n",
    "\n",
    "You have been given a positive integer N. You need to find and print the Factorial of this number. The Factorial of a positive integer N refers to the product of all number in the range from 1 to N. You can read more about the factorial of a number here.\n",
    "\n",
    "**Input Format**\n",
    "\n",
    "The first and only line of the input contains a single integer N denoting the number whose factorial you need to find.\n",
    "\n",
    "**Output Format**\n",
    "\n",
    "Output a single line denoting the factorial of the number N.\n",
    "\n",
    "**SAMPLE INPUT** \n",
    "- 2\n",
    "\n",
    "**SAMPLE OUTPUT**\n",
    "- 2"
   ]
  },
  {
   "cell_type": "code",
   "execution_count": 2,
   "metadata": {
    "scrolled": true
   },
   "outputs": [
    {
     "name": "stdout",
     "output_type": "stream",
     "text": [
      "2\n",
      "2\n"
     ]
    }
   ],
   "source": [
    "def factorial(num):\n",
    "    fact=1\n",
    "    for x in range(1,num+1):\n",
    "        fact*=x\n",
    "    print(fact)\n",
    "    return\n",
    "    \n",
    "    \n",
    "    \n",
    "num=int(input())\n",
    "factorial(num)"
   ]
  },
  {
   "cell_type": "code",
   "execution_count": null,
   "metadata": {},
   "outputs": [],
   "source": []
  },
  {
   "cell_type": "markdown",
   "metadata": {},
   "source": [
    "### Toggle String\n",
    "\n",
    "You have been given a String S consisting of uppercase and lowercase English alphabets. You need to change the case of each alphabet in this String. That is, all the uppercase letters should be converted to lowercase and all the lowercase letters should be converted to uppercase. You need to then print the resultant String to output.\n",
    "\n",
    "**Input Format**\n",
    "\n",
    "The first and only line of input contains the String S\n",
    "\n",
    "**Output Format**\n",
    "\n",
    "Print the resultant String on a single line.\n",
    "\n",
    "\n",
    "\n",
    "**SAMPLE INPUT**\n",
    "\n",
    "abcdE\n",
    "\n",
    "**SAMPLE OUTPUT**\n",
    "\n",
    "ABCDe"
   ]
  },
  {
   "cell_type": "code",
   "execution_count": 3,
   "metadata": {},
   "outputs": [
    {
     "name": "stdout",
     "output_type": "stream",
     "text": [
      "abcdE\n",
      "ABCDe\n"
     ]
    }
   ],
   "source": [
    "def ToggleString(string):\n",
    "    print(string.swapcase())\n",
    "\n",
    "string=input()\n",
    "ToggleString(string)"
   ]
  },
  {
   "cell_type": "code",
   "execution_count": null,
   "metadata": {},
   "outputs": [],
   "source": []
  },
  {
   "cell_type": "markdown",
   "metadata": {},
   "source": [
    "###  Palindromic String\n",
    "\n",
    "You have been given a String S. You need to find and print whether this string is a palindrome or not. If yes, print \"YES\" (without quotes), else print \"NO\" (without quotes).\n",
    "\n",
    "**Input Format**\n",
    "\n",
    "The first and only line of input contains the String S. The String shall consist of lowercase English alphabets only.\n",
    "\n",
    "**Output Format**\n",
    "\n",
    "Print the required answer on a single line.\n",
    "\n",
    "**Note :** String S consists of lowercase English Alphabets only.\n",
    "\n",
    "\n",
    "**SAMPLE INPUT**\n",
    "\n",
    "aba\n",
    "\n",
    "**SAMPLE OUTPUT**\n",
    "\n",
    "YES"
   ]
  },
  {
   "cell_type": "code",
   "execution_count": 4,
   "metadata": {},
   "outputs": [
    {
     "name": "stdout",
     "output_type": "stream",
     "text": [
      "aba\n",
      "YES\n"
     ]
    }
   ],
   "source": [
    "def palindrome(string):\n",
    "    if(string==string[::-1]):\n",
    "        print('YES')\n",
    "    else:\n",
    "        print('NO')\n",
    "string=input()\n",
    "palindrome(string)"
   ]
  },
  {
   "cell_type": "code",
   "execution_count": null,
   "metadata": {},
   "outputs": [],
   "source": []
  },
  {
   "cell_type": "markdown",
   "metadata": {},
   "source": [
    "### Prime Number\n",
    "\n",
    "You are given an integer N. You need to print the series of all prime numbers till N.\n",
    "\n",
    "**Input Format**\n",
    "\n",
    "The first and only line of the input contains a single integer N denoting the number till where you need to find the series of prime number.\n",
    "\n",
    "**Output Format**\n",
    "\n",
    "Print the desired output in single line separated by spaces.\n",
    "\n",
    "**Constraints**\n",
    "\n",
    "1<=N<=1000\n",
    "\n",
    "**SAMPLE INPUT**\n",
    "\n",
    "9\n",
    "\n",
    "**SAMPLE OUTPUT**\n",
    "\n",
    "2 3 5 7"
   ]
  },
  {
   "cell_type": "code",
   "execution_count": 29,
   "metadata": {},
   "outputs": [
    {
     "name": "stdout",
     "output_type": "stream",
     "text": [
      "9\n",
      "2 3 5 7 "
     ]
    }
   ],
   "source": [
    "def Prime(m):\n",
    "    flag=True\n",
    "    for i in range(2,(m//2)+1):\n",
    "        if m%i==0:\n",
    "            flag=0\n",
    "            break\n",
    "        else:\n",
    "            flag=1\n",
    "    if flag:\n",
    "        print(m,end=' ')\n",
    "def NPrime(N):\n",
    "    for count in range(2,N+1):\n",
    "        Prime(count)\n",
    "\n",
    "num=int(input())\n",
    "NPrime(num)"
   ]
  },
  {
   "cell_type": "code",
   "execution_count": null,
   "metadata": {},
   "outputs": [],
   "source": []
  },
  {
   "cell_type": "markdown",
   "metadata": {},
   "source": [
    "### Two Strings\n",
    "\n",
    "Given two strings of equal length, you have to tell whether they both strings are identical.\n",
    "\n",
    "Two strings S1 and S2 are said to be identical, if any of the permutation of string S1 is equal to the string S2. See Sample explanation for more details.\n",
    "\n",
    "**Input:**\n",
    "\n",
    "First line, contains an intger 'T' denoting no. of test cases.\n",
    "Each test consists of a single line, containing two space separated strings S1 and S2 of equal length.\n",
    "\n",
    "**Output:**\n",
    "\n",
    "For each test case, if any of the permutation of string S1 is equal to the string S2 print YES else print NO.\n",
    "\n",
    "Constraints:\n",
    "\n",
    "1<= T <=100\n",
    "1<= |S1| = |S2| <= 10^5\n",
    "String is made up of lower case letters only.\n",
    "\n",
    "**Note :** Use Hashing Concept Only . Try to do it in O(string length) .\n",
    "\n",
    "**SAMPLE INPUT**\n",
    "\n",
    "3\n",
    "\n",
    "- sumit mitsu\n",
    "- ambuj jumba\n",
    "- abhi hibb\n",
    "\n",
    "**SAMPLE OUTPUT**\n",
    "\n",
    "- YES\n",
    "- YES\n",
    "- NO"
   ]
  },
  {
   "cell_type": "code",
   "execution_count": 7,
   "metadata": {
    "scrolled": true
   },
   "outputs": [
    {
     "name": "stdout",
     "output_type": "stream",
     "text": [
      "3\n",
      "sumit mitsu\n",
      "YES\n",
      "ambuj jumba\n",
      "YES\n",
      "abhi hibb\n",
      "NO\n"
     ]
    }
   ],
   "source": [
    "def TwoStrings(s1,s2):\n",
    "    y=0\n",
    "    for str2 in s2:\n",
    "        if (str2 in s1) and (s1.count(str2)==s2.count(str2)):\n",
    "            y=1\n",
    "        else:\n",
    "            print(\"NO\")\n",
    "            y=0\n",
    "            break\n",
    "    if y:\n",
    "        print(\"YES\")\n",
    "    return\n",
    "T=int(input())\n",
    "\n",
    "for x in range(0,T):\n",
    "    string=input()\n",
    "    string=string.split()\n",
    "    s1=string[0]\n",
    "    s2=string[1]\n",
    "    TwoStrings(s1,s2)"
   ]
  },
  {
   "cell_type": "code",
   "execution_count": null,
   "metadata": {},
   "outputs": [],
   "source": []
  },
  {
   "cell_type": "markdown",
   "metadata": {},
   "source": [
    "###  Duration\n",
    "\n",
    "Rahul is a very busy persion he dont wan't to waste his time . He keeps account of duration of each and every work. Now he don't even get time to calculate duration of works, So your job is to count the durations for each work and give it to rahul.\n",
    "\n",
    " \n",
    "\n",
    "**Input :**\n",
    "\n",
    "- First line will be given by N number of works\n",
    "- Next N line will be given SH,SM,EH and EM  each separated by space(SH=starting hr, SM=starting min, EH=ending hr, EM=ending min)\n",
    "\n",
    "**Output :**\n",
    "\n",
    "N lines with duration HH MM(hours and minutes separated by space)\n",
    "\n",
    "**SAMPLE INPUT**\n",
    "\n",
    "- 2\n",
    "- 1 44 2 14\n",
    "- 2 42 8 23\n",
    "\n",
    "**SAMPLE OUTPUT**\n",
    "- 0 30\n",
    "- 5 41"
   ]
  },
  {
   "cell_type": "code",
   "execution_count": 6,
   "metadata": {
    "scrolled": true
   },
   "outputs": [
    {
     "name": "stdout",
     "output_type": "stream",
     "text": [
      "2\n",
      "1 44 2 14\n",
      "0 30\n",
      "2 42 8 23\n",
      "5 41\n"
     ]
    }
   ],
   "source": [
    "def Duration(sh,sm,eh,em):\n",
    "\n",
    "    MM=60-sm+em\n",
    "    HH=abs(eh-sh)-1\n",
    "    if MM<60:\n",
    "        print(HH,MM) \n",
    "    else:\n",
    "        HH+=MM//60\n",
    "        MM=MM%60\n",
    "        print(HH,MM)\n",
    "        \n",
    "N=int(input())\n",
    "for x in range(0,N):\n",
    "    wt=input();time=[]\n",
    "    for x in wt.split():\n",
    "        time.append(int(x))\n",
    "    \n",
    "    Duration(time[0],time[1],time[2],time[3])\n"
   ]
  },
  {
   "cell_type": "code",
   "execution_count": null,
   "metadata": {},
   "outputs": [],
   "source": []
  },
  {
   "cell_type": "markdown",
   "metadata": {},
   "source": [
    "### Char Sum\n",
    "\n",
    "Consider All lowercase Alphabets of the English language. Here we consider each alphabet from a to z to have a certain weight. The weight of the alphabet a is considered to be 1, b to be 2, c to be 3 and so on until z has a weight of 26. In short, the weight of the alphabet a is 1, and the weight of all other alphabets is the weight of its previous alphabet + 1.\n",
    "\n",
    "Now, you have been given a String S consisting of lowercase English characters. You need to find the summation of weight of each character in this String.\n",
    "\n",
    "For example, Consider the String aba\n",
    "\n",
    "Here, the first character a has a weight of 1, the second character b has 2 and the third character a again has a weight of 1. So the summation here is equal to : 1+2+1=4\n",
    "\n",
    "**Input Format :**\n",
    "\n",
    "The first and only line of input contains the String S.\n",
    "\n",
    "**Output Format:**\n",
    "\n",
    "Print the required answer on a single line\n",
    "\n",
    "**Constraints :**\n",
    "\n",
    "1≤|S|≤100\n",
    "\n",
    "**SAMPLE INPUT**\n",
    "\n",
    "aba\n",
    "\n",
    "**SAMPLE OUTPUT**\n",
    "\n",
    "4"
   ]
  },
  {
   "cell_type": "code",
   "execution_count": 8,
   "metadata": {},
   "outputs": [
    {
     "name": "stdout",
     "output_type": "stream",
     "text": [
      "aba\n",
      "4\n"
     ]
    }
   ],
   "source": [
    "def CharSum(string):\n",
    "    sum1=0\n",
    "    for x in string:\n",
    "        num=ord(x)\n",
    "        x=num-96\n",
    "        sum1+=x\n",
    "    print(sum1)\n",
    "string=input()\n",
    "CharSum(string)"
   ]
  },
  {
   "cell_type": "code",
   "execution_count": null,
   "metadata": {},
   "outputs": [],
   "source": []
  },
  {
   "cell_type": "markdown",
   "metadata": {},
   "source": [
    "###  Play with numbers\n",
    "\n",
    "You are given an array of n numbers and q queries. For each query you have to print the floor of the expected value(mean) of the subarray from L to R.\n",
    "\n",
    "**Input :**\n",
    "\n",
    "- First line contains two integers N and Q denoting number of array elements and number of queries.\n",
    "\n",
    "- Next line contains N space seperated integers denoting array elements.\n",
    "\n",
    "- Next Q lines contain two integers L and R(indices of the array).\n",
    "\n",
    "**Output :\n",
    "\n",
    "print a single integer denoting the answer.\n",
    "\n",
    "**Constrints :**\n",
    "\n",
    "- 1<=N ,Q,L,R <=10^6\n",
    "- 1<= Array elements <= 10^9\n",
    "\n",
    "**NOTE:** Use Fast I/O\n",
    "\n",
    "\n",
    "**SAMPLE INPUT**\n",
    "\n",
    "- 5  3\n",
    "- 1 2 3 4 5\n",
    "- 1 3\n",
    "- 2 4\n",
    "- 2 5\n",
    "\n",
    "**SAMPLE OUTPUT :** \n",
    "\n",
    "- 2 \n",
    "- 3\n",
    "- 3"
   ]
  },
  {
   "cell_type": "code",
   "execution_count": 28,
   "metadata": {},
   "outputs": [
    {
     "name": "stdout",
     "output_type": "stream",
     "text": [
      "5 3\n",
      "1 2 3 4 5\n",
      "1 3\n",
      "2\n",
      "2 4\n",
      "3\n",
      "2 5\n",
      "3\n"
     ]
    }
   ],
   "source": [
    "# By ANIL PETER\n",
    "def PlayWithNumbers(ll,ul,num):\n",
    "    x=ul-1;y=ll-2\n",
    "    if y>=0:\n",
    "        print((int((num[ul-1]-num[ll-2])/(ul-ll+1))))\n",
    "    else:\n",
    "        print((int(num[x]/(ul-ll+1))))\n",
    "def split(list1):\n",
    "    final=[]\n",
    "    for x in list1.split():\n",
    "        final.append(int(x))\n",
    "    return final\n",
    "\n",
    "input1=split(input())\n",
    "N=int(input1[0])\n",
    "\n",
    "\n",
    "li=split(input())\n",
    "\n",
    "mx=[];my=0\n",
    "for x in range(0,len(li)):\n",
    "    my+=li[x]\n",
    "    mx.append(my)\n",
    "\n",
    "\n",
    "for x in range(0,input1[1]):\n",
    "    limit=input()\n",
    "    x=split(limit)\n",
    "    PlayWithNumbers((x[0]),(x[1]),mx)"
   ]
  },
  {
   "cell_type": "code",
   "execution_count": 31,
   "metadata": {},
   "outputs": [
    {
     "name": "stdout",
     "output_type": "stream",
     "text": [
      "5 3\n",
      "1 2 3 4 5\n",
      "1 3\n",
      "2\n",
      "2 4\n",
      "3\n",
      "2 5\n",
      "3\n"
     ]
    }
   ],
   "source": [
    "#Clear Description by Akash Sinha but same logic\n",
    "\n",
    "# Read no of array elements and no of queries\n",
    "n = input().split()\n",
    "n[0], n[1] = int(n[0]), int(n[1])\n",
    " \n",
    "# Read array elements\n",
    "a = input().split()\n",
    " \n",
    "sum = [] # Initialize cumulative sum array\n",
    " \n",
    "# Cumulative Sum\n",
    "for i in range(0, n[0]):\n",
    "    if i == 0:\n",
    "        sum.append(int(a[i]))\n",
    "    else:\n",
    "        sum.append(int(sum[i-1]) + int(a[i]))\n",
    " \n",
    "del a\n",
    "        \n",
    "# Read each query and calculate the average\n",
    "for k in range(0, n[1]):\n",
    "    inq = input().split()\n",
    "    i = int(inq[0])\n",
    "    j = int(inq[1])\n",
    "    if i > 1:\n",
    "        print((sum[j-1] - sum[i-2]) // (j-i+1))\n",
    "    else:\n",
    "        print(sum[j-1] // (j-i+1))"
   ]
  },
  {
   "cell_type": "code",
   "execution_count": null,
   "metadata": {
    "scrolled": false
   },
   "outputs": [],
   "source": []
  },
  {
   "cell_type": "code",
   "execution_count": 9,
   "metadata": {},
   "outputs": [
    {
     "name": "stdout",
     "output_type": "stream",
     "text": [
      "3694\n",
      "Patlu\n"
     ]
    }
   ],
   "source": [
    "data = int(input())\n",
    "y=data;\n",
    "x=3;\n",
    "z=1;\n",
    "\n",
    "while(True):\n",
    "    if(y>x):\n",
    "        y=y-x\n",
    "    else:\n",
    "        if(z<y):\n",
    "            print(\"Motu\")\n",
    "            break\n",
    "        else:\n",
    "            print(\"Patlu\")\n",
    "            break\n",
    "        x=x+3;\n",
    "        z=z+1;"
   ]
  },
  {
   "cell_type": "code",
   "execution_count": 10,
   "metadata": {},
   "outputs": [
    {
     "name": "stdout",
     "output_type": "stream",
     "text": [
      "1\n",
      "cde\n",
      "abc\n",
      "2\n"
     ]
    }
   ],
   "source": [
    "def Anagrams(s1,s2):\n",
    "    for x in s2:\n",
    "        count=0\n",
    "        \n",
    "        if x in s1:\n",
    "            continue\n",
    "        else:\n",
    "            count+=1\n",
    "    for x in s1:\n",
    "        if x in s2:\n",
    "            continue\n",
    "        else:\n",
    "            count+=1\n",
    "    print(count)\n",
    "\n",
    "n=int(input())\n",
    "for x in range(0,n):\n",
    "    s1=input()\n",
    "    s2=input()\n",
    "    Anagrams(s1,s2)"
   ]
  },
  {
   "cell_type": "code",
   "execution_count": null,
   "metadata": {},
   "outputs": [],
   "source": []
  },
  {
   "cell_type": "markdown",
   "metadata": {},
   "source": [
    "### Aman & Mr.Sharma\n",
    "\n",
    "On a distant planet far away from Earth lives a boy named Aman.He loves to run everyday.But his running distance is directly affected by how much horlicks his mother mixed in his milk today.If his mother has mixed x grams of horlicks,then Aman will be capable of running 100*x meters at most on that day.\n",
    "\n",
    "Aman's instructor, Mr.Sharma ,is a very strict yet very caring.Everyday he asks Aman to run around a circle of radius r once.If Aman is able to complete the circle,he would get a toffee.\n",
    "\n",
    "**Note :** Take value of pie=22/7.\n",
    "\n",
    "**CONSTRAINTS :**\n",
    "\n",
    "- 1<=d<105\n",
    "- 1<=r<106\n",
    "- 1<=x<=104\n",
    "\n",
    "**INPUT :**\n",
    "\n",
    "First line contains d,no. of days Aman goes to his instructor.Next d lines each contain r,radius of circle and x,amount of horlicks.\n",
    "\n",
    "**OUTPUT :**\n",
    "\n",
    "Print total number of toffees Aman would finally have at the end of d days.\n",
    "\n",
    "**SAMPLE INPUT**\n",
    "\n",
    "- 3\n",
    "- 3 2\n",
    "- 5 2\n",
    "- 1 2\n",
    "\n",
    "**SAMPLE OUTPUT** \n",
    "\n",
    "- 3\n"
   ]
  },
  {
   "cell_type": "code",
   "execution_count": null,
   "metadata": {},
   "outputs": [],
   "source": []
  },
  {
   "cell_type": "code",
   "execution_count": 21,
   "metadata": {},
   "outputs": [
    {
     "name": "stdout",
     "output_type": "stream",
     "text": [
      "0\n"
     ]
    }
   ],
   "source": [
    "'''\n",
    "# Sample code to perform I/O:\n",
    "\n",
    "name = input()                  # Reading input from STDIN\n",
    "print('Hi, %s.' % name)         # Writing output to STDOUT\n",
    "\n",
    "# Warning: Printing unwanted or ill-formatted data to output will cause the test cases to fail\n",
    "'''\n",
    "\n",
    "# Write your code here\n",
    "def Anagrams(s1,s2):\n",
    "    count=0;cot=0\n",
    "    s1=list(s1);s2=list(s2)\n",
    "    for x in s2:\n",
    "        if x in s1 or (s2.count(x)==s1.count(s1)):\n",
    "            s1.remove(x)\n",
    "            s2.remove(x)\n",
    "            continue\n",
    "        #elif s2.count(x)!=s1.count(s1):\n",
    "           # count+=(s2.count(x)+s1.count(s1))\n",
    "        else:\n",
    "            count+=1\n",
    "    for x in s1:\n",
    "        if x in s2 and (s2.count(x)==s1.count(s1)):\n",
    "            s1.remove(x)\n",
    "            s2.remove(x)\n",
    "            continue\n",
    "        else:\n",
    "            count+=1\n",
    "    print(s1)\n",
    "    print(s2)\n",
    "    print(count-cot)\n",
    "\n",
    "n=int(input())\n",
    "for x in range(0,n):\n",
    "    s1=input()\n",
    "    s2=input()\n",
    "    Anagrams(s1,s2)"
   ]
  },
  {
   "cell_type": "code",
   "execution_count": 1,
   "metadata": {},
   "outputs": [
    {
     "name": "stdout",
     "output_type": "stream",
     "text": [
      "19996\n",
      "3634\n"
     ]
    }
   ],
   "source": [
    "s1='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'\n",
    "s2='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'\n",
    "s1=list(s1)\n",
    "s2=list(s2)\n",
    "print(len(s1)+len(s2))\n",
    "for x in s2:\n",
    "    if x in s1 or (s2.count(x)==s1.count(x)):\n",
    "        s1.remove(x)\n",
    "        s2.remove(x)\n",
    "    if s2.count(x)>1:\n",
    "      s2.remove(x)\n",
    "for y in s1:\n",
    "    if y in s2 or (s2.count(y)==s1.count(y)):\n",
    "        s1.remove(y)\n",
    "        s2.remove(y)\n",
    "    if s2.count(x)>1:\n",
    "      s2.remove(x)\n",
    "print(len(s1)+len(s2))"
   ]
  },
  {
   "cell_type": "code",
   "execution_count": null,
   "metadata": {},
   "outputs": [],
   "source": []
  },
  {
   "cell_type": "code",
   "execution_count": 28,
   "metadata": {},
   "outputs": [
    {
     "name": "stdout",
     "output_type": "stream",
     "text": [
      "9998\n"
     ]
    }
   ],
   "source": [
    "s1='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'\n",
    "s2='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'\n",
    "s1=list(s1)\n",
    "s2=list(s2)\n",
    "m=0\n",
    "for x in range (0,len(s1)):\n",
    "    if ((s1[x] in s2)):\n",
    "        s2.remove(s1[x])\n",
    "        m+=1\n",
    "\n",
    "\n",
    "for x in range (0,len(s2)):\n",
    "    if ((s2[x] in s1)):\n",
    "        s1.remove(s2[x])\n",
    "        m+=1\n",
    "\n",
    "\n",
    "\n",
    "\n",
    "print(m)\n"
   ]
  },
  {
   "cell_type": "code",
   "execution_count": 20,
   "metadata": {},
   "outputs": [
    {
     "name": "stdout",
     "output_type": "stream",
     "text": [
      "590\n"
     ]
    }
   ],
   "source": [
    "s1='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'\n",
    "s2='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'\n",
    "\n",
    "\n",
    "a=list(s1)\n",
    "b=list(s2)\n",
    "k=0\n",
    "l1=len(a)\n",
    "l2=len(b)\n",
    "if(l1<=l2):\n",
    "    for i in range(l1):\n",
    "        if a[i] in b:\n",
    "            k=k+1\n",
    "            gh=b.index(a[i])\n",
    "            b[gh]='0'\n",
    "else:\n",
    "    for j in range(l2):\n",
    "        if b[j] in a:\n",
    "            k=k+1\n",
    "            gh=a.index(b[j])\n",
    "            a[gh]='0'\n",
    "print(l1+l2-2*k)"
   ]
  },
  {
   "cell_type": "code",
   "execution_count": 37,
   "metadata": {},
   "outputs": [
    {
     "name": "stdout",
     "output_type": "stream",
     "text": [
      "180\n",
      "1\n",
      "400 400\n",
      "ACCEPTED\n"
     ]
    }
   ],
   "source": [
    "def ProfilePictureSize(W,H,L):\n",
    "    if W>=L and H>=L:\n",
    "        if (W==L and H==L) or (W==H) :\n",
    "            print(\"ACCEPTED\")\n",
    "            \n",
    "        elif W!=H:\n",
    "            print(\"CROP IT\")\n",
    "    else:\n",
    "        print(\"UPLOAD ANOTHER\")\n",
    "\n",
    "L=int(input())\n",
    "N=int(input())\n",
    "\n",
    "for x in range(0,N):\n",
    "    photo=input().split()\n",
    "    ProfilePictureSize(int(photo[0]),int(photo[1]),L)"
   ]
  },
  {
   "cell_type": "code",
   "execution_count": null,
   "metadata": {},
   "outputs": [],
   "source": [
    "Num=input().split()\n",
    "Res=int(Num[1])\n",
    "mul=1\n",
    "if len(Res)==10:\n",
    "    for x in Res:\n",
    "        sum+=x*mul\n",
    "        Mul+=1\n",
    "    if mul%11==0:\n",
    "        print(\"Legal ISBN\")\n",
    "    else:\n",
    "        print(\"Illegal ISBN\")\n",
    "else:\n",
    "    print(\"Illegal ISBN\")\n"
   ]
  },
  {
   "cell_type": "code",
   "execution_count": 19,
   "metadata": {},
   "outputs": [
    {
     "name": "stdout",
     "output_type": "stream",
     "text": [
      "All-convoYs-9-be:Alert1.\n",
      "4\n",
      "Epp-gsrzsCw-3-fi:Epivx5.\n"
     ]
    }
   ],
   "source": [
    "string=input()\n",
    "N=int(input())\n",
    "res=\"\"\n",
    "\n",
    "for x in string:\n",
    "    if x.islower():\n",
    "        if ord(x)+N<=122:\n",
    "            res+=chr(ord(x)+N)\n",
    "        elif ord(x)+N>122:\n",
    "            z=ord(x)+N-122\n",
    "            res+=chr(z+96)\n",
    "    elif x.isupper():\n",
    "        if ord(x)+N<=90:\n",
    "            res+=chr(ord(x)+N)\n",
    "        elif ord(x)+N>90:\n",
    "            z=ord(x)+N-90\n",
    "            res+=chr(z+64)\n",
    "    elif x.isdigit():\n",
    "        if(int(x)>=0 and int(x)<=9):\n",
    "            if int(x)+N<=9:\n",
    "                res+=str(int(x)+N)\n",
    "            elif int(x)+N>9:\n",
    "                z=int(x)+N-10\n",
    "                res+=str(z)\n",
    "    else:\n",
    "        res+=x\n",
    "print(res)\n",
    "            "
   ]
  },
  {
   "cell_type": "code",
   "execution_count": null,
   "metadata": {},
   "outputs": [],
   "source": []
  },
  {
   "cell_type": "code",
   "execution_count": null,
   "metadata": {},
   "outputs": [],
   "source": []
  },
  {
   "cell_type": "code",
   "execution_count": null,
   "metadata": {},
   "outputs": [],
   "source": []
  },
  {
   "cell_type": "markdown",
   "metadata": {},
   "source": [
    "### Seating Arrangements "
   ]
  },
  {
   "cell_type": "code",
   "execution_count": 22,
   "metadata": {},
   "outputs": [
    {
     "name": "stdout",
     "output_type": "stream",
     "text": [
      "0\n"
     ]
    }
   ],
   "source": [
    "WS1=[];WS2=[];MS1=[];MS2=[];AS1=[];AS2=[]\n",
    "for x in range(1,109):\n",
    "    if (x%6==0 and x%12!=0) or (x%6==1 and x%12!=1):\n",
    "        WS1.append(x)\n",
    "    elif (x%12==0 and x%6!=1) or (x%12==1 and x%6!=0):\n",
    "        WS2.append(x)\n",
    "    elif (x%12==2)or(x%12==11):\n",
    "        MS1.append(x)\n",
    "    elif(x%12==5)or x%12==8:\n",
    "        MS2.append(x)\n",
    "    elif x%12==3 or x%12==10:\n",
    "        AS1.append(x)\n",
    "    elif x%12==4 or x%12==9:\n",
    "        AS2.append(x)\n",
    "T=int(input())\n",
    "for x in range(0,T):\n",
    "    N=int(input())\n",
    "    if N in WS1:\n",
    "        if WS1.index(N)%2==0:\n",
    "            print(WS1[WS1.index(N)+1],\"WS\")\n",
    "        else:\n",
    "            print(WS1[WS1.index(N)-1],\"WS\")\n",
    "    elif N in WS2:\n",
    "        if WS2.index(N)%2==0:\n",
    "            print(WS2[WS2.index(N)+1],\"WS\")\n",
    "        else:\n",
    "            print(WS2[WS2.index(N)-1],\"WS\")\n",
    "    elif N in AS1:\n",
    "        if AS1.index(N)%2==0:\n",
    "            print(AS1[AS1.index(N)+1],\"AS\")\n",
    "        else:\n",
    "            print(AS1[AS1.index(N)-1],\"AS\")\n",
    "    elif N in AS2:\n",
    "        if AS2.index(N)%2==0:\n",
    "            print(AS2[AS2.index(N)+1],\"AS\")\n",
    "        else:\n",
    "            print(AS2[AS2.index(N)-1],\"AS\")\n",
    "    elif N in MS1:\n",
    "        if MS1.index(N)%2==0:\n",
    "            print(MS1[MS1.index(N)+1],\"MS\")\n",
    "        else:\n",
    "            print(MS1[MS1.index(N)-1],\"MS\")\n",
    "    elif N in MS2:\n",
    "        if MS2.index(N)%2==0:\n",
    "            print(MS2[MS2.index(N)+1],\"MS\")\n",
    "        else:\n",
    "            print(MS2[MS2.index(N)-1],\"MS\")"
   ]
  },
  {
   "cell_type": "code",
   "execution_count": 14,
   "metadata": {},
   "outputs": [
    {
     "name": "stdout",
     "output_type": "stream",
     "text": [
      "0\n",
      "1\n"
     ]
    }
   ],
   "source": [
    "SevenSegment={0:6,1:2,2:5,3:5,4:4,5:5,6:6,7:3,8:7,9:6}\n",
    "\n",
    "inp=int(input())\n",
    "\n",
    "for keys,values in SevenSegment.items():\n",
    "    if inp==keys:\n",
    "        ext=values\n",
    "        break\n",
    "for values in SevenSegment.values():\n",
    "    if ext%values==0:\n",
    "        req=ext//values\n",
    "        break\n",
    "for x in range(0,req):\n",
    "    print(req)\n",
    "\n",
    "#SevenSegment()"
   ]
  },
  {
   "cell_type": "code",
   "execution_count": 20,
   "metadata": {},
   "outputs": [
    {
     "name": "stdout",
     "output_type": "stream",
     "text": [
      "1\n",
      "0\n",
      "6\n",
      "2\n",
      "6\n",
      "3\n",
      "6\n"
     ]
    }
   ],
   "source": [
    "def FSevenSegment(inp):\n",
    "    \n",
    "    SevenSegment={0:6,1:2,2:5,3:5,4:4,5:5,6:6,7:3,8:7,9:6}\n",
    "\n",
    "    for keys,values in SevenSegment.items():\n",
    "        if inp==keys:\n",
    "            num=values\n",
    "            #print(num)\n",
    "            break\n",
    "    for values in SevenSegment.values():\n",
    "        if num%values==0:\n",
    "            print(values)\n",
    "        \n",
    "test=int(input())\n",
    "for x in range(0,test):\n",
    "    inp=int(input())\n",
    "    FSevenSegment(inp)"
   ]
  },
  {
   "cell_type": "code",
   "execution_count": null,
   "metadata": {},
   "outputs": [],
   "source": [
    "\n"
   ]
  },
  {
   "cell_type": "code",
   "execution_count": null,
   "metadata": {},
   "outputs": [],
   "source": []
  }
 ],
 "metadata": {
  "kernelspec": {
   "display_name": "Python 3",
   "language": "python",
   "name": "python3"
  },
  "language_info": {
   "codemirror_mode": {
    "name": "ipython",
    "version": 3
   },
   "file_extension": ".py",
   "mimetype": "text/x-python",
   "name": "python",
   "nbconvert_exporter": "python",
   "pygments_lexer": "ipython3",
   "version": "3.7.3"
  }
 },
 "nbformat": 4,
 "nbformat_minor": 2
}

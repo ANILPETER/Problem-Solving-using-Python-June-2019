{
 "cells": [
  {
   "cell_type": "markdown",
   "metadata": {},
   "source": [
    "###  Lift queries\n",
    "\n",
    "\n",
    "There are 7 floors in BH3 and only 2 lifts. Initially Lift A is at the ground floor and Lift B at the top floor. Whenever someone calls the lift from N th floor, the lift closest to that floor comes to pick him up. If both the lifts are at equidistant from the N th floor, them the lift from the lower floor comes up.\n",
    "\n",
    "**INPUT**\n",
    "\n",
    "- First line contains a integer T denoting the number of test cases.\n",
    "- Next T lines contains a single integer N denoting the floor from which lift is called.\n",
    "\n",
    "**OUTPUT**\n",
    "\n",
    "Output T lines containing one character \"A\" if the first lift goes to N th floor or \"B\" for the second lift.\n",
    "\n",
    "**CONTRAINTS**\n",
    "\n",
    "- 0 <= N <= 7\n",
    "- 1 <= T <= 100000\n",
    "\n",
    "**SAMPLE INPUT**\n",
    "\n",
    "- 2\n",
    "- 3\n",
    "- 5\n",
    "\n",
    "**SAMPLE OUTPUT**\n",
    "\n",
    "- A\n",
    "- A"
   ]
  },
  {
   "cell_type": "code",
   "execution_count": 1,
   "metadata": {},
   "outputs": [
    {
     "name": "stdout",
     "output_type": "stream",
     "text": [
      "2\n",
      "3\n",
      "A\n",
      "5\n",
      "A\n"
     ]
    }
   ],
   "source": [
    "A=0\n",
    "B=7\n",
    "N=int(input())\n",
    "for x in range(0,N):\n",
    "    Floor=int(input())\n",
    "    if (Floor-A)<=(B-Floor):\n",
    "        A=Floor\n",
    "        print('A')\n",
    "    else:\n",
    "        B=Floor\n",
    "        print(\"B\")"
   ]
  },
  {
   "cell_type": "code",
   "execution_count": null,
   "metadata": {},
   "outputs": [],
   "source": []
  },
  {
   "cell_type": "markdown",
   "metadata": {},
   "source": [
    "### Life, the Universe, and Everything\n",
    "\n",
    "Your program is to use the brute-force approach in order to find the Answer to Life, the Universe, and Everything. More precisely... rewrite small numbers from input to output. Stop processing input after reading in the number 42. All numbers at input are integers of one or two digits.\n",
    "\n",
    "**SAMPLE INPUT**\n",
    "\n",
    "- 1\n",
    "- 2\n",
    "- 88\n",
    "- 42\n",
    "- 99\n",
    "\n",
    "**SAMPLE OUTPUT**\n",
    "\n",
    "- 1\n",
    "- 2\n",
    "- 88"
   ]
  },
  {
   "cell_type": "code",
   "execution_count": 2,
   "metadata": {},
   "outputs": [
    {
     "name": "stdout",
     "output_type": "stream",
     "text": [
      "1\n",
      "1\n",
      "2\n",
      "2\n",
      "88\n",
      "88\n",
      "42\n"
     ]
    }
   ],
   "source": [
    "N=int(input())\n",
    "\n",
    "while(N!=42):\n",
    "    \n",
    "    print(N)\n",
    "    N=int(input())\n",
    "    if N==42:\n",
    "        break"
   ]
  },
  {
   "cell_type": "code",
   "execution_count": null,
   "metadata": {},
   "outputs": [],
   "source": []
  },
  {
   "cell_type": "markdown",
   "metadata": {},
   "source": [
    "### Book of Potion making\n",
    "\n",
    "Harry wants to find Voldemort's potion making book but he is confused about how to get it.\n",
    "\n",
    "The book has a special ISBN(International Standard Book Number) which is  unique numeric book identifier only for Voldemort's book printed on it. The ISBN is based upon a 10-digit code. The ISBN is valid if:\n",
    "1xdigit1 + 2xdigit2 + 3xdigit3 + 4xdigit4 + 5xdigit5 + 6xdigit6 + 7xdigit7 + 8xdigit8 + 9xdigit9 + 10xdigit10 is divisible by 11.\n",
    "Help Harry to find the book!\n",
    "\n",
    "**Input:**\n",
    "\n",
    " Input the ISBN code as a 10-digit integer.\n",
    "\n",
    "**Output:**\n",
    "\n",
    "- If the ISBN is not a 10-digit integer, output the message “Illegal ISBN” and terminate the program.\n",
    "- If the number is 10-digit, extract the digits of the number and compute the sum as explained in the \n",
    "\n",
    "**Explanation.**\n",
    "\n",
    "If the sum is divisible by 11, output the message, “Legal ISBN”. If the sum is not divisible by 11, output the message, “Illegal ISBN”.\n",
    "\n",
    "**SAMPLE INPUT**\n",
    "\n",
    "1401601499\n",
    "\n",
    "**SAMPLE OUTPUT**\n",
    "\n",
    "Legal ISBN\n",
    "\n",
    "**Explanation**\n",
    "\n",
    "For an ISBN 1401601499\n",
    "\n",
    "Sum=1×1 + 2×4 + 3×0 + 4×1 + 5×6 + 6×0 + 7×1 + 8×4 + 9×9 + 10×9 = 253 which is divisible by 11."
   ]
  },
  {
   "cell_type": "code",
   "execution_count": 3,
   "metadata": {},
   "outputs": [
    {
     "name": "stdout",
     "output_type": "stream",
     "text": [
      "1401601499\n",
      "Legal ISBN\n"
     ]
    }
   ],
   "source": [
    "Res=input()\n",
    "mul=1;sum1=0\n",
    "if len(Res)==10:\n",
    "    for x in Res:\n",
    "        sum1=sum1+(int(x))*mul\n",
    "        mul+=1\n",
    "    if sum1%11==0:\n",
    "        print(\"Legal ISBN\")\n",
    "    else:\n",
    "        print(\"Illegal ISBN\")\n",
    "else:\n",
    "    print(\"Illegal ISBN\")"
   ]
  },
  {
   "cell_type": "code",
   "execution_count": null,
   "metadata": {},
   "outputs": [],
   "source": []
  },
  {
   "cell_type": "markdown",
   "metadata": {},
   "source": [
    "### Ladderophilia\n",
    "\n",
    "Aditya is fond of ladders. Everyday he goes through pictures of ladders online but unfortunately today he ran out of ladder pictures online. Write a program to print “ladder with N steps”, which he can use to get his daily dose of ladder love.\n",
    "\n",
    "**INPUT:**\n",
    "\n",
    "Input contains integer N, the number of steps in the ladder\n",
    "\n",
    "**OUTPUT:**\n",
    "\n",
    "Print the ladder with the gap between two side rails being 3 spaces(“   “).\n",
    "\n",
    "Check the sample output for format of printing the ladder.\n",
    "\n",
    "**CONSTRAINTS:**\n",
    "\n",
    "1<=N<=40\n",
    "\n",
    "**SAMPLE INPUT**\n",
    "\n",
    "4\n",
    "\n",
    "**SAMPLE OUTPUT**\n",
    "\n",
    "    *   *\n",
    "    *   *\n",
    "    *****\n",
    "    *   *\n",
    "    *   *\n",
    "    *****\n",
    "    *   *\n",
    "    *   *\n",
    "    *****\n",
    "    *   *\n",
    "    *   *\n",
    "    *****\n",
    "    *   *\n",
    "    *   *"
   ]
  },
  {
   "cell_type": "code",
   "execution_count": 4,
   "metadata": {},
   "outputs": [
    {
     "name": "stdout",
     "output_type": "stream",
     "text": [
      "4\n",
      "*   *\n",
      "*   *\n",
      "*****\n",
      "*   *\n",
      "*   *\n",
      "*****\n",
      "*   *\n",
      "*   *\n",
      "*****\n",
      "*   *\n",
      "*   *\n",
      "*****\n",
      "*   *\n",
      "*   *\n"
     ]
    }
   ],
   "source": [
    "N=int(input())\n",
    "\n",
    "for x in range(0,N+1):\n",
    "    print(\"*   *\")\n",
    "    print(\"*   *\")\n",
    "    if x<N:\n",
    "        print(\"*****\")"
   ]
  },
  {
   "cell_type": "code",
   "execution_count": null,
   "metadata": {},
   "outputs": [],
   "source": []
  },
  {
   "cell_type": "markdown",
   "metadata": {},
   "source": [
    "### Cipher\n",
    "\n",
    "Indian army is going to do a surprise attack on one of its enemies country. The President of India, the Supreme Commander of the Indian Army will be sending an alert message to all its commanding centers. As enemy would be monitoring the message, Indian army is going to encrypt(cipher) the message using basic encryption technique. A decoding key 'K' (number) would be sent secretly.\n",
    "\n",
    "You are assigned to develop a cipher program to encrypt the message. Your cipher must rotate every character in the message by a fixed number making it unreadable by enemies.\n",
    "\n",
    "Given a single line of string 'S' containing alpha, numeric and symbols, followed by a number '0<=N<=1000'. Encrypt and print the resulting string.\n",
    "\n",
    "**Note:** The cipher only encrypts Alpha and Numeric. (A-Z, a-z, and 0-9) . All Symbols, such as - , ; %, remain unencrypted.\n",
    "\n",
    "**SAMPLE INPUT**\n",
    "\n",
    "All-convoYs-9-be:Alert1.\n",
    "4\n",
    "\n",
    "**SAMPLE OUTPUT**\n",
    "\n",
    "Epp-gsrzsCw-3-fi:Epivx5."
   ]
  },
  {
   "cell_type": "code",
   "execution_count": 5,
   "metadata": {},
   "outputs": [
    {
     "name": "stdout",
     "output_type": "stream",
     "text": [
      "All-convoYs-9-be:Alert1.\n",
      "4\n",
      "Epp-gsrzsCw-3-fi:Epivx5.\n"
     ]
    }
   ],
   "source": [
    "string=input()\n",
    "N=int(input())\n",
    "res=\"\"\n",
    "\n",
    "N1=N%26\n",
    "N2=N%10\n",
    "\n",
    "for x in string:\n",
    "    if x.islower():\n",
    "        if ord(x)+N1<=122:\n",
    "            res+=chr(ord(x)+N1)\n",
    "        elif ord(x)+N1>122:\n",
    "            z=ord(x)+N1-122\n",
    "            res+=chr(z+96)\n",
    "    elif x.isupper():\n",
    "        if ord(x)+N1<=90:\n",
    "            res+=chr(ord(x)+N1)\n",
    "        elif ord(x)+N1>90:\n",
    "            z=ord(x)+N1-90\n",
    "            res+=chr(z+64)\n",
    "    elif x.isdigit():\n",
    "        if(ord(x)>=48 and ord(x)<=57):\n",
    "            if ord(x)+N2<=57:\n",
    "                res+=chr((ord(x)+N2))\n",
    "            elif ord(x)+N2>57:\n",
    "                z=ord(x)+N2-57\n",
    "                res+=chr(z+47)\n",
    "    else:\n",
    "        res+=x\n",
    "print(res)\n",
    "            "
   ]
  },
  {
   "cell_type": "code",
   "execution_count": null,
   "metadata": {},
   "outputs": [],
   "source": []
  },
  {
   "cell_type": "markdown",
   "metadata": {},
   "source": [
    "###  Ali and Helping innocent people\n",
    "\n",
    "Arpasland has surrounded by attackers. A truck enters the city. The driver claims the load is food and medicine from Iranians. Ali is one of the soldiers in Arpasland. He doubts about the truck, maybe it's from the siege. He knows that a tag is valid if the sum of every two consecutive digits of it is even and its letter is not a vowel. Determine if the tag of the truck is valid or not.\n",
    "\n",
    "We consider the letters \"A\",\"E\",\"I\",\"O\",\"U\",\"Y\" to be vowels for this problem.\n",
    "\n",
    "**Input Format**\n",
    "\n",
    "The first line contains a string of length 9. The format is \"DDXDDD-DD\", where D stands for a digit (non zero) and X is an uppercase english letter.\n",
    "\n",
    "**Output Format**\n",
    "\n",
    "Print \"valid\" (without quotes) if the tag is valid, print \"invalid\" otherwise (without quotes)\n",
    "\n",
    "**SAMPLE INPUT**\n",
    "\n",
    "12X345-67\n",
    "\n",
    "**SAMPLE OUTPUT**\n",
    "\n",
    "invalid"
   ]
  },
  {
   "cell_type": "code",
   "execution_count": 6,
   "metadata": {},
   "outputs": [
    {
     "name": "stdout",
     "output_type": "stream",
     "text": [
      "12X345-67\n",
      "invalid\n"
     ]
    }
   ],
   "source": [
    "string=list(input())\n",
    "y=0\n",
    "if string[6]=='-' and string[2] not in ['A','E','I','O','U','Y']:\n",
    "    string.remove(string[6])\n",
    "    string.remove(string[2])\n",
    "    sum1=[]\n",
    "    for x in range(0,len(string)-1):\n",
    "        if x==4 or x==1:\n",
    "            continue\n",
    "        else:\n",
    "            z=int(string[x])+int(string[x+1])\n",
    "            sum1.append(z)\n",
    "    for x in sum1:\n",
    "        if int(x)%2!=0:\n",
    "            print(\"invalid\")\n",
    "            y=0\n",
    "            break\n",
    "        else:\n",
    "            y=1\n",
    "    if y:\n",
    "        print(\"valid\")\n",
    "else:\n",
    "    print(\"invalid\")"
   ]
  }
 ],
 "metadata": {
  "kernelspec": {
   "display_name": "Python 3",
   "language": "python",
   "name": "python3"
  },
  "language_info": {
   "codemirror_mode": {
    "name": "ipython",
    "version": 3
   },
   "file_extension": ".py",
   "mimetype": "text/x-python",
   "name": "python",
   "nbconvert_exporter": "python",
   "pygments_lexer": "ipython3",
   "version": "3.7.3"
  }
 },
 "nbformat": 4,
 "nbformat_minor": 2
}
